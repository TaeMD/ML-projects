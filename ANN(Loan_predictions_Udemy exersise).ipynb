{
  "cells": [
    {
      "cell_type": "markdown",
      "metadata": {
        "id": "view-in-github",
        "colab_type": "text"
      },
      "source": [
        "<a href=\"https://colab.research.google.com/github/TaeMD/ML-projects/blob/main/ANN(Loan_predictions_Udemy%20exersise).ipynb\" target=\"_parent\"><img src=\"https://colab.research.google.com/assets/colab-badge.svg\" alt=\"Open In Colab\"/></a>"
      ]
    },
    {
      "cell_type": "code",
      "execution_count": null,
      "metadata": {
        "id": "Llsz30jw5Em2"
      },
      "outputs": [],
      "source": [
        "import pandas as pd\n",
        "import seaborn as sns\n",
        "import numpy as np\n",
        "import matplotlib.pyplot as plt"
      ]
    },
    {
      "cell_type": "code",
      "execution_count": null,
      "metadata": {
        "id": "T1t7dZO25H99"
      },
      "outputs": [],
      "source": [
        "df = pd.read_csv ('lending_club_loan_two.csv')"
      ]
    },
    {
      "cell_type": "code",
      "execution_count": null,
      "metadata": {
        "colab": {
          "base_uri": "https://localhost:8080/",
          "height": 400
        },
        "id": "ksWbVuyT5mCb",
        "outputId": "b73c1205-a07a-402e-ea31-f80e66a603ea"
      },
      "outputs": [
        {
          "data": {
            "text/html": [
              "<div>\n",
              "<style scoped>\n",
              "    .dataframe tbody tr th:only-of-type {\n",
              "        vertical-align: middle;\n",
              "    }\n",
              "\n",
              "    .dataframe tbody tr th {\n",
              "        vertical-align: top;\n",
              "    }\n",
              "\n",
              "    .dataframe thead th {\n",
              "        text-align: right;\n",
              "    }\n",
              "</style>\n",
              "<table border=\"1\" class=\"dataframe\">\n",
              "  <thead>\n",
              "    <tr style=\"text-align: right;\">\n",
              "      <th></th>\n",
              "      <th>loan_amnt</th>\n",
              "      <th>term</th>\n",
              "      <th>int_rate</th>\n",
              "      <th>installment</th>\n",
              "      <th>grade</th>\n",
              "      <th>sub_grade</th>\n",
              "      <th>emp_title</th>\n",
              "      <th>emp_length</th>\n",
              "      <th>home_ownership</th>\n",
              "      <th>annual_inc</th>\n",
              "      <th>...</th>\n",
              "      <th>open_acc</th>\n",
              "      <th>pub_rec</th>\n",
              "      <th>revol_bal</th>\n",
              "      <th>revol_util</th>\n",
              "      <th>total_acc</th>\n",
              "      <th>initial_list_status</th>\n",
              "      <th>application_type</th>\n",
              "      <th>mort_acc</th>\n",
              "      <th>pub_rec_bankruptcies</th>\n",
              "      <th>address</th>\n",
              "    </tr>\n",
              "  </thead>\n",
              "  <tbody>\n",
              "    <tr>\n",
              "      <th>0</th>\n",
              "      <td>10000.0</td>\n",
              "      <td>36 months</td>\n",
              "      <td>11.44</td>\n",
              "      <td>329.48</td>\n",
              "      <td>B</td>\n",
              "      <td>B4</td>\n",
              "      <td>Marketing</td>\n",
              "      <td>10+ years</td>\n",
              "      <td>RENT</td>\n",
              "      <td>117000.0</td>\n",
              "      <td>...</td>\n",
              "      <td>16.0</td>\n",
              "      <td>0.0</td>\n",
              "      <td>36369.0</td>\n",
              "      <td>41.8</td>\n",
              "      <td>25.0</td>\n",
              "      <td>w</td>\n",
              "      <td>INDIVIDUAL</td>\n",
              "      <td>0.0</td>\n",
              "      <td>0.0</td>\n",
              "      <td>0174 Michelle Gateway\\r\\nMendozaberg, OK 22690</td>\n",
              "    </tr>\n",
              "    <tr>\n",
              "      <th>1</th>\n",
              "      <td>8000.0</td>\n",
              "      <td>36 months</td>\n",
              "      <td>11.99</td>\n",
              "      <td>265.68</td>\n",
              "      <td>B</td>\n",
              "      <td>B5</td>\n",
              "      <td>Credit analyst</td>\n",
              "      <td>4 years</td>\n",
              "      <td>MORTGAGE</td>\n",
              "      <td>65000.0</td>\n",
              "      <td>...</td>\n",
              "      <td>17.0</td>\n",
              "      <td>0.0</td>\n",
              "      <td>20131.0</td>\n",
              "      <td>53.3</td>\n",
              "      <td>27.0</td>\n",
              "      <td>f</td>\n",
              "      <td>INDIVIDUAL</td>\n",
              "      <td>3.0</td>\n",
              "      <td>0.0</td>\n",
              "      <td>1076 Carney Fort Apt. 347\\r\\nLoganmouth, SD 05113</td>\n",
              "    </tr>\n",
              "    <tr>\n",
              "      <th>2</th>\n",
              "      <td>15600.0</td>\n",
              "      <td>36 months</td>\n",
              "      <td>10.49</td>\n",
              "      <td>506.97</td>\n",
              "      <td>B</td>\n",
              "      <td>B3</td>\n",
              "      <td>Statistician</td>\n",
              "      <td>&lt; 1 year</td>\n",
              "      <td>RENT</td>\n",
              "      <td>43057.0</td>\n",
              "      <td>...</td>\n",
              "      <td>13.0</td>\n",
              "      <td>0.0</td>\n",
              "      <td>11987.0</td>\n",
              "      <td>92.2</td>\n",
              "      <td>26.0</td>\n",
              "      <td>f</td>\n",
              "      <td>INDIVIDUAL</td>\n",
              "      <td>0.0</td>\n",
              "      <td>0.0</td>\n",
              "      <td>87025 Mark Dale Apt. 269\\r\\nNew Sabrina, WV 05113</td>\n",
              "    </tr>\n",
              "    <tr>\n",
              "      <th>3</th>\n",
              "      <td>7200.0</td>\n",
              "      <td>36 months</td>\n",
              "      <td>6.49</td>\n",
              "      <td>220.65</td>\n",
              "      <td>A</td>\n",
              "      <td>A2</td>\n",
              "      <td>Client Advocate</td>\n",
              "      <td>6 years</td>\n",
              "      <td>RENT</td>\n",
              "      <td>54000.0</td>\n",
              "      <td>...</td>\n",
              "      <td>6.0</td>\n",
              "      <td>0.0</td>\n",
              "      <td>5472.0</td>\n",
              "      <td>21.5</td>\n",
              "      <td>13.0</td>\n",
              "      <td>f</td>\n",
              "      <td>INDIVIDUAL</td>\n",
              "      <td>0.0</td>\n",
              "      <td>0.0</td>\n",
              "      <td>823 Reid Ford\\r\\nDelacruzside, MA 00813</td>\n",
              "    </tr>\n",
              "    <tr>\n",
              "      <th>4</th>\n",
              "      <td>24375.0</td>\n",
              "      <td>60 months</td>\n",
              "      <td>17.27</td>\n",
              "      <td>609.33</td>\n",
              "      <td>C</td>\n",
              "      <td>C5</td>\n",
              "      <td>Destiny Management Inc.</td>\n",
              "      <td>9 years</td>\n",
              "      <td>MORTGAGE</td>\n",
              "      <td>55000.0</td>\n",
              "      <td>...</td>\n",
              "      <td>13.0</td>\n",
              "      <td>0.0</td>\n",
              "      <td>24584.0</td>\n",
              "      <td>69.8</td>\n",
              "      <td>43.0</td>\n",
              "      <td>f</td>\n",
              "      <td>INDIVIDUAL</td>\n",
              "      <td>1.0</td>\n",
              "      <td>0.0</td>\n",
              "      <td>679 Luna Roads\\r\\nGreggshire, VA 11650</td>\n",
              "    </tr>\n",
              "  </tbody>\n",
              "</table>\n",
              "<p>5 rows × 27 columns</p>\n",
              "</div>"
            ],
            "text/plain": [
              "   loan_amnt        term  int_rate  installment grade sub_grade  \\\n",
              "0    10000.0   36 months     11.44       329.48     B        B4   \n",
              "1     8000.0   36 months     11.99       265.68     B        B5   \n",
              "2    15600.0   36 months     10.49       506.97     B        B3   \n",
              "3     7200.0   36 months      6.49       220.65     A        A2   \n",
              "4    24375.0   60 months     17.27       609.33     C        C5   \n",
              "\n",
              "                 emp_title emp_length home_ownership  annual_inc  ...  \\\n",
              "0                Marketing  10+ years           RENT    117000.0  ...   \n",
              "1          Credit analyst     4 years       MORTGAGE     65000.0  ...   \n",
              "2             Statistician   < 1 year           RENT     43057.0  ...   \n",
              "3          Client Advocate    6 years           RENT     54000.0  ...   \n",
              "4  Destiny Management Inc.    9 years       MORTGAGE     55000.0  ...   \n",
              "\n",
              "  open_acc pub_rec revol_bal revol_util total_acc  initial_list_status  \\\n",
              "0     16.0     0.0   36369.0       41.8      25.0                    w   \n",
              "1     17.0     0.0   20131.0       53.3      27.0                    f   \n",
              "2     13.0     0.0   11987.0       92.2      26.0                    f   \n",
              "3      6.0     0.0    5472.0       21.5      13.0                    f   \n",
              "4     13.0     0.0   24584.0       69.8      43.0                    f   \n",
              "\n",
              "  application_type  mort_acc  pub_rec_bankruptcies  \\\n",
              "0       INDIVIDUAL       0.0                   0.0   \n",
              "1       INDIVIDUAL       3.0                   0.0   \n",
              "2       INDIVIDUAL       0.0                   0.0   \n",
              "3       INDIVIDUAL       0.0                   0.0   \n",
              "4       INDIVIDUAL       1.0                   0.0   \n",
              "\n",
              "                                             address  \n",
              "0     0174 Michelle Gateway\\r\\nMendozaberg, OK 22690  \n",
              "1  1076 Carney Fort Apt. 347\\r\\nLoganmouth, SD 05113  \n",
              "2  87025 Mark Dale Apt. 269\\r\\nNew Sabrina, WV 05113  \n",
              "3            823 Reid Ford\\r\\nDelacruzside, MA 00813  \n",
              "4             679 Luna Roads\\r\\nGreggshire, VA 11650  \n",
              "\n",
              "[5 rows x 27 columns]"
            ]
          },
          "execution_count": 4,
          "metadata": {},
          "output_type": "execute_result"
        }
      ],
      "source": [
        "df.head()"
      ]
    },
    {
      "cell_type": "code",
      "execution_count": null,
      "metadata": {
        "colab": {
          "base_uri": "https://localhost:8080/"
        },
        "id": "eYHu1o_rhBMg",
        "outputId": "afe0657a-9a87-4d2c-921a-1bda0be91bec"
      },
      "outputs": [
        {
          "name": "stdout",
          "output_type": "stream",
          "text": [
            "<class 'pandas.core.frame.DataFrame'>\n",
            "RangeIndex: 396030 entries, 0 to 396029\n",
            "Data columns (total 27 columns):\n",
            " #   Column                Non-Null Count   Dtype  \n",
            "---  ------                --------------   -----  \n",
            " 0   loan_amnt             396030 non-null  float64\n",
            " 1   term                  396030 non-null  object \n",
            " 2   int_rate              396030 non-null  float64\n",
            " 3   installment           396030 non-null  float64\n",
            " 4   grade                 396030 non-null  object \n",
            " 5   sub_grade             396030 non-null  object \n",
            " 6   emp_title             373103 non-null  object \n",
            " 7   emp_length            377729 non-null  object \n",
            " 8   home_ownership        396030 non-null  object \n",
            " 9   annual_inc            396030 non-null  float64\n",
            " 10  verification_status   396030 non-null  object \n",
            " 11  issue_d               396030 non-null  object \n",
            " 12  loan_status           396030 non-null  object \n",
            " 13  purpose               396030 non-null  object \n",
            " 14  title                 394275 non-null  object \n",
            " 15  dti                   396030 non-null  float64\n",
            " 16  earliest_cr_line      396030 non-null  object \n",
            " 17  open_acc              396030 non-null  float64\n",
            " 18  pub_rec               396030 non-null  float64\n",
            " 19  revol_bal             396030 non-null  float64\n",
            " 20  revol_util            395754 non-null  float64\n",
            " 21  total_acc             396030 non-null  float64\n",
            " 22  initial_list_status   396030 non-null  object \n",
            " 23  application_type      396030 non-null  object \n",
            " 24  mort_acc              358235 non-null  float64\n",
            " 25  pub_rec_bankruptcies  395495 non-null  float64\n",
            " 26  address               396030 non-null  object \n",
            "dtypes: float64(12), object(15)\n",
            "memory usage: 81.6+ MB\n"
          ]
        }
      ],
      "source": [
        "df.info()"
      ]
    },
    {
      "cell_type": "code",
      "execution_count": null,
      "metadata": {
        "colab": {
          "base_uri": "https://localhost:8080/",
          "height": 317
        },
        "id": "25Kw24_vhs5_",
        "outputId": "f4f05186-a07d-43f7-d6e1-8e9fed4563eb"
      },
      "outputs": [
        {
          "data": {
            "text/html": [
              "<div>\n",
              "<style scoped>\n",
              "    .dataframe tbody tr th:only-of-type {\n",
              "        vertical-align: middle;\n",
              "    }\n",
              "\n",
              "    .dataframe tbody tr th {\n",
              "        vertical-align: top;\n",
              "    }\n",
              "\n",
              "    .dataframe thead th {\n",
              "        text-align: right;\n",
              "    }\n",
              "</style>\n",
              "<table border=\"1\" class=\"dataframe\">\n",
              "  <thead>\n",
              "    <tr style=\"text-align: right;\">\n",
              "      <th></th>\n",
              "      <th>loan_amnt</th>\n",
              "      <th>int_rate</th>\n",
              "      <th>installment</th>\n",
              "      <th>annual_inc</th>\n",
              "      <th>dti</th>\n",
              "      <th>open_acc</th>\n",
              "      <th>pub_rec</th>\n",
              "      <th>revol_bal</th>\n",
              "      <th>revol_util</th>\n",
              "      <th>total_acc</th>\n",
              "      <th>mort_acc</th>\n",
              "      <th>pub_rec_bankruptcies</th>\n",
              "    </tr>\n",
              "  </thead>\n",
              "  <tbody>\n",
              "    <tr>\n",
              "      <th>count</th>\n",
              "      <td>396030.000000</td>\n",
              "      <td>396030.000000</td>\n",
              "      <td>396030.000000</td>\n",
              "      <td>3.960300e+05</td>\n",
              "      <td>396030.000000</td>\n",
              "      <td>396030.000000</td>\n",
              "      <td>396030.000000</td>\n",
              "      <td>3.960300e+05</td>\n",
              "      <td>395754.000000</td>\n",
              "      <td>396030.000000</td>\n",
              "      <td>358235.000000</td>\n",
              "      <td>395495.000000</td>\n",
              "    </tr>\n",
              "    <tr>\n",
              "      <th>mean</th>\n",
              "      <td>14113.888089</td>\n",
              "      <td>13.639400</td>\n",
              "      <td>431.849698</td>\n",
              "      <td>7.420318e+04</td>\n",
              "      <td>17.379514</td>\n",
              "      <td>11.311153</td>\n",
              "      <td>0.178191</td>\n",
              "      <td>1.584454e+04</td>\n",
              "      <td>53.791749</td>\n",
              "      <td>25.414744</td>\n",
              "      <td>1.813991</td>\n",
              "      <td>0.121648</td>\n",
              "    </tr>\n",
              "    <tr>\n",
              "      <th>std</th>\n",
              "      <td>8357.441341</td>\n",
              "      <td>4.472157</td>\n",
              "      <td>250.727790</td>\n",
              "      <td>6.163762e+04</td>\n",
              "      <td>18.019092</td>\n",
              "      <td>5.137649</td>\n",
              "      <td>0.530671</td>\n",
              "      <td>2.059184e+04</td>\n",
              "      <td>24.452193</td>\n",
              "      <td>11.886991</td>\n",
              "      <td>2.147930</td>\n",
              "      <td>0.356174</td>\n",
              "    </tr>\n",
              "    <tr>\n",
              "      <th>min</th>\n",
              "      <td>500.000000</td>\n",
              "      <td>5.320000</td>\n",
              "      <td>16.080000</td>\n",
              "      <td>0.000000e+00</td>\n",
              "      <td>0.000000</td>\n",
              "      <td>0.000000</td>\n",
              "      <td>0.000000</td>\n",
              "      <td>0.000000e+00</td>\n",
              "      <td>0.000000</td>\n",
              "      <td>2.000000</td>\n",
              "      <td>0.000000</td>\n",
              "      <td>0.000000</td>\n",
              "    </tr>\n",
              "    <tr>\n",
              "      <th>25%</th>\n",
              "      <td>8000.000000</td>\n",
              "      <td>10.490000</td>\n",
              "      <td>250.330000</td>\n",
              "      <td>4.500000e+04</td>\n",
              "      <td>11.280000</td>\n",
              "      <td>8.000000</td>\n",
              "      <td>0.000000</td>\n",
              "      <td>6.025000e+03</td>\n",
              "      <td>35.800000</td>\n",
              "      <td>17.000000</td>\n",
              "      <td>0.000000</td>\n",
              "      <td>0.000000</td>\n",
              "    </tr>\n",
              "    <tr>\n",
              "      <th>50%</th>\n",
              "      <td>12000.000000</td>\n",
              "      <td>13.330000</td>\n",
              "      <td>375.430000</td>\n",
              "      <td>6.400000e+04</td>\n",
              "      <td>16.910000</td>\n",
              "      <td>10.000000</td>\n",
              "      <td>0.000000</td>\n",
              "      <td>1.118100e+04</td>\n",
              "      <td>54.800000</td>\n",
              "      <td>24.000000</td>\n",
              "      <td>1.000000</td>\n",
              "      <td>0.000000</td>\n",
              "    </tr>\n",
              "    <tr>\n",
              "      <th>75%</th>\n",
              "      <td>20000.000000</td>\n",
              "      <td>16.490000</td>\n",
              "      <td>567.300000</td>\n",
              "      <td>9.000000e+04</td>\n",
              "      <td>22.980000</td>\n",
              "      <td>14.000000</td>\n",
              "      <td>0.000000</td>\n",
              "      <td>1.962000e+04</td>\n",
              "      <td>72.900000</td>\n",
              "      <td>32.000000</td>\n",
              "      <td>3.000000</td>\n",
              "      <td>0.000000</td>\n",
              "    </tr>\n",
              "    <tr>\n",
              "      <th>max</th>\n",
              "      <td>40000.000000</td>\n",
              "      <td>30.990000</td>\n",
              "      <td>1533.810000</td>\n",
              "      <td>8.706582e+06</td>\n",
              "      <td>9999.000000</td>\n",
              "      <td>90.000000</td>\n",
              "      <td>86.000000</td>\n",
              "      <td>1.743266e+06</td>\n",
              "      <td>892.300000</td>\n",
              "      <td>151.000000</td>\n",
              "      <td>34.000000</td>\n",
              "      <td>8.000000</td>\n",
              "    </tr>\n",
              "  </tbody>\n",
              "</table>\n",
              "</div>"
            ],
            "text/plain": [
              "           loan_amnt       int_rate    installment    annual_inc  \\\n",
              "count  396030.000000  396030.000000  396030.000000  3.960300e+05   \n",
              "mean    14113.888089      13.639400     431.849698  7.420318e+04   \n",
              "std      8357.441341       4.472157     250.727790  6.163762e+04   \n",
              "min       500.000000       5.320000      16.080000  0.000000e+00   \n",
              "25%      8000.000000      10.490000     250.330000  4.500000e+04   \n",
              "50%     12000.000000      13.330000     375.430000  6.400000e+04   \n",
              "75%     20000.000000      16.490000     567.300000  9.000000e+04   \n",
              "max     40000.000000      30.990000    1533.810000  8.706582e+06   \n",
              "\n",
              "                 dti       open_acc        pub_rec     revol_bal  \\\n",
              "count  396030.000000  396030.000000  396030.000000  3.960300e+05   \n",
              "mean       17.379514      11.311153       0.178191  1.584454e+04   \n",
              "std        18.019092       5.137649       0.530671  2.059184e+04   \n",
              "min         0.000000       0.000000       0.000000  0.000000e+00   \n",
              "25%        11.280000       8.000000       0.000000  6.025000e+03   \n",
              "50%        16.910000      10.000000       0.000000  1.118100e+04   \n",
              "75%        22.980000      14.000000       0.000000  1.962000e+04   \n",
              "max      9999.000000      90.000000      86.000000  1.743266e+06   \n",
              "\n",
              "          revol_util      total_acc       mort_acc  pub_rec_bankruptcies  \n",
              "count  395754.000000  396030.000000  358235.000000         395495.000000  \n",
              "mean       53.791749      25.414744       1.813991              0.121648  \n",
              "std        24.452193      11.886991       2.147930              0.356174  \n",
              "min         0.000000       2.000000       0.000000              0.000000  \n",
              "25%        35.800000      17.000000       0.000000              0.000000  \n",
              "50%        54.800000      24.000000       1.000000              0.000000  \n",
              "75%        72.900000      32.000000       3.000000              0.000000  \n",
              "max       892.300000     151.000000      34.000000              8.000000  "
            ]
          },
          "execution_count": 6,
          "metadata": {},
          "output_type": "execute_result"
        }
      ],
      "source": [
        "df.describe()"
      ]
    },
    {
      "cell_type": "code",
      "execution_count": null,
      "metadata": {
        "colab": {
          "base_uri": "https://localhost:8080/",
          "height": 227
        },
        "id": "x1863l9SkhxT",
        "outputId": "1960d22b-660c-41bf-9726-4d2da7e498e8"
      },
      "outputs": [
        {
          "data": {
            "text/html": [
              "<div>\n",
              "<style scoped>\n",
              "    .dataframe tbody tr th:only-of-type {\n",
              "        vertical-align: middle;\n",
              "    }\n",
              "\n",
              "    .dataframe tbody tr th {\n",
              "        vertical-align: top;\n",
              "    }\n",
              "\n",
              "    .dataframe thead th {\n",
              "        text-align: right;\n",
              "    }\n",
              "</style>\n",
              "<table border=\"1\" class=\"dataframe\">\n",
              "  <thead>\n",
              "    <tr style=\"text-align: right;\">\n",
              "      <th></th>\n",
              "      <th>term</th>\n",
              "      <th>grade</th>\n",
              "      <th>sub_grade</th>\n",
              "      <th>emp_title</th>\n",
              "      <th>emp_length</th>\n",
              "      <th>home_ownership</th>\n",
              "      <th>verification_status</th>\n",
              "      <th>issue_d</th>\n",
              "      <th>loan_status</th>\n",
              "      <th>purpose</th>\n",
              "      <th>title</th>\n",
              "      <th>earliest_cr_line</th>\n",
              "      <th>initial_list_status</th>\n",
              "      <th>application_type</th>\n",
              "      <th>address</th>\n",
              "    </tr>\n",
              "  </thead>\n",
              "  <tbody>\n",
              "    <tr>\n",
              "      <th>count</th>\n",
              "      <td>396030</td>\n",
              "      <td>396030</td>\n",
              "      <td>396030</td>\n",
              "      <td>373103</td>\n",
              "      <td>377729</td>\n",
              "      <td>396030</td>\n",
              "      <td>396030</td>\n",
              "      <td>396030</td>\n",
              "      <td>396030</td>\n",
              "      <td>396030</td>\n",
              "      <td>394275</td>\n",
              "      <td>396030</td>\n",
              "      <td>396030</td>\n",
              "      <td>396030</td>\n",
              "      <td>396030</td>\n",
              "    </tr>\n",
              "    <tr>\n",
              "      <th>unique</th>\n",
              "      <td>2</td>\n",
              "      <td>7</td>\n",
              "      <td>35</td>\n",
              "      <td>173105</td>\n",
              "      <td>11</td>\n",
              "      <td>6</td>\n",
              "      <td>3</td>\n",
              "      <td>115</td>\n",
              "      <td>2</td>\n",
              "      <td>14</td>\n",
              "      <td>48817</td>\n",
              "      <td>684</td>\n",
              "      <td>2</td>\n",
              "      <td>3</td>\n",
              "      <td>393700</td>\n",
              "    </tr>\n",
              "    <tr>\n",
              "      <th>top</th>\n",
              "      <td>36 months</td>\n",
              "      <td>B</td>\n",
              "      <td>B3</td>\n",
              "      <td>Teacher</td>\n",
              "      <td>10+ years</td>\n",
              "      <td>MORTGAGE</td>\n",
              "      <td>Verified</td>\n",
              "      <td>Oct-2014</td>\n",
              "      <td>Fully Paid</td>\n",
              "      <td>debt_consolidation</td>\n",
              "      <td>Debt consolidation</td>\n",
              "      <td>Oct-2000</td>\n",
              "      <td>f</td>\n",
              "      <td>INDIVIDUAL</td>\n",
              "      <td>USCGC Smith\\r\\nFPO AE 70466</td>\n",
              "    </tr>\n",
              "    <tr>\n",
              "      <th>freq</th>\n",
              "      <td>302005</td>\n",
              "      <td>116018</td>\n",
              "      <td>26655</td>\n",
              "      <td>4389</td>\n",
              "      <td>126041</td>\n",
              "      <td>198348</td>\n",
              "      <td>139563</td>\n",
              "      <td>14846</td>\n",
              "      <td>318357</td>\n",
              "      <td>234507</td>\n",
              "      <td>152472</td>\n",
              "      <td>3017</td>\n",
              "      <td>238066</td>\n",
              "      <td>395319</td>\n",
              "      <td>8</td>\n",
              "    </tr>\n",
              "  </tbody>\n",
              "</table>\n",
              "</div>"
            ],
            "text/plain": [
              "              term   grade sub_grade emp_title emp_length home_ownership  \\\n",
              "count       396030  396030    396030    373103     377729         396030   \n",
              "unique           2       7        35    173105         11              6   \n",
              "top      36 months       B        B3   Teacher  10+ years       MORTGAGE   \n",
              "freq        302005  116018     26655      4389     126041         198348   \n",
              "\n",
              "       verification_status   issue_d loan_status             purpose  \\\n",
              "count               396030    396030      396030              396030   \n",
              "unique                   3       115           2                  14   \n",
              "top               Verified  Oct-2014  Fully Paid  debt_consolidation   \n",
              "freq                139563     14846      318357              234507   \n",
              "\n",
              "                     title earliest_cr_line initial_list_status  \\\n",
              "count               394275           396030              396030   \n",
              "unique               48817              684                   2   \n",
              "top     Debt consolidation         Oct-2000                   f   \n",
              "freq                152472             3017              238066   \n",
              "\n",
              "       application_type                      address  \n",
              "count            396030                       396030  \n",
              "unique                3                       393700  \n",
              "top          INDIVIDUAL  USCGC Smith\\r\\nFPO AE 70466  \n",
              "freq             395319                            8  "
            ]
          },
          "execution_count": 7,
          "metadata": {},
          "output_type": "execute_result"
        }
      ],
      "source": [
        "df.describe(include='object')"
      ]
    },
    {
      "cell_type": "code",
      "execution_count": null,
      "metadata": {
        "colab": {
          "base_uri": "https://localhost:8080/"
        },
        "id": "355p6xzKlIjE",
        "outputId": "ee7d33b7-565d-4949-d14b-60c29aad0bae"
      },
      "outputs": [
        {
          "data": {
            "text/plain": [
              "mort_acc                0.095435\n",
              "emp_title               0.057892\n",
              "emp_length              0.046211\n",
              "title                   0.004431\n",
              "pub_rec_bankruptcies    0.001351\n",
              "revol_util              0.000697\n",
              "loan_amnt               0.000000\n",
              "dti                     0.000000\n",
              "application_type        0.000000\n",
              "initial_list_status     0.000000\n",
              "total_acc               0.000000\n",
              "revol_bal               0.000000\n",
              "pub_rec                 0.000000\n",
              "open_acc                0.000000\n",
              "earliest_cr_line        0.000000\n",
              "purpose                 0.000000\n",
              "term                    0.000000\n",
              "loan_status             0.000000\n",
              "issue_d                 0.000000\n",
              "verification_status     0.000000\n",
              "annual_inc              0.000000\n",
              "home_ownership          0.000000\n",
              "sub_grade               0.000000\n",
              "grade                   0.000000\n",
              "installment             0.000000\n",
              "int_rate                0.000000\n",
              "address                 0.000000\n",
              "dtype: float64"
            ]
          },
          "execution_count": 8,
          "metadata": {},
          "output_type": "execute_result"
        }
      ],
      "source": [
        "df.isna().mean().sort_values(ascending=False)"
      ]
    },
    {
      "cell_type": "markdown",
      "metadata": {
        "id": "gPLP-ntfoISl"
      },
      "source": [
        "EDA"
      ]
    },
    {
      "cell_type": "code",
      "execution_count": null,
      "metadata": {
        "id": "KbMNxy6uoJZx"
      },
      "outputs": [],
      "source": [
        "### Target value"
      ]
    },
    {
      "cell_type": "code",
      "execution_count": null,
      "metadata": {
        "colab": {
          "base_uri": "https://localhost:8080/",
          "height": 297
        },
        "id": "AXuaaMNboRkh",
        "outputId": "2890276f-d646-4769-a886-9f5f65e3a089"
      },
      "outputs": [
        {
          "data": {
            "text/plain": [
              "<AxesSubplot:xlabel='loan_status', ylabel='count'>"
            ]
          },
          "execution_count": 9,
          "metadata": {},
          "output_type": "execute_result"
        },
        {
          "data": {
            "image/png": "[encoded data removed]",
            "text/plain": [
              "<Figure size 432x288 with 1 Axes>"
            ]
          },
          "metadata": {
            "needs_background": "light"
          },
          "output_type": "display_data"
        }
      ],
      "source": [
        "sns.countplot(data=df, x='loan_status')"
      ]
    },
    {
      "cell_type": "code",
      "execution_count": null,
      "metadata": {
        "id": "t9ES20J7omvm"
      },
      "outputs": [],
      "source": [
        "### we can see that the target label is not well balanced. "
      ]
    },
    {
      "cell_type": "code",
      "execution_count": null,
      "metadata": {
        "colab": {
          "base_uri": "https://localhost:8080/"
        },
        "id": "trBl0RU6pIpu",
        "outputId": "d65e1b9c-2aae-4019-bc02-5f30f1b77aa8"
      },
      "outputs": [
        {
          "data": {
            "text/plain": [
              "Fully Paid     318357\n",
              "Charged Off     77673\n",
              "Name: loan_status, dtype: int64"
            ]
          },
          "execution_count": 11,
          "metadata": {},
          "output_type": "execute_result"
        }
      ],
      "source": [
        "df.loan_status.value_counts()"
      ]
    },
    {
      "cell_type": "code",
      "execution_count": null,
      "metadata": {
        "colab": {
          "base_uri": "https://localhost:8080/"
        },
        "id": "HRdqCRQKpNnH",
        "outputId": "c508cc98-39c1-4dc4-c4db-ad4eab8e408a"
      },
      "outputs": [
        {
          "data": {
            "text/plain": [
              "4.098682940017767"
            ]
          },
          "execution_count": 12,
          "metadata": {},
          "output_type": "execute_result"
        }
      ],
      "source": [
        "318357/77673"
      ]
    },
    {
      "cell_type": "code",
      "execution_count": null,
      "metadata": {
        "colab": {
          "base_uri": "https://localhost:8080/"
        },
        "id": "VgN2t1BpqkjY",
        "outputId": "eb0d4abc-8d2d-460e-e594-f5359d3342e4"
      },
      "outputs": [
        {
          "data": {
            "text/plain": [
              "Index(['loan_amnt', 'int_rate', 'installment', 'annual_inc', 'dti', 'open_acc',\n",
              "       'pub_rec', 'revol_bal', 'revol_util', 'total_acc', 'mort_acc',\n",
              "       'pub_rec_bankruptcies'],\n",
              "      dtype='object')"
            ]
          },
          "execution_count": 13,
          "metadata": {},
          "output_type": "execute_result"
        }
      ],
      "source": [
        "df.select_dtypes('float').columns"
      ]
    },
    {
      "cell_type": "code",
      "execution_count": null,
      "metadata": {
        "colab": {
          "base_uri": "https://localhost:8080/",
          "height": 732
        },
        "id": "jW65E1lU894Q",
        "outputId": "e287c4e1-922d-4eca-ea52-516ec7ce6dc7"
      },
      "outputs": [
        {
          "data": {
            "text/plain": [
              "<matplotlib.axes._subplots.AxesSubplot at 0x7f53c3875710>"
            ]
          },
          "execution_count": 7,
          "metadata": {},
          "output_type": "execute_result"
        },
        {
          "data": {
            "image/png": "[encoded data removed]",
            "text/plain": [
              "<Figure size 1152x864 with 4 Axes>"
            ]
          },
          "metadata": {
            "needs_background": "light"
          },
          "output_type": "display_data"
        }
      ],
      "source": [
        "fig, axes = plt.subplots(nrows=2, ncols=2, figsize=(16,12))\n",
        "\n",
        "sns.scatterplot(data=df, x='annual_inc', y='loan_amnt', ax=axes[0,0])\n",
        "sns.histplot(data=df, x ='annual_inc', bins=300, ax=axes[0,1], kde=True, hue='loan_status')\n",
        "axes[0,1].set_xlim (0,200000)\n",
        "sns.countplot(data=df, x='home_ownership', hue='loan_status', ax=axes[1,0])\n",
        "sns.countplot(data=df, x='grade',   hue='loan_status', ax=axes[1,1])"
      ]
    },
    {
      "cell_type": "code",
      "execution_count": null,
      "metadata": {
        "colab": {
          "base_uri": "https://localhost:8080/"
        },
        "id": "zONb7JFc9O3-",
        "outputId": "66ca48cc-512f-4df1-b995-92e3947e75b0"
      },
      "outputs": [
        {
          "data": {
            "text/plain": [
              "Index(['loan_amnt', 'int_rate', 'installment', 'annual_inc', 'dti', 'open_acc',\n",
              "       'pub_rec', 'revol_bal', 'revol_util', 'total_acc', 'mort_acc',\n",
              "       'pub_rec_bankruptcies'],\n",
              "      dtype='object')"
            ]
          },
          "execution_count": 14,
          "metadata": {},
          "output_type": "execute_result"
        }
      ],
      "source": [
        "df.select_dtypes('float').columns"
      ]
    },
    {
      "cell_type": "code",
      "execution_count": null,
      "metadata": {
        "colab": {
          "base_uri": "https://localhost:8080/"
        },
        "id": "nVp-dUcLkhAo",
        "outputId": "a8ef46ed-b984-4c5f-cd20-5382e4235383"
      },
      "outputs": [
        {
          "name": "stdout",
          "output_type": "stream",
          "text": [
            "A 6.28787760761525\n",
            "B 12.573049009636437\n",
            "C 21.180899544283733\n",
            "D 28.86782948177067\n",
            "E 37.36344004065041\n",
            "F 42.78797145769623\n",
            "G 47.83889980353634\n"
          ]
        }
      ],
      "source": [
        "for n in ['A','B','C','D','E','F','G']:\n",
        "  percent = len(df[(df['grade']==n)&(df['loan_status']=='Charged Off')])/len(df[df['grade']==n]) *100\n",
        "  print(n, percent)"
      ]
    },
    {
      "cell_type": "code",
      "execution_count": null,
      "metadata": {
        "id": "GsK5D-5NoYVz"
      },
      "outputs": [],
      "source": [
        "loan = {'Fully Paid':1, 'Charged Off':0}\n",
        "df['loan_status_new']=df['loan_status'].map(loan)"
      ]
    },
    {
      "cell_type": "code",
      "execution_count": null,
      "metadata": {
        "colab": {
          "base_uri": "https://localhost:8080/"
        },
        "id": "Ged9GEmQpAOn",
        "outputId": "ba8d70db-1359-4f2b-d61b-b4603968acaa"
      },
      "outputs": [
        {
          "data": {
            "text/plain": [
              "loan_amnt              -0.059836\n",
              "int_rate               -0.247758\n",
              "installment            -0.041082\n",
              "annual_inc              0.053432\n",
              "dti                    -0.062413\n",
              "open_acc               -0.028012\n",
              "pub_rec                -0.019933\n",
              "revol_bal               0.010892\n",
              "revol_util             -0.082373\n",
              "total_acc               0.017893\n",
              "mort_acc                0.073111\n",
              "pub_rec_bankruptcies   -0.009383\n",
              "loan_status_new         1.000000\n",
              "Name: loan_status_new, dtype: float64"
            ]
          },
          "execution_count": 17,
          "metadata": {},
          "output_type": "execute_result"
        }
      ],
      "source": [
        "df.corr()['loan_status_new']"
      ]
    },
    {
      "cell_type": "code",
      "execution_count": null,
      "metadata": {
        "colab": {
          "base_uri": "https://localhost:8080/"
        },
        "id": "uUh2-1Lbpftj",
        "outputId": "4029b4a8-2d79-459e-cbdf-b4280036c8f8"
      },
      "outputs": [
        {
          "data": {
            "text/plain": [
              "loan_amnt               1.000000\n",
              "int_rate                0.168921\n",
              "installment             0.953929\n",
              "annual_inc              0.336887\n",
              "dti                     0.016636\n",
              "open_acc                0.198556\n",
              "pub_rec                -0.077779\n",
              "revol_bal               0.328320\n",
              "revol_util              0.099911\n",
              "total_acc               0.223886\n",
              "mort_acc                0.222315\n",
              "pub_rec_bankruptcies   -0.106539\n",
              "loan_status_new        -0.059836\n",
              "Name: loan_amnt, dtype: float64"
            ]
          },
          "execution_count": 18,
          "metadata": {},
          "output_type": "execute_result"
        }
      ],
      "source": [
        "df.corr()['loan_amnt']"
      ]
    },
    {
      "cell_type": "code",
      "execution_count": null,
      "metadata": {
        "colab": {
          "base_uri": "https://localhost:8080/"
        },
        "id": "dI3pzIbknpIp",
        "outputId": "c30824f9-3dd0-4921-af5e-4f39936fce18"
      },
      "outputs": [
        {
          "name": "stdout",
          "output_type": "stream",
          "text": [
            "RENT 22.662244195506602\n",
            "MORTGAGE 16.956057031076693\n",
            "OWN 20.680336989349865\n"
          ]
        }
      ],
      "source": [
        "for n in ['RENT', 'MORTGAGE','OWN']:\n",
        "  percent = len(df[(df['home_ownership']==n)&(df['loan_status']=='Charged Off')])/len(df[df['home_ownership']==n]) *100\n",
        "  print(n, percent)"
      ]
    },
    {
      "cell_type": "code",
      "execution_count": null,
      "metadata": {
        "colab": {
          "base_uri": "https://localhost:8080/"
        },
        "id": "zzlE3t0E9qFb",
        "outputId": "c3bf6998-62c5-4427-9da3-9b1f0965eae0"
      },
      "outputs": [
        {
          "data": {
            "text/plain": [
              "Index(['term', 'grade', 'sub_grade', 'emp_title', 'emp_length',\n",
              "       'home_ownership', 'verification_status', 'issue_d', 'loan_status',\n",
              "       'purpose', 'title', 'earliest_cr_line', 'initial_list_status',\n",
              "       'application_type', 'address'],\n",
              "      dtype='object')"
            ]
          },
          "execution_count": 20,
          "metadata": {},
          "output_type": "execute_result"
        }
      ],
      "source": [
        "df.select_dtypes('object').columns"
      ]
    },
    {
      "cell_type": "code",
      "execution_count": null,
      "metadata": {
        "colab": {
          "base_uri": "https://localhost:8080/",
          "height": 561
        },
        "id": "XYq-zhTHyehE",
        "outputId": "a6e192c4-cc6c-497f-e10a-3b42aece9034"
      },
      "outputs": [
        {
          "data": {
            "text/plain": [
              "(array([ 0,  1,  2,  3,  4,  5,  6,  7,  8,  9, 10, 11, 12, 13, 14, 15, 16,\n",
              "        17, 18, 19, 20, 21, 22, 23, 24, 25, 26, 27, 28, 29, 30, 31, 32]),\n",
              " [Text(0, 0, '0.0'),\n",
              "  Text(1, 0, '1.0'),\n",
              "  Text(2, 0, '2.0'),\n",
              "  Text(3, 0, '3.0'),\n",
              "  Text(4, 0, '4.0'),\n",
              "  Text(5, 0, '5.0'),\n",
              "  Text(6, 0, '6.0'),\n",
              "  Text(7, 0, '7.0'),\n",
              "  Text(8, 0, '8.0'),\n",
              "  Text(9, 0, '9.0'),\n",
              "  Text(10, 0, '10.0'),\n",
              "  Text(11, 0, '11.0'),\n",
              "  Text(12, 0, '12.0'),\n",
              "  Text(13, 0, '13.0'),\n",
              "  Text(14, 0, '14.0'),\n",
              "  Text(15, 0, '15.0'),\n",
              "  Text(16, 0, '16.0'),\n",
              "  Text(17, 0, '17.0'),\n",
              "  Text(18, 0, '18.0'),\n",
              "  Text(19, 0, '19.0'),\n",
              "  Text(20, 0, '20.0'),\n",
              "  Text(21, 0, '21.0'),\n",
              "  Text(22, 0, '22.0'),\n",
              "  Text(23, 0, '23.0'),\n",
              "  Text(24, 0, '24.0'),\n",
              "  Text(25, 0, '25.0'),\n",
              "  Text(26, 0, '26.0'),\n",
              "  Text(27, 0, '27.0'),\n",
              "  Text(28, 0, '28.0'),\n",
              "  Text(29, 0, '30.0'),\n",
              "  Text(30, 0, '31.0'),\n",
              "  Text(31, 0, '32.0'),\n",
              "  Text(32, 0, '34.0')])"
            ]
          },
          "execution_count": 21,
          "metadata": {},
          "output_type": "execute_result"
        },
        {
          "data": {
            "image/png": "[encoded data removed]",
            "text/plain": [
              "<Figure size 864x576 with 1 Axes>"
            ]
          },
          "metadata": {
            "needs_background": "light"
          },
          "output_type": "display_data"
        }
      ],
      "source": [
        "plt.figure(figsize=(12,8))\n",
        "sns.countplot(data=df, x='mort_acc', hue='loan_status')\n",
        "plt.xticks(rotation=90)"
      ]
    },
    {
      "cell_type": "code",
      "execution_count": null,
      "metadata": {
        "colab": {
          "base_uri": "https://localhost:8080/"
        },
        "id": "S090rwZV45bt",
        "outputId": "129eb1f4-1fc9-4117-f23a-e1cbecec58b8"
      },
      "outputs": [
        {
          "name": "stdout",
          "output_type": "stream",
          "text": [
            "0 23.721356160169414\n",
            "1 20.064221398305087\n",
            "2 18.613357892207897\n",
            "3 17.1752214250046\n",
            "4 16.548929608778284\n",
            "5 15.708475321534571\n",
            "6 15.547926641973078\n",
            "7 14.821546596166558\n",
            "8 14.19416853572573\n",
            "9 12.620772946859905\n",
            "10 12.947976878612716\n"
          ]
        }
      ],
      "source": [
        "for n in range(0,11):\n",
        "  percent = len(df[(df['mort_acc']==n)&(df['loan_status']=='Charged Off')])/len(df[df['mort_acc']==n]) *100\n",
        "  print(n, percent)"
      ]
    },
    {
      "cell_type": "code",
      "execution_count": null,
      "metadata": {
        "colab": {
          "base_uri": "https://localhost:8080/",
          "height": 539
        },
        "id": "FSPVPcFW3l-T",
        "outputId": "738c7bef-cb3e-4185-dab6-9d6138d37108"
      },
      "outputs": [
        {
          "data": {
            "text/plain": [
              "(array([0, 1, 2, 3, 4, 5, 6, 7, 8]),\n",
              " [Text(0, 0, '0.0'),\n",
              "  Text(1, 0, '1.0'),\n",
              "  Text(2, 0, '2.0'),\n",
              "  Text(3, 0, '3.0'),\n",
              "  Text(4, 0, '4.0'),\n",
              "  Text(5, 0, '5.0'),\n",
              "  Text(6, 0, '6.0'),\n",
              "  Text(7, 0, '7.0'),\n",
              "  Text(8, 0, '8.0')])"
            ]
          },
          "execution_count": 23,
          "metadata": {},
          "output_type": "execute_result"
        },
        {
          "data": {
            "image/png": "[encoded data removed]",
            "text/plain": [
              "<Figure size 864x576 with 1 Axes>"
            ]
          },
          "metadata": {
            "needs_background": "light"
          },
          "output_type": "display_data"
        }
      ],
      "source": [
        "plt.figure(figsize=(12,8))\n",
        "sns.countplot(data=df, x='pub_rec_bankruptcies', hue='loan_status')\n",
        "plt.xticks(rotation=90)"
      ]
    },
    {
      "cell_type": "code",
      "execution_count": null,
      "metadata": {
        "colab": {
          "base_uri": "https://localhost:8080/"
        },
        "id": "yepEM83Y44h9",
        "outputId": "9d4e0d25-e9e6-4f42-b779-0489f1324bfc"
      },
      "outputs": [
        {
          "name": "stdout",
          "output_type": "stream",
          "text": [
            "19.499115246304015\n",
            "20.39495209161019\n",
            "23.226854358419057\n",
            "21.082621082621085\n"
          ]
        }
      ],
      "source": [
        "for n in range(0,4):\n",
        "  percent = len(df[(df['pub_rec_bankruptcies']==n)&(df['loan_status']=='Charged Off')])/len(df[df['pub_rec_bankruptcies']==n]) *100\n",
        "  print(percent)"
      ]
    },
    {
      "cell_type": "code",
      "execution_count": null,
      "metadata": {
        "colab": {
          "base_uri": "https://localhost:8080/",
          "height": 297
        },
        "id": "tbK5D0i_4ZWK",
        "outputId": "dffe27ab-0641-423c-d8c4-ff0c4eaa497d"
      },
      "outputs": [
        {
          "data": {
            "text/plain": [
              "(0.0, 150.0)"
            ]
          },
          "execution_count": 25,
          "metadata": {},
          "output_type": "execute_result"
        },
        {
          "data": {
            "image/png": "[encoded data removed]",
            "text/plain": [
              "<Figure size 432x288 with 1 Axes>"
            ]
          },
          "metadata": {
            "needs_background": "light"
          },
          "output_type": "display_data"
        }
      ],
      "source": [
        "sns.histplot(data=df, x ='dti',   kde=True, hue='loan_status')\n",
        "plt.xlim(0,150)"
      ]
    },
    {
      "cell_type": "code",
      "execution_count": null,
      "metadata": {
        "colab": {
          "base_uri": "https://localhost:8080/"
        },
        "id": "MV9RFLCL_M9Y",
        "outputId": "86b0bad7-789f-4cad-d64f-21e527f60042"
      },
      "outputs": [
        {
          "data": {
            "text/plain": [
              "loan_status\n",
              "Charged Off    19.656346\n",
              "Fully Paid     16.824010\n",
              "Name: dti, dtype: float64"
            ]
          },
          "execution_count": 26,
          "metadata": {},
          "output_type": "execute_result"
        }
      ],
      "source": [
        "df.groupby('loan_status')['dti'].mean()"
      ]
    },
    {
      "cell_type": "code",
      "execution_count": null,
      "metadata": {
        "colab": {
          "base_uri": "https://localhost:8080/",
          "height": 297
        },
        "id": "scgSMROK8o6o",
        "outputId": "b7ac1eb4-9c95-4828-b99d-73a04af20f95"
      },
      "outputs": [
        {
          "data": {
            "text/plain": [
              "<AxesSubplot:xlabel='revol_util', ylabel='Count'>"
            ]
          },
          "execution_count": 27,
          "metadata": {},
          "output_type": "execute_result"
        },
        {
          "data": {
            "image/png": "[encoded data removed]",
            "text/plain": [
              "<Figure size 432x288 with 1 Axes>"
            ]
          },
          "metadata": {
            "needs_background": "light"
          },
          "output_type": "display_data"
        }
      ],
      "source": [
        "sns.histplot(data=df, x='revol_util', hue='loan_status')"
      ]
    },
    {
      "cell_type": "code",
      "execution_count": null,
      "metadata": {
        "colab": {
          "base_uri": "https://localhost:8080/"
        },
        "id": "OwHTqfP1_g87",
        "outputId": "48a237ae-417b-467f-ad44-8a84aed7de5f"
      },
      "outputs": [
        {
          "data": {
            "text/plain": [
              "loan_status\n",
              "Charged Off    57.869824\n",
              "Fully Paid     52.796918\n",
              "Name: revol_util, dtype: float64"
            ]
          },
          "execution_count": 28,
          "metadata": {},
          "output_type": "execute_result"
        }
      ],
      "source": [
        "df.groupby('loan_status')['revol_util'].mean()"
      ]
    },
    {
      "cell_type": "code",
      "execution_count": null,
      "metadata": {
        "colab": {
          "base_uri": "https://localhost:8080/"
        },
        "id": "v3M-Ev3Z_oPy",
        "outputId": "d5df6bd1-4780-4a03-93a1-692441aec55b"
      },
      "outputs": [
        {
          "data": {
            "text/plain": [
              "Index(['term', 'grade', 'sub_grade', 'emp_title', 'emp_length',\n",
              "       'home_ownership', 'verification_status', 'issue_d', 'loan_status',\n",
              "       'purpose', 'title', 'earliest_cr_line', 'initial_list_status',\n",
              "       'application_type', 'address'],\n",
              "      dtype='object')"
            ]
          },
          "execution_count": 29,
          "metadata": {},
          "output_type": "execute_result"
        }
      ],
      "source": [
        "df.select_dtypes('object').columns"
      ]
    },
    {
      "cell_type": "code",
      "execution_count": null,
      "metadata": {
        "colab": {
          "base_uri": "https://localhost:8080/"
        },
        "id": "egCQqPphquW4",
        "outputId": "49b43f9e-e6b3-48ae-b603-07df20abbfb7"
      },
      "outputs": [
        {
          "data": {
            "text/plain": [
              "array([' 36 months', ' 60 months'], dtype=object)"
            ]
          },
          "execution_count": 30,
          "metadata": {},
          "output_type": "execute_result"
        }
      ],
      "source": [
        "df['term'].unique()"
      ]
    },
    {
      "cell_type": "code",
      "execution_count": null,
      "metadata": {
        "colab": {
          "base_uri": "https://localhost:8080/",
          "height": 296
        },
        "id": "aeBqHLxOqynY",
        "outputId": "91e6a611-895d-48e3-c1d7-9ac081ca7d6f"
      },
      "outputs": [
        {
          "data": {
            "text/plain": [
              "<AxesSubplot:xlabel='term', ylabel='count'>"
            ]
          },
          "execution_count": 31,
          "metadata": {},
          "output_type": "execute_result"
        },
        {
          "data": {
            "image/png": "[encoded data removed]",
            "text/plain": [
              "<Figure size 432x288 with 1 Axes>"
            ]
          },
          "metadata": {
            "needs_background": "light"
          },
          "output_type": "display_data"
        }
      ],
      "source": [
        "sns.countplot(data=df, x='term', hue='loan_status')"
      ]
    },
    {
      "cell_type": "code",
      "execution_count": null,
      "metadata": {
        "colab": {
          "base_uri": "https://localhost:8080/"
        },
        "id": "45FChwi0rzrM",
        "outputId": "196416eb-ba21-4f27-f7ea-b6c5d0f40c45"
      },
      "outputs": [
        {
          "name": "stdout",
          "output_type": "stream",
          "text": [
            " 36 months 15.774573268654493\n",
            " 60 months 31.941504918904545\n"
          ]
        }
      ],
      "source": [
        "for n in [' 36 months', ' 60 months']:\n",
        "  percent = len(df[(df['term']==n)&(df['loan_status']=='Charged Off')])/len(df[df['term']==n]) *100\n",
        "  print(n, percent)"
      ]
    },
    {
      "cell_type": "code",
      "execution_count": null,
      "metadata": {
        "colab": {
          "base_uri": "https://localhost:8080/"
        },
        "id": "9kL0HidGr-qy",
        "outputId": "b3db7bfb-79ff-423c-a946-bb6b31ab60c5"
      },
      "outputs": [
        {
          "data": {
            "text/plain": [
              "array(['B4', 'B5', 'B3', 'A2', 'C5', 'C3', 'A1', 'B2', 'C1', 'A5', 'E4',\n",
              "       'A4', 'A3', 'D1', 'C2', 'B1', 'D3', 'D5', 'D2', 'E1', 'E2', 'E5',\n",
              "       'F4', 'E3', 'D4', 'G1', 'F5', 'G2', 'C4', 'F1', 'F3', 'G5', 'G4',\n",
              "       'F2', 'G3'], dtype=object)"
            ]
          },
          "execution_count": 33,
          "metadata": {},
          "output_type": "execute_result"
        }
      ],
      "source": [
        "df['sub_grade'].unique()"
      ]
    },
    {
      "cell_type": "code",
      "execution_count": null,
      "metadata": {
        "colab": {
          "base_uri": "https://localhost:8080/"
        },
        "id": "c_-WCsB1tSd3",
        "outputId": "a3b25681-400f-4559-cfc9-025a63056360"
      },
      "outputs": [
        {
          "data": {
            "text/plain": [
              "sub_grade\n",
              "A1    0.971323\n",
              "A2    0.951814\n",
              "A3    0.941944\n",
              "A4    0.929761\n",
              "A5    0.915092\n",
              "B1    0.901418\n",
              "B2    0.891487\n",
              "B3    0.876646\n",
              "B4    0.861607\n",
              "B5    0.844963\n",
              "C1    0.826304\n",
              "C2    0.802480\n",
              "C3    0.781584\n",
              "C4    0.764645\n",
              "C5    0.754933\n",
              "D1    0.736197\n",
              "D2    0.719662\n",
              "D3    0.715782\n",
              "D4    0.688685\n",
              "D5    0.679897\n",
              "E1    0.655930\n",
              "E2    0.632620\n",
              "E3    0.619623\n",
              "E4    0.606976\n",
              "E5    0.596894\n",
              "F1    0.612557\n",
              "F2    0.575199\n",
              "F3    0.563867\n",
              "F4    0.543928\n",
              "F5    0.513243\n",
              "G1    0.538752\n",
              "G2    0.517241\n",
              "G3    0.489130\n",
              "G4    0.550802\n",
              "G5    0.496835\n",
              "Name: loan_status_new, dtype: float64"
            ]
          },
          "execution_count": 34,
          "metadata": {},
          "output_type": "execute_result"
        }
      ],
      "source": [
        "df.groupby('sub_grade')['loan_status_new'].mean()"
      ]
    },
    {
      "cell_type": "code",
      "execution_count": null,
      "metadata": {
        "colab": {
          "base_uri": "https://localhost:8080/",
          "height": 623
        },
        "id": "f7gHr-tbtnY4",
        "outputId": "c705ab9c-8aac-41ae-d497-51108a77b1d9"
      },
      "outputs": [
        {
          "data": {
            "text/plain": [
              "<AxesSubplot:xlabel='sub_grade', ylabel='count'>"
            ]
          },
          "execution_count": 35,
          "metadata": {},
          "output_type": "execute_result"
        },
        {
          "data": {
            "image/png": "[encoded data removed]",
            "text/plain": [
              "<Figure size 1080x720 with 1 Axes>"
            ]
          },
          "metadata": {
            "needs_background": "light"
          },
          "output_type": "display_data"
        }
      ],
      "source": [
        "plt.figure(figsize=(15,10))\n",
        "sns.countplot(data=df, x='sub_grade',order=['A1', 'A2', 'A3', 'A4', 'A5', 'B1', 'B2', 'B3', 'B4', 'B5', 'C1', 'C2', 'C3', 'C4', \n",
        "                                            'C5', 'D1', 'D2', 'D3', 'D4', 'D5', 'F1', 'F2', 'F3', 'F4', 'F5', 'G1', 'G2', 'G3', \n",
        "                                            'G4', 'G5'], hue='loan_status')"
      ]
    },
    {
      "cell_type": "code",
      "execution_count": null,
      "metadata": {
        "colab": {
          "base_uri": "https://localhost:8080/"
        },
        "id": "3thJq2rJt_gV",
        "outputId": "3822b856-31ee-41a5-da87-c658d8a89942"
      },
      "outputs": [
        {
          "data": {
            "text/plain": [
              "10+ years    126041\n",
              "2 years       35827\n",
              "< 1 year      31725\n",
              "3 years       31665\n",
              "5 years       26495\n",
              "1 year        25882\n",
              "4 years       23952\n",
              "6 years       20841\n",
              "7 years       20819\n",
              "8 years       19168\n",
              "9 years       15314\n",
              "Name: emp_length, dtype: int64"
            ]
          },
          "execution_count": 36,
          "metadata": {},
          "output_type": "execute_result"
        }
      ],
      "source": [
        "df['emp_length'].value_counts()"
      ]
    },
    {
      "cell_type": "code",
      "execution_count": null,
      "metadata": {
        "colab": {
          "base_uri": "https://localhost:8080/",
          "height": 623
        },
        "id": "p9sE7yTFwfoh",
        "outputId": "1e2fa491-b611-47a7-e6bc-ca6fa74c7a77"
      },
      "outputs": [
        {
          "data": {
            "text/plain": [
              "<AxesSubplot:xlabel='emp_length', ylabel='count'>"
            ]
          },
          "execution_count": 37,
          "metadata": {},
          "output_type": "execute_result"
        },
        {
          "data": {
            "image/png": "[encoded data removed]",
            "text/plain": [
              "<Figure size 1080x720 with 1 Axes>"
            ]
          },
          "metadata": {
            "needs_background": "light"
          },
          "output_type": "display_data"
        }
      ],
      "source": [
        "plt.figure(figsize=(15,10))\n",
        "sns.countplot(data=df, x='emp_length', hue='loan_status')"
      ]
    },
    {
      "cell_type": "code",
      "execution_count": null,
      "metadata": {
        "colab": {
          "base_uri": "https://localhost:8080/",
          "height": 400
        },
        "id": "MD7jY1Tbwy9I",
        "outputId": "33d149eb-1157-4b9b-c9c6-e47c384c85e0"
      },
      "outputs": [
        {
          "data": {
            "text/html": [
              "<div>\n",
              "<style scoped>\n",
              "    .dataframe tbody tr th:only-of-type {\n",
              "        vertical-align: middle;\n",
              "    }\n",
              "\n",
              "    .dataframe tbody tr th {\n",
              "        vertical-align: top;\n",
              "    }\n",
              "\n",
              "    .dataframe thead th {\n",
              "        text-align: right;\n",
              "    }\n",
              "</style>\n",
              "<table border=\"1\" class=\"dataframe\">\n",
              "  <thead>\n",
              "    <tr style=\"text-align: right;\">\n",
              "      <th></th>\n",
              "      <th>loan_amnt</th>\n",
              "      <th>term</th>\n",
              "      <th>int_rate</th>\n",
              "      <th>installment</th>\n",
              "      <th>grade</th>\n",
              "      <th>sub_grade</th>\n",
              "      <th>emp_title</th>\n",
              "      <th>emp_length</th>\n",
              "      <th>home_ownership</th>\n",
              "      <th>annual_inc</th>\n",
              "      <th>...</th>\n",
              "      <th>pub_rec</th>\n",
              "      <th>revol_bal</th>\n",
              "      <th>revol_util</th>\n",
              "      <th>total_acc</th>\n",
              "      <th>initial_list_status</th>\n",
              "      <th>application_type</th>\n",
              "      <th>mort_acc</th>\n",
              "      <th>pub_rec_bankruptcies</th>\n",
              "      <th>address</th>\n",
              "      <th>loan_status_new</th>\n",
              "    </tr>\n",
              "  </thead>\n",
              "  <tbody>\n",
              "    <tr>\n",
              "      <th>0</th>\n",
              "      <td>10000.0</td>\n",
              "      <td>36 months</td>\n",
              "      <td>11.44</td>\n",
              "      <td>329.48</td>\n",
              "      <td>B</td>\n",
              "      <td>B4</td>\n",
              "      <td>Marketing</td>\n",
              "      <td>10+ years</td>\n",
              "      <td>RENT</td>\n",
              "      <td>117000.0</td>\n",
              "      <td>...</td>\n",
              "      <td>0.0</td>\n",
              "      <td>36369.0</td>\n",
              "      <td>41.8</td>\n",
              "      <td>25.0</td>\n",
              "      <td>w</td>\n",
              "      <td>INDIVIDUAL</td>\n",
              "      <td>0.0</td>\n",
              "      <td>0.0</td>\n",
              "      <td>0174 Michelle Gateway\\r\\nMendozaberg, OK 22690</td>\n",
              "      <td>1</td>\n",
              "    </tr>\n",
              "    <tr>\n",
              "      <th>1</th>\n",
              "      <td>8000.0</td>\n",
              "      <td>36 months</td>\n",
              "      <td>11.99</td>\n",
              "      <td>265.68</td>\n",
              "      <td>B</td>\n",
              "      <td>B5</td>\n",
              "      <td>Credit analyst</td>\n",
              "      <td>4 years</td>\n",
              "      <td>MORTGAGE</td>\n",
              "      <td>65000.0</td>\n",
              "      <td>...</td>\n",
              "      <td>0.0</td>\n",
              "      <td>20131.0</td>\n",
              "      <td>53.3</td>\n",
              "      <td>27.0</td>\n",
              "      <td>f</td>\n",
              "      <td>INDIVIDUAL</td>\n",
              "      <td>3.0</td>\n",
              "      <td>0.0</td>\n",
              "      <td>1076 Carney Fort Apt. 347\\r\\nLoganmouth, SD 05113</td>\n",
              "      <td>1</td>\n",
              "    </tr>\n",
              "    <tr>\n",
              "      <th>2</th>\n",
              "      <td>15600.0</td>\n",
              "      <td>36 months</td>\n",
              "      <td>10.49</td>\n",
              "      <td>506.97</td>\n",
              "      <td>B</td>\n",
              "      <td>B3</td>\n",
              "      <td>Statistician</td>\n",
              "      <td>&lt; 1 year</td>\n",
              "      <td>RENT</td>\n",
              "      <td>43057.0</td>\n",
              "      <td>...</td>\n",
              "      <td>0.0</td>\n",
              "      <td>11987.0</td>\n",
              "      <td>92.2</td>\n",
              "      <td>26.0</td>\n",
              "      <td>f</td>\n",
              "      <td>INDIVIDUAL</td>\n",
              "      <td>0.0</td>\n",
              "      <td>0.0</td>\n",
              "      <td>87025 Mark Dale Apt. 269\\r\\nNew Sabrina, WV 05113</td>\n",
              "      <td>1</td>\n",
              "    </tr>\n",
              "    <tr>\n",
              "      <th>3</th>\n",
              "      <td>7200.0</td>\n",
              "      <td>36 months</td>\n",
              "      <td>6.49</td>\n",
              "      <td>220.65</td>\n",
              "      <td>A</td>\n",
              "      <td>A2</td>\n",
              "      <td>Client Advocate</td>\n",
              "      <td>6 years</td>\n",
              "      <td>RENT</td>\n",
              "      <td>54000.0</td>\n",
              "      <td>...</td>\n",
              "      <td>0.0</td>\n",
              "      <td>5472.0</td>\n",
              "      <td>21.5</td>\n",
              "      <td>13.0</td>\n",
              "      <td>f</td>\n",
              "      <td>INDIVIDUAL</td>\n",
              "      <td>0.0</td>\n",
              "      <td>0.0</td>\n",
              "      <td>823 Reid Ford\\r\\nDelacruzside, MA 00813</td>\n",
              "      <td>1</td>\n",
              "    </tr>\n",
              "    <tr>\n",
              "      <th>4</th>\n",
              "      <td>24375.0</td>\n",
              "      <td>60 months</td>\n",
              "      <td>17.27</td>\n",
              "      <td>609.33</td>\n",
              "      <td>C</td>\n",
              "      <td>C5</td>\n",
              "      <td>Destiny Management Inc.</td>\n",
              "      <td>9 years</td>\n",
              "      <td>MORTGAGE</td>\n",
              "      <td>55000.0</td>\n",
              "      <td>...</td>\n",
              "      <td>0.0</td>\n",
              "      <td>24584.0</td>\n",
              "      <td>69.8</td>\n",
              "      <td>43.0</td>\n",
              "      <td>f</td>\n",
              "      <td>INDIVIDUAL</td>\n",
              "      <td>1.0</td>\n",
              "      <td>0.0</td>\n",
              "      <td>679 Luna Roads\\r\\nGreggshire, VA 11650</td>\n",
              "      <td>0</td>\n",
              "    </tr>\n",
              "  </tbody>\n",
              "</table>\n",
              "<p>5 rows × 28 columns</p>\n",
              "</div>"
            ],
            "text/plain": [
              "   loan_amnt        term  int_rate  installment grade sub_grade  \\\n",
              "0    10000.0   36 months     11.44       329.48     B        B4   \n",
              "1     8000.0   36 months     11.99       265.68     B        B5   \n",
              "2    15600.0   36 months     10.49       506.97     B        B3   \n",
              "3     7200.0   36 months      6.49       220.65     A        A2   \n",
              "4    24375.0   60 months     17.27       609.33     C        C5   \n",
              "\n",
              "                 emp_title emp_length home_ownership  annual_inc  ... pub_rec  \\\n",
              "0                Marketing  10+ years           RENT    117000.0  ...     0.0   \n",
              "1          Credit analyst     4 years       MORTGAGE     65000.0  ...     0.0   \n",
              "2             Statistician   < 1 year           RENT     43057.0  ...     0.0   \n",
              "3          Client Advocate    6 years           RENT     54000.0  ...     0.0   \n",
              "4  Destiny Management Inc.    9 years       MORTGAGE     55000.0  ...     0.0   \n",
              "\n",
              "  revol_bal revol_util total_acc initial_list_status  application_type  \\\n",
              "0   36369.0       41.8      25.0                   w        INDIVIDUAL   \n",
              "1   20131.0       53.3      27.0                   f        INDIVIDUAL   \n",
              "2   11987.0       92.2      26.0                   f        INDIVIDUAL   \n",
              "3    5472.0       21.5      13.0                   f        INDIVIDUAL   \n",
              "4   24584.0       69.8      43.0                   f        INDIVIDUAL   \n",
              "\n",
              "  mort_acc  pub_rec_bankruptcies  \\\n",
              "0      0.0                   0.0   \n",
              "1      3.0                   0.0   \n",
              "2      0.0                   0.0   \n",
              "3      0.0                   0.0   \n",
              "4      1.0                   0.0   \n",
              "\n",
              "                                             address  loan_status_new  \n",
              "0     0174 Michelle Gateway\\r\\nMendozaberg, OK 22690                1  \n",
              "1  1076 Carney Fort Apt. 347\\r\\nLoganmouth, SD 05113                1  \n",
              "2  87025 Mark Dale Apt. 269\\r\\nNew Sabrina, WV 05113                1  \n",
              "3            823 Reid Ford\\r\\nDelacruzside, MA 00813                1  \n",
              "4             679 Luna Roads\\r\\nGreggshire, VA 11650                0  \n",
              "\n",
              "[5 rows x 28 columns]"
            ]
          },
          "execution_count": 38,
          "metadata": {},
          "output_type": "execute_result"
        }
      ],
      "source": [
        " df.head()"
      ]
    },
    {
      "cell_type": "code",
      "execution_count": null,
      "metadata": {
        "id": "gL626LQTxDKg"
      },
      "outputs": [],
      "source": [
        "def zipcode(zip):\n",
        "  return zip[-5:]"
      ]
    },
    {
      "cell_type": "code",
      "execution_count": null,
      "metadata": {
        "id": "4Lv8i6n-zOzS"
      },
      "outputs": [],
      "source": [
        "df['zipcode'] = df['address'].map(zipcode)"
      ]
    },
    {
      "cell_type": "code",
      "execution_count": null,
      "metadata": {
        "colab": {
          "base_uri": "https://localhost:8080/"
        },
        "id": "UyiFP8C9zVNj",
        "outputId": "afc48df2-6a38-4d29-cce1-9c50d19292cf"
      },
      "outputs": [
        {
          "data": {
            "text/plain": [
              "70466    56985\n",
              "30723    56546\n",
              "22690    56527\n",
              "48052    55917\n",
              "00813    45824\n",
              "29597    45471\n",
              "05113    45402\n",
              "11650    11226\n",
              "93700    11151\n",
              "86630    10981\n",
              "Name: zipcode, dtype: int64"
            ]
          },
          "execution_count": 41,
          "metadata": {},
          "output_type": "execute_result"
        }
      ],
      "source": [
        "df['zipcode'].value_counts()"
      ]
    },
    {
      "cell_type": "code",
      "execution_count": null,
      "metadata": {
        "colab": {
          "base_uri": "https://localhost:8080/"
        },
        "id": "idbAMKAhziwD",
        "outputId": "77e01778-eac7-4572-f246-7d831d557013"
      },
      "outputs": [
        {
          "data": {
            "text/plain": [
              "loan_amnt              -0.059836\n",
              "int_rate               -0.247758\n",
              "installment            -0.041082\n",
              "annual_inc              0.053432\n",
              "dti                    -0.062413\n",
              "open_acc               -0.028012\n",
              "pub_rec                -0.019933\n",
              "revol_bal               0.010892\n",
              "revol_util             -0.082373\n",
              "total_acc               0.017893\n",
              "mort_acc                0.073111\n",
              "pub_rec_bankruptcies   -0.009383\n",
              "loan_status_new         1.000000\n",
              "Name: loan_status_new, dtype: float64"
            ]
          },
          "execution_count": 42,
          "metadata": {},
          "output_type": "execute_result"
        }
      ],
      "source": [
        "df.corr()['loan_status_new']"
      ]
    },
    {
      "cell_type": "code",
      "execution_count": null,
      "metadata": {
        "colab": {
          "base_uri": "https://localhost:8080/",
          "height": 296
        },
        "id": "89kcaINQzxme",
        "outputId": "61418688-419c-4592-8851-c1a3a3c974e6"
      },
      "outputs": [
        {
          "data": {
            "text/plain": [
              "<AxesSubplot:xlabel='zipcode', ylabel='count'>"
            ]
          },
          "execution_count": 43,
          "metadata": {},
          "output_type": "execute_result"
        },
        {
          "data": {
            "image/png": "[encoded data removed]",
            "text/plain": [
              "<Figure size 432x288 with 1 Axes>"
            ]
          },
          "metadata": {
            "needs_background": "light"
          },
          "output_type": "display_data"
        }
      ],
      "source": [
        "sns.countplot(data=df, x='zipcode', hue='loan_status')"
      ]
    },
    {
      "cell_type": "code",
      "execution_count": null,
      "metadata": {
        "id": "KgqwUYn-z74d"
      },
      "outputs": [],
      "source": [
        "###. Data PreProcessing"
      ]
    },
    {
      "cell_type": "code",
      "execution_count": null,
      "metadata": {
        "colab": {
          "base_uri": "https://localhost:8080/"
        },
        "id": "h8OJN6ULFqmk",
        "outputId": "6d5f6bab-adc1-4977-b5af-335f441f59b8"
      },
      "outputs": [
        {
          "data": {
            "text/plain": [
              "mort_acc                0.095435\n",
              "emp_title               0.057892\n",
              "emp_length              0.046211\n",
              "title                   0.004431\n",
              "pub_rec_bankruptcies    0.001351\n",
              "revol_util              0.000697\n",
              "earliest_cr_line        0.000000\n",
              "loan_status_new         0.000000\n",
              "address                 0.000000\n",
              "application_type        0.000000\n",
              "initial_list_status     0.000000\n",
              "total_acc               0.000000\n",
              "revol_bal               0.000000\n",
              "pub_rec                 0.000000\n",
              "open_acc                0.000000\n",
              "loan_amnt               0.000000\n",
              "dti                     0.000000\n",
              "term                    0.000000\n",
              "purpose                 0.000000\n",
              "loan_status             0.000000\n",
              "issue_d                 0.000000\n",
              "verification_status     0.000000\n",
              "annual_inc              0.000000\n",
              "home_ownership          0.000000\n",
              "sub_grade               0.000000\n",
              "grade                   0.000000\n",
              "installment             0.000000\n",
              "int_rate                0.000000\n",
              "zipcode                 0.000000\n",
              "dtype: float64"
            ]
          },
          "execution_count": 45,
          "metadata": {},
          "output_type": "execute_result"
        }
      ],
      "source": [
        "df.isna().mean().sort_values(ascending=False)"
      ]
    },
    {
      "cell_type": "code",
      "execution_count": null,
      "metadata": {
        "colab": {
          "base_uri": "https://localhost:8080/"
        },
        "id": "tujptroTFxXH",
        "outputId": "338a33ca-b333-408d-f605-33a184d6c0f4"
      },
      "outputs": [
        {
          "data": {
            "text/plain": [
              "mort_acc                1.000000\n",
              "total_acc               0.381072\n",
              "annual_inc              0.236320\n",
              "loan_amnt               0.222315\n",
              "revol_bal               0.194925\n",
              "installment             0.193694\n",
              "open_acc                0.109205\n",
              "loan_status_new         0.073111\n",
              "pub_rec_bankruptcies    0.027239\n",
              "pub_rec                 0.011552\n",
              "revol_util              0.007514\n",
              "dti                    -0.025439\n",
              "int_rate               -0.082583\n",
              "Name: mort_acc, dtype: float64"
            ]
          },
          "execution_count": 46,
          "metadata": {},
          "output_type": "execute_result"
        }
      ],
      "source": [
        "df.corr()['mort_acc'].sort_values(ascending=False)"
      ]
    },
    {
      "cell_type": "code",
      "execution_count": null,
      "metadata": {
        "colab": {
          "base_uri": "https://localhost:8080/"
        },
        "id": "0nnuydgYGG3F",
        "outputId": "d90d4e9f-dc4d-4778-c48c-7c730dfca92f"
      },
      "outputs": [
        {
          "data": {
            "text/plain": [
              "total_acc\n",
              "2.0     0.000000\n",
              "3.0     0.052023\n",
              "4.0     0.066743\n",
              "5.0     0.103289\n",
              "6.0     0.151293\n",
              "7.0     0.221695\n",
              "8.0     0.308422\n",
              "9.0     0.365499\n",
              "10.0    0.429158\n",
              "11.0    0.526570\n",
              "12.0    0.618034\n",
              "13.0    0.722124\n",
              "14.0    0.803482\n",
              "15.0    0.940142\n",
              "16.0    1.007405\n",
              "17.0    1.151269\n",
              "18.0    1.235885\n",
              "19.0    1.358013\n",
              "20.0    1.409380\n",
              "Name: mort_acc, dtype: float64"
            ]
          },
          "execution_count": 47,
          "metadata": {},
          "output_type": "execute_result"
        }
      ],
      "source": [
        "df.groupby('total_acc')['mort_acc'].mean()[:20]"
      ]
    },
    {
      "cell_type": "code",
      "execution_count": null,
      "metadata": {
        "colab": {
          "base_uri": "https://localhost:8080/",
          "height": 297
        },
        "id": "7aPF5jgcJXu6",
        "outputId": "333728e9-62de-44d4-d3e5-bf6f0d37393a"
      },
      "outputs": [
        {
          "data": {
            "text/plain": [
              "<AxesSubplot:xlabel='total_acc', ylabel='mort_acc'>"
            ]
          },
          "execution_count": 48,
          "metadata": {},
          "output_type": "execute_result"
        },
        {
          "data": {
            "image/png": "[encoded data removed]",
            "text/plain": [
              "<Figure size 432x288 with 1 Axes>"
            ]
          },
          "metadata": {
            "needs_background": "light"
          },
          "output_type": "display_data"
        }
      ],
      "source": [
        "sns.scatterplot(data=df, x='total_acc', y='mort_acc')"
      ]
    },
    {
      "cell_type": "code",
      "execution_count": null,
      "metadata": {
        "id": "jDJoKhyxwXVU"
      },
      "outputs": [],
      "source": [
        "df['mort_acc']= df.groupby('total_acc')['mort_acc'].transform(lambda x:x.fillna(x.mean()))"
      ]
    },
    {
      "cell_type": "code",
      "execution_count": null,
      "metadata": {
        "colab": {
          "base_uri": "https://localhost:8080/"
        },
        "id": "A8pDxUQSKNPS",
        "outputId": "dd305354-500f-40e8-959c-42803e15aca0"
      },
      "outputs": [
        {
          "data": {
            "text/plain": [
              "1.0"
            ]
          },
          "execution_count": 50,
          "metadata": {},
          "output_type": "execute_result"
        }
      ],
      "source": [
        "df['mort_acc'].median()"
      ]
    },
    {
      "cell_type": "code",
      "execution_count": null,
      "metadata": {
        "id": "gLN5lZjiKddD"
      },
      "outputs": [],
      "source": [
        "##df['mort_acc'] = df['mort_acc'].fillna(0)"
      ]
    },
    {
      "cell_type": "code",
      "execution_count": null,
      "metadata": {
        "colab": {
          "base_uri": "https://localhost:8080/"
        },
        "id": "aAEqIogwRE0r",
        "outputId": "ab384f7f-260b-4d7d-821f-912430796a68"
      },
      "outputs": [
        {
          "data": {
            "text/plain": [
              "loan_amnt                   0\n",
              "term                        0\n",
              "int_rate                    0\n",
              "installment                 0\n",
              "grade                       0\n",
              "sub_grade                   0\n",
              "emp_title               22927\n",
              "emp_length              18301\n",
              "home_ownership              0\n",
              "annual_inc                  0\n",
              "verification_status         0\n",
              "issue_d                     0\n",
              "loan_status                 0\n",
              "purpose                     0\n",
              "title                    1755\n",
              "dti                         0\n",
              "earliest_cr_line            0\n",
              "open_acc                    0\n",
              "pub_rec                     0\n",
              "revol_bal                   0\n",
              "revol_util                276\n",
              "total_acc                   0\n",
              "initial_list_status         0\n",
              "application_type            0\n",
              "mort_acc                    0\n",
              "pub_rec_bankruptcies      535\n",
              "address                     0\n",
              "loan_status_new             0\n",
              "zipcode                     0\n",
              "dtype: int64"
            ]
          },
          "execution_count": 52,
          "metadata": {},
          "output_type": "execute_result"
        }
      ],
      "source": [
        "df.isnull().sum()"
      ]
    },
    {
      "cell_type": "code",
      "execution_count": null,
      "metadata": {
        "colab": {
          "base_uri": "https://localhost:8080/"
        },
        "id": "5Q9nK537RvVm",
        "outputId": "0fd8f872-2ce3-4986-9185-b2308afda075"
      },
      "outputs": [
        {
          "data": {
            "text/plain": [
              "Teacher                     4389\n",
              "Manager                     4250\n",
              "Registered Nurse            1856\n",
              "RN                          1846\n",
              "Supervisor                  1830\n",
              "Sales                       1638\n",
              "Project Manager             1505\n",
              "Owner                       1410\n",
              "Driver                      1339\n",
              "Office Manager              1218\n",
              "manager                     1145\n",
              "Director                    1089\n",
              "General Manager             1074\n",
              "Engineer                     995\n",
              "teacher                      962\n",
              "driver                       882\n",
              "Vice President               857\n",
              "Operations Manager           763\n",
              "Administrative Assistant     756\n",
              "Accountant                   748\n",
              "Name: emp_title, dtype: int64"
            ]
          },
          "execution_count": 53,
          "metadata": {},
          "output_type": "execute_result"
        }
      ],
      "source": [
        "df['emp_title'].value_counts()[:20]"
      ]
    },
    {
      "cell_type": "code",
      "execution_count": null,
      "metadata": {
        "colab": {
          "base_uri": "https://localhost:8080/",
          "height": 230
        },
        "id": "F4KTATcwR3EJ",
        "outputId": "8c26d574-87f5-49ff-9340-93d26ca6b897"
      },
      "outputs": [
        {
          "data": {
            "text/html": [
              "<div>\n",
              "<style scoped>\n",
              "    .dataframe tbody tr th:only-of-type {\n",
              "        vertical-align: middle;\n",
              "    }\n",
              "\n",
              "    .dataframe tbody tr th {\n",
              "        vertical-align: top;\n",
              "    }\n",
              "\n",
              "    .dataframe thead th {\n",
              "        text-align: right;\n",
              "    }\n",
              "</style>\n",
              "<table border=\"1\" class=\"dataframe\">\n",
              "  <thead>\n",
              "    <tr style=\"text-align: right;\">\n",
              "      <th></th>\n",
              "      <th>term</th>\n",
              "      <th>grade</th>\n",
              "      <th>sub_grade</th>\n",
              "      <th>emp_title</th>\n",
              "      <th>emp_length</th>\n",
              "      <th>home_ownership</th>\n",
              "      <th>verification_status</th>\n",
              "      <th>issue_d</th>\n",
              "      <th>loan_status</th>\n",
              "      <th>purpose</th>\n",
              "      <th>title</th>\n",
              "      <th>earliest_cr_line</th>\n",
              "      <th>initial_list_status</th>\n",
              "      <th>application_type</th>\n",
              "      <th>address</th>\n",
              "      <th>zipcode</th>\n",
              "    </tr>\n",
              "  </thead>\n",
              "  <tbody>\n",
              "    <tr>\n",
              "      <th>count</th>\n",
              "      <td>396030</td>\n",
              "      <td>396030</td>\n",
              "      <td>396030</td>\n",
              "      <td>373103</td>\n",
              "      <td>377729</td>\n",
              "      <td>396030</td>\n",
              "      <td>396030</td>\n",
              "      <td>396030</td>\n",
              "      <td>396030</td>\n",
              "      <td>396030</td>\n",
              "      <td>394275</td>\n",
              "      <td>396030</td>\n",
              "      <td>396030</td>\n",
              "      <td>396030</td>\n",
              "      <td>396030</td>\n",
              "      <td>396030</td>\n",
              "    </tr>\n",
              "    <tr>\n",
              "      <th>unique</th>\n",
              "      <td>2</td>\n",
              "      <td>7</td>\n",
              "      <td>35</td>\n",
              "      <td>173105</td>\n",
              "      <td>11</td>\n",
              "      <td>6</td>\n",
              "      <td>3</td>\n",
              "      <td>115</td>\n",
              "      <td>2</td>\n",
              "      <td>14</td>\n",
              "      <td>48817</td>\n",
              "      <td>684</td>\n",
              "      <td>2</td>\n",
              "      <td>3</td>\n",
              "      <td>393700</td>\n",
              "      <td>10</td>\n",
              "    </tr>\n",
              "    <tr>\n",
              "      <th>top</th>\n",
              "      <td>36 months</td>\n",
              "      <td>B</td>\n",
              "      <td>B3</td>\n",
              "      <td>Teacher</td>\n",
              "      <td>10+ years</td>\n",
              "      <td>MORTGAGE</td>\n",
              "      <td>Verified</td>\n",
              "      <td>Oct-2014</td>\n",
              "      <td>Fully Paid</td>\n",
              "      <td>debt_consolidation</td>\n",
              "      <td>Debt consolidation</td>\n",
              "      <td>Oct-2000</td>\n",
              "      <td>f</td>\n",
              "      <td>INDIVIDUAL</td>\n",
              "      <td>USCGC Smith\\r\\nFPO AE 70466</td>\n",
              "      <td>70466</td>\n",
              "    </tr>\n",
              "    <tr>\n",
              "      <th>freq</th>\n",
              "      <td>302005</td>\n",
              "      <td>116018</td>\n",
              "      <td>26655</td>\n",
              "      <td>4389</td>\n",
              "      <td>126041</td>\n",
              "      <td>198348</td>\n",
              "      <td>139563</td>\n",
              "      <td>14846</td>\n",
              "      <td>318357</td>\n",
              "      <td>234507</td>\n",
              "      <td>152472</td>\n",
              "      <td>3017</td>\n",
              "      <td>238066</td>\n",
              "      <td>395319</td>\n",
              "      <td>8</td>\n",
              "      <td>56985</td>\n",
              "    </tr>\n",
              "  </tbody>\n",
              "</table>\n",
              "</div>"
            ],
            "text/plain": [
              "              term   grade sub_grade emp_title emp_length home_ownership  \\\n",
              "count       396030  396030    396030    373103     377729         396030   \n",
              "unique           2       7        35    173105         11              6   \n",
              "top      36 months       B        B3   Teacher  10+ years       MORTGAGE   \n",
              "freq        302005  116018     26655      4389     126041         198348   \n",
              "\n",
              "       verification_status   issue_d loan_status             purpose  \\\n",
              "count               396030    396030      396030              396030   \n",
              "unique                   3       115           2                  14   \n",
              "top               Verified  Oct-2014  Fully Paid  debt_consolidation   \n",
              "freq                139563     14846      318357              234507   \n",
              "\n",
              "                     title earliest_cr_line initial_list_status  \\\n",
              "count               394275           396030              396030   \n",
              "unique               48817              684                   2   \n",
              "top     Debt consolidation         Oct-2000                   f   \n",
              "freq                152472             3017              238066   \n",
              "\n",
              "       application_type                      address zipcode  \n",
              "count            396030                       396030  396030  \n",
              "unique                3                       393700      10  \n",
              "top          INDIVIDUAL  USCGC Smith\\r\\nFPO AE 70466   70466  \n",
              "freq             395319                            8   56985  "
            ]
          },
          "execution_count": 54,
          "metadata": {},
          "output_type": "execute_result"
        }
      ],
      "source": [
        "df.describe(include='object')"
      ]
    },
    {
      "cell_type": "code",
      "execution_count": null,
      "metadata": {
        "id": "ViJ72sg5TbFF"
      },
      "outputs": [],
      "source": [
        "df.drop('emp_title', axis=1, inplace=True)"
      ]
    },
    {
      "cell_type": "code",
      "execution_count": null,
      "metadata": {
        "colab": {
          "base_uri": "https://localhost:8080/"
        },
        "id": "HWiFZ_yKT8cZ",
        "outputId": "c9a1552c-d050-4130-8a11-b518e38d30e9"
      },
      "outputs": [
        {
          "data": {
            "text/plain": [
              "emp_length              18301\n",
              "title                    1755\n",
              "pub_rec_bankruptcies      535\n",
              "revol_util                276\n",
              "loan_amnt                   0\n",
              "earliest_cr_line            0\n",
              "loan_status_new             0\n",
              "address                     0\n",
              "mort_acc                    0\n",
              "application_type            0\n",
              "initial_list_status         0\n",
              "total_acc                   0\n",
              "revol_bal                   0\n",
              "pub_rec                     0\n",
              "open_acc                    0\n",
              "dti                         0\n",
              "term                        0\n",
              "purpose                     0\n",
              "loan_status                 0\n",
              "issue_d                     0\n",
              "verification_status         0\n",
              "annual_inc                  0\n",
              "home_ownership              0\n",
              "sub_grade                   0\n",
              "grade                       0\n",
              "installment                 0\n",
              "int_rate                    0\n",
              "zipcode                     0\n",
              "dtype: int64"
            ]
          },
          "execution_count": 56,
          "metadata": {},
          "output_type": "execute_result"
        }
      ],
      "source": [
        "df.isnull().sum().sort_values(ascending=False)"
      ]
    },
    {
      "cell_type": "code",
      "execution_count": null,
      "metadata": {
        "colab": {
          "base_uri": "https://localhost:8080/"
        },
        "id": "yWtAOdmxUCiM",
        "outputId": "8adaee73-796a-481c-88fa-77508ec363fc"
      },
      "outputs": [
        {
          "data": {
            "text/plain": [
              "10+ years    126041\n",
              "2 years       35827\n",
              "< 1 year      31725\n",
              "3 years       31665\n",
              "5 years       26495\n",
              "1 year        25882\n",
              "4 years       23952\n",
              "6 years       20841\n",
              "7 years       20819\n",
              "8 years       19168\n",
              "9 years       15314\n",
              "Name: emp_length, dtype: int64"
            ]
          },
          "execution_count": 57,
          "metadata": {},
          "output_type": "execute_result"
        }
      ],
      "source": [
        "df.emp_length.value_counts()"
      ]
    },
    {
      "cell_type": "code",
      "execution_count": null,
      "metadata": {
        "id": "f1cGZ6AeUne0"
      },
      "outputs": [],
      "source": [
        "df['emp_length'] = df['emp_length'].fillna('missing')"
      ]
    },
    {
      "cell_type": "code",
      "execution_count": null,
      "metadata": {
        "colab": {
          "base_uri": "https://localhost:8080/"
        },
        "id": "TscDYJTUWpbU",
        "outputId": "c7410735-630c-44d1-fb99-e168670ca7b0"
      },
      "outputs": [
        {
          "data": {
            "text/plain": [
              "title                   1755\n",
              "pub_rec_bankruptcies     535\n",
              "revol_util               276\n",
              "loan_amnt                  0\n",
              "earliest_cr_line           0\n",
              "loan_status_new            0\n",
              "address                    0\n",
              "mort_acc                   0\n",
              "application_type           0\n",
              "initial_list_status        0\n",
              "total_acc                  0\n",
              "revol_bal                  0\n",
              "pub_rec                    0\n",
              "open_acc                   0\n",
              "dti                        0\n",
              "term                       0\n",
              "purpose                    0\n",
              "loan_status                0\n",
              "issue_d                    0\n",
              "verification_status        0\n",
              "annual_inc                 0\n",
              "home_ownership             0\n",
              "emp_length                 0\n",
              "sub_grade                  0\n",
              "grade                      0\n",
              "installment                0\n",
              "int_rate                   0\n",
              "zipcode                    0\n",
              "dtype: int64"
            ]
          },
          "execution_count": 59,
          "metadata": {},
          "output_type": "execute_result"
        }
      ],
      "source": [
        "df.isnull().sum().sort_values(ascending=False)"
      ]
    },
    {
      "cell_type": "code",
      "execution_count": null,
      "metadata": {
        "colab": {
          "base_uri": "https://localhost:8080/"
        },
        "id": "-ECTC0cHWruq",
        "outputId": "06f1e358-b488-42f4-d72b-8996585daf07"
      },
      "outputs": [
        {
          "data": {
            "text/plain": [
              "Debt consolidation         152472\n",
              "Credit card refinancing     51487\n",
              "Home improvement            15264\n",
              "Other                       12930\n",
              "Debt Consolidation          11608\n",
              "Major purchase               4769\n",
              "Consolidation                3852\n",
              "debt consolidation           3547\n",
              "Business                     2949\n",
              "Debt Consolidation Loan      2864\n",
              "Name: title, dtype: int64"
            ]
          },
          "execution_count": 60,
          "metadata": {},
          "output_type": "execute_result"
        }
      ],
      "source": [
        "df.title.value_counts()[:10]"
      ]
    },
    {
      "cell_type": "code",
      "execution_count": null,
      "metadata": {
        "colab": {
          "base_uri": "https://localhost:8080/"
        },
        "id": "qFnsRm5RWwVi",
        "outputId": "4ebcc8f3-4411-43d8-8c81-1029f7f7f2a3"
      },
      "outputs": [
        {
          "data": {
            "text/plain": [
              "396030"
            ]
          },
          "execution_count": 61,
          "metadata": {},
          "output_type": "execute_result"
        }
      ],
      "source": [
        "len(df)"
      ]
    },
    {
      "cell_type": "code",
      "execution_count": null,
      "metadata": {
        "id": "F5UR7SHjW92_"
      },
      "outputs": [],
      "source": [
        "cons=df[df['title'].str.contains('consolidation')==True]"
      ]
    },
    {
      "cell_type": "code",
      "execution_count": null,
      "metadata": {
        "colab": {
          "base_uri": "https://localhost:8080/"
        },
        "id": "Hr1q2ZzbdSR4",
        "outputId": "79c6c548-99e3-4535-d16d-9bf8eabdb2a9"
      },
      "outputs": [
        {
          "data": {
            "text/plain": [
              "0.411115319546499"
            ]
          },
          "execution_count": 63,
          "metadata": {},
          "output_type": "execute_result"
        }
      ],
      "source": [
        "162814/396030"
      ]
    },
    {
      "cell_type": "code",
      "execution_count": null,
      "metadata": {
        "colab": {
          "base_uri": "https://localhost:8080/"
        },
        "id": "WFGKzWS4eQBd",
        "outputId": "e2763919-2c5b-4ad9-da88-160707de20fa"
      },
      "outputs": [
        {
          "data": {
            "text/plain": [
              "Fully Paid     125875\n",
              "Charged Off     36939\n",
              "Name: loan_status, dtype: int64"
            ]
          },
          "execution_count": 64,
          "metadata": {},
          "output_type": "execute_result"
        }
      ],
      "source": [
        "cons['loan_status'].value_counts()"
      ]
    },
    {
      "cell_type": "code",
      "execution_count": null,
      "metadata": {
        "id": "hplUzTEAef1B"
      },
      "outputs": [],
      "source": [
        "df.drop('title', axis=1, inplace=True)"
      ]
    },
    {
      "cell_type": "code",
      "execution_count": null,
      "metadata": {
        "colab": {
          "base_uri": "https://localhost:8080/"
        },
        "id": "4QZ3LJzLeslf",
        "outputId": "08f06a41-c247-41b7-b09b-85c5fc27b378"
      },
      "outputs": [
        {
          "data": {
            "text/plain": [
              "loan_amnt                 0\n",
              "term                      0\n",
              "int_rate                  0\n",
              "installment               0\n",
              "grade                     0\n",
              "sub_grade                 0\n",
              "emp_length                0\n",
              "home_ownership            0\n",
              "annual_inc                0\n",
              "verification_status       0\n",
              "issue_d                   0\n",
              "loan_status               0\n",
              "purpose                   0\n",
              "dti                       0\n",
              "earliest_cr_line          0\n",
              "open_acc                  0\n",
              "pub_rec                   0\n",
              "revol_bal                 0\n",
              "revol_util              276\n",
              "total_acc                 0\n",
              "initial_list_status       0\n",
              "application_type          0\n",
              "mort_acc                  0\n",
              "pub_rec_bankruptcies    535\n",
              "address                   0\n",
              "loan_status_new           0\n",
              "zipcode                   0\n",
              "dtype: int64"
            ]
          },
          "execution_count": 66,
          "metadata": {},
          "output_type": "execute_result"
        }
      ],
      "source": [
        "df.isnull().sum()"
      ]
    },
    {
      "cell_type": "code",
      "execution_count": null,
      "metadata": {
        "colab": {
          "base_uri": "https://localhost:8080/"
        },
        "id": "SRR2ylUweuwP",
        "outputId": "d3a09e83-53c0-4ff1-cbf4-fbdb7d93874d"
      },
      "outputs": [
        {
          "data": {
            "text/plain": [
              "0    0.0\n",
              "dtype: float64"
            ]
          },
          "execution_count": 67,
          "metadata": {},
          "output_type": "execute_result"
        }
      ],
      "source": [
        "df['pub_rec_bankruptcies'].mode()"
      ]
    },
    {
      "cell_type": "code",
      "execution_count": null,
      "metadata": {
        "colab": {
          "base_uri": "https://localhost:8080/"
        },
        "id": "SiPaXfEhe9oB",
        "outputId": "07c17183-6ce1-4a8f-b594-bd2af0325a10"
      },
      "outputs": [
        {
          "data": {
            "text/plain": [
              "0.0    350380\n",
              "1.0     42790\n",
              "2.0      1847\n",
              "3.0       351\n",
              "4.0        82\n",
              "5.0        32\n",
              "6.0         7\n",
              "7.0         4\n",
              "8.0         2\n",
              "Name: pub_rec_bankruptcies, dtype: int64"
            ]
          },
          "execution_count": 68,
          "metadata": {},
          "output_type": "execute_result"
        }
      ],
      "source": [
        "df['pub_rec_bankruptcies'].value_counts()"
      ]
    },
    {
      "cell_type": "code",
      "execution_count": null,
      "metadata": {
        "id": "9ngpoXNqfAgu"
      },
      "outputs": [],
      "source": [
        "df['pub_rec_bankruptcies']=df['pub_rec_bankruptcies'].fillna(0)"
      ]
    },
    {
      "cell_type": "code",
      "execution_count": null,
      "metadata": {
        "colab": {
          "base_uri": "https://localhost:8080/"
        },
        "id": "cLrQxMapfHDq",
        "outputId": "e5e88f53-401f-40ba-e5b7-f45ddcf073da"
      },
      "outputs": [
        {
          "data": {
            "text/plain": [
              "loan_amnt                 0\n",
              "term                      0\n",
              "int_rate                  0\n",
              "installment               0\n",
              "grade                     0\n",
              "sub_grade                 0\n",
              "emp_length                0\n",
              "home_ownership            0\n",
              "annual_inc                0\n",
              "verification_status       0\n",
              "issue_d                   0\n",
              "loan_status               0\n",
              "purpose                   0\n",
              "dti                       0\n",
              "earliest_cr_line          0\n",
              "open_acc                  0\n",
              "pub_rec                   0\n",
              "revol_bal                 0\n",
              "revol_util              276\n",
              "total_acc                 0\n",
              "initial_list_status       0\n",
              "application_type          0\n",
              "mort_acc                  0\n",
              "pub_rec_bankruptcies      0\n",
              "address                   0\n",
              "loan_status_new           0\n",
              "zipcode                   0\n",
              "dtype: int64"
            ]
          },
          "execution_count": 70,
          "metadata": {},
          "output_type": "execute_result"
        }
      ],
      "source": [
        "df.isnull().sum()"
      ]
    },
    {
      "cell_type": "code",
      "execution_count": null,
      "metadata": {
        "colab": {
          "base_uri": "https://localhost:8080/"
        },
        "id": "F5WB9klqfI2p",
        "outputId": "16fc770b-dbbc-43cb-c8f5-a54cf44b734d"
      },
      "outputs": [
        {
          "data": {
            "text/plain": [
              "count    395754.000000\n",
              "mean         53.791749\n",
              "std          24.452193\n",
              "min           0.000000\n",
              "25%          35.800000\n",
              "50%          54.800000\n",
              "75%          72.900000\n",
              "max         892.300000\n",
              "Name: revol_util, dtype: float64"
            ]
          },
          "execution_count": 71,
          "metadata": {},
          "output_type": "execute_result"
        }
      ],
      "source": [
        "df['revol_util'].describe()"
      ]
    },
    {
      "cell_type": "code",
      "execution_count": null,
      "metadata": {
        "colab": {
          "base_uri": "https://localhost:8080/",
          "height": 386
        },
        "id": "uy7OHveafNG8",
        "outputId": "e516d6e0-9f0d-44cb-8cce-0bc3af63d179"
      },
      "outputs": [
        {
          "data": {
            "text/plain": [
              "<seaborn.axisgrid.FacetGrid at 0x28588f640>"
            ]
          },
          "execution_count": 72,
          "metadata": {},
          "output_type": "execute_result"
        },
        {
          "data": {
            "image/png": "[encoded data removed]",
            "text/plain": [
              "<Figure size 360x360 with 1 Axes>"
            ]
          },
          "metadata": {
            "needs_background": "light"
          },
          "output_type": "display_data"
        }
      ],
      "source": [
        "sns.displot(data=df, x='revol_util')"
      ]
    },
    {
      "cell_type": "code",
      "execution_count": null,
      "metadata": {
        "colab": {
          "base_uri": "https://localhost:8080/"
        },
        "id": "VXVLqV6lfnQJ",
        "outputId": "5843aafb-0ada-49bd-f83f-2b08e94f54ec"
      },
      "outputs": [
        {
          "data": {
            "text/plain": [
              "54.8"
            ]
          },
          "execution_count": 73,
          "metadata": {},
          "output_type": "execute_result"
        }
      ],
      "source": [
        "df['revol_util'].median()"
      ]
    },
    {
      "cell_type": "code",
      "execution_count": null,
      "metadata": {
        "colab": {
          "base_uri": "https://localhost:8080/"
        },
        "id": "KpjYa0nWfxIk",
        "outputId": "ad219ccd-c029-432d-c578-a3be033a5805"
      },
      "outputs": [
        {
          "data": {
            "text/plain": [
              "0.00      2213\n",
              "53.00      752\n",
              "60.00      739\n",
              "61.00      734\n",
              "55.00      730\n",
              "          ... \n",
              "892.30       1\n",
              "110.10       1\n",
              "123.00       1\n",
              "49.63        1\n",
              "128.10       1\n",
              "Name: revol_util, Length: 1226, dtype: int64"
            ]
          },
          "execution_count": 74,
          "metadata": {},
          "output_type": "execute_result"
        }
      ],
      "source": [
        "df['revol_util'].value_counts()"
      ]
    },
    {
      "cell_type": "code",
      "execution_count": null,
      "metadata": {
        "id": "EmvSi9sEf1th"
      },
      "outputs": [],
      "source": [
        "df['revol_util'].fillna(54.8, inplace=True)"
      ]
    },
    {
      "cell_type": "code",
      "execution_count": null,
      "metadata": {
        "colab": {
          "base_uri": "https://localhost:8080/"
        },
        "id": "KNGcVnOagGUQ",
        "outputId": "fda17d8d-35cb-4cab-8e78-ce3c8de29139"
      },
      "outputs": [
        {
          "data": {
            "text/plain": [
              "loan_amnt               0\n",
              "term                    0\n",
              "int_rate                0\n",
              "installment             0\n",
              "grade                   0\n",
              "sub_grade               0\n",
              "emp_length              0\n",
              "home_ownership          0\n",
              "annual_inc              0\n",
              "verification_status     0\n",
              "issue_d                 0\n",
              "loan_status             0\n",
              "purpose                 0\n",
              "dti                     0\n",
              "earliest_cr_line        0\n",
              "open_acc                0\n",
              "pub_rec                 0\n",
              "revol_bal               0\n",
              "revol_util              0\n",
              "total_acc               0\n",
              "initial_list_status     0\n",
              "application_type        0\n",
              "mort_acc                0\n",
              "pub_rec_bankruptcies    0\n",
              "address                 0\n",
              "loan_status_new         0\n",
              "zipcode                 0\n",
              "dtype: int64"
            ]
          },
          "execution_count": 76,
          "metadata": {},
          "output_type": "execute_result"
        }
      ],
      "source": [
        "df.isnull().sum()"
      ]
    },
    {
      "cell_type": "code",
      "execution_count": null,
      "metadata": {
        "id": "t_DNSfSrgLMt"
      },
      "outputs": [],
      "source": [
        "df.drop('address', axis=1, inplace=True)"
      ]
    },
    {
      "cell_type": "code",
      "execution_count": null,
      "metadata": {
        "id": "9xaZojOSggzk"
      },
      "outputs": [],
      "source": [
        "df.drop('issue_d', axis=1, inplace=True)"
      ]
    },
    {
      "cell_type": "code",
      "execution_count": null,
      "metadata": {
        "id": "XaBUuVonhQzB"
      },
      "outputs": [],
      "source": [
        "df.drop('grade', axis=1, inplace=True)"
      ]
    },
    {
      "cell_type": "code",
      "execution_count": null,
      "metadata": {
        "colab": {
          "base_uri": "https://localhost:8080/"
        },
        "id": "JT2Hf9SkhgVY",
        "outputId": "08dc1c09-1f41-4638-e4ea-a1e0eab93187"
      },
      "outputs": [
        {
          "data": {
            "text/plain": [
              "(396030, 24)"
            ]
          },
          "execution_count": 80,
          "metadata": {},
          "output_type": "execute_result"
        }
      ],
      "source": [
        "df.shape"
      ]
    },
    {
      "cell_type": "code",
      "execution_count": null,
      "metadata": {
        "colab": {
          "base_uri": "https://localhost:8080/"
        },
        "id": "bjPMZVCdhmPf",
        "outputId": "e46b6098-a3b5-46f8-be6b-3f18c5613f41"
      },
      "outputs": [
        {
          "data": {
            "text/plain": [
              "debt_consolidation    234507\n",
              "credit_card            83019\n",
              "home_improvement       24030\n",
              "other                  21185\n",
              "major_purchase          8790\n",
              "small_business          5701\n",
              "car                     4697\n",
              "medical                 4196\n",
              "moving                  2854\n",
              "vacation                2452\n",
              "house                   2201\n",
              "wedding                 1812\n",
              "renewable_energy         329\n",
              "educational              257\n",
              "Name: purpose, dtype: int64"
            ]
          },
          "execution_count": 81,
          "metadata": {},
          "output_type": "execute_result"
        }
      ],
      "source": [
        "df['purpose'].value_counts()"
      ]
    },
    {
      "cell_type": "code",
      "execution_count": null,
      "metadata": {
        "colab": {
          "base_uri": "https://localhost:8080/"
        },
        "id": "8BzDDb3xhw89",
        "outputId": "64b4fee7-e049-439a-a363-e74737121984"
      },
      "outputs": [
        {
          "data": {
            "text/plain": [
              "0.8668273989290155"
            ]
          },
          "execution_count": 82,
          "metadata": {},
          "output_type": "execute_result"
        }
      ],
      "source": [
        "(234507 + 83019 + 24030)/394030"
      ]
    },
    {
      "cell_type": "code",
      "execution_count": null,
      "metadata": {
        "id": "fCwxYiCPiH54"
      },
      "outputs": [],
      "source": [
        "pur = {'small_business':'other', 'car':'other', \"medical\":'other', 'moving':'other','vacation':'other',\n",
        "       'house':'other','wedding':'other','renewable_energy':'other','educational':'other'}"
      ]
    },
    {
      "cell_type": "code",
      "execution_count": null,
      "metadata": {
        "colab": {
          "base_uri": "https://localhost:8080/"
        },
        "id": "N5aYXt3dkEGv",
        "outputId": "ad159fd4-8327-4495-9a9e-a89071ac9d29"
      },
      "outputs": [
        {
          "data": {
            "text/plain": [
              "0                      other\n",
              "1         debt_consolidation\n",
              "2                credit_card\n",
              "3                credit_card\n",
              "4                credit_card\n",
              "                 ...        \n",
              "396025    debt_consolidation\n",
              "396026    debt_consolidation\n",
              "396027    debt_consolidation\n",
              "396028    debt_consolidation\n",
              "396029    debt_consolidation\n",
              "Name: purpose, Length: 396030, dtype: object"
            ]
          },
          "execution_count": 84,
          "metadata": {},
          "output_type": "execute_result"
        }
      ],
      "source": [
        "df['purpose'].replace(pur)"
      ]
    },
    {
      "cell_type": "code",
      "execution_count": null,
      "metadata": {
        "id": "YMH8dK9bkIuI"
      },
      "outputs": [],
      "source": [
        "df['purpose']= df['purpose'].replace(pur)"
      ]
    },
    {
      "cell_type": "code",
      "execution_count": null,
      "metadata": {
        "colab": {
          "base_uri": "https://localhost:8080/"
        },
        "id": "DgI6-jAhkTjk",
        "outputId": "8047115d-8d19-465b-d958-5b2e60d0edbf"
      },
      "outputs": [
        {
          "data": {
            "text/plain": [
              "debt_consolidation    234507\n",
              "credit_card            83019\n",
              "other                  45684\n",
              "home_improvement       24030\n",
              "major_purchase          8790\n",
              "Name: purpose, dtype: int64"
            ]
          },
          "execution_count": 86,
          "metadata": {},
          "output_type": "execute_result"
        }
      ],
      "source": [
        "df['purpose'].value_counts()"
      ]
    },
    {
      "cell_type": "code",
      "execution_count": null,
      "metadata": {
        "id": "8M1h6a9TlI2P"
      },
      "outputs": [],
      "source": [
        "df.drop('loan_status', axis=1, inplace=True)"
      ]
    },
    {
      "cell_type": "code",
      "execution_count": null,
      "metadata": {
        "colab": {
          "base_uri": "https://localhost:8080/"
        },
        "id": "OVeImASKlRVG",
        "outputId": "90ce8e0d-7ac1-4bcf-dfe1-9f818db93a54"
      },
      "outputs": [
        {
          "data": {
            "text/plain": [
              "(396030, 23)"
            ]
          },
          "execution_count": 88,
          "metadata": {},
          "output_type": "execute_result"
        }
      ],
      "source": [
        "df.shape"
      ]
    },
    {
      "cell_type": "code",
      "execution_count": null,
      "metadata": {
        "colab": {
          "base_uri": "https://localhost:8080/"
        },
        "id": "QpKC_hqVlaVt",
        "outputId": "6d71ea5c-c41c-4586-87f0-3015e3769634"
      },
      "outputs": [
        {
          "data": {
            "text/plain": [
              "MORTGAGE    198348\n",
              "RENT        159790\n",
              "OWN          37746\n",
              "OTHER          112\n",
              "NONE            31\n",
              "ANY              3\n",
              "Name: home_ownership, dtype: int64"
            ]
          },
          "execution_count": 89,
          "metadata": {},
          "output_type": "execute_result"
        }
      ],
      "source": [
        "df['home_ownership'].value_counts()"
      ]
    },
    {
      "cell_type": "code",
      "execution_count": null,
      "metadata": {
        "id": "NVVcY9awpvTh"
      },
      "outputs": [],
      "source": [
        "home = {'NONE':'OTHER', 'ANY':'OTHER'}"
      ]
    },
    {
      "cell_type": "code",
      "execution_count": null,
      "metadata": {
        "id": "z12ixUNEp72V"
      },
      "outputs": [],
      "source": [
        "df['home_ownership']=df['home_ownership'].replace(home)"
      ]
    },
    {
      "cell_type": "code",
      "execution_count": null,
      "metadata": {
        "id": "NUbZ-w0Np_jX"
      },
      "outputs": [],
      "source": [
        "df.drop('emp_length', axis=1, inplace=True)"
      ]
    },
    {
      "cell_type": "code",
      "execution_count": null,
      "metadata": {
        "colab": {
          "base_uri": "https://localhost:8080/"
        },
        "id": "eeFFFxkoqJVb",
        "outputId": "cd7abace-95fb-4a51-fd30-e6bb665fe943"
      },
      "outputs": [
        {
          "data": {
            "text/plain": [
              "(396030, 22)"
            ]
          },
          "execution_count": 93,
          "metadata": {},
          "output_type": "execute_result"
        }
      ],
      "source": [
        "df.shape"
      ]
    },
    {
      "cell_type": "code",
      "execution_count": null,
      "metadata": {
        "colab": {
          "base_uri": "https://localhost:8080/"
        },
        "id": "QRKpzw12QQ2i",
        "outputId": "3813d9bb-5b88-4400-b222-cc6af23bad6f"
      },
      "outputs": [
        {
          "data": {
            "text/plain": [
              "0         1990\n",
              "1         2004\n",
              "2         2007\n",
              "3         2006\n",
              "4         1999\n",
              "          ... \n",
              "396025    2004\n",
              "396026    2006\n",
              "396027    1997\n",
              "396028    1990\n",
              "396029    1998\n",
              "Name: year, Length: 396030, dtype: int64"
            ]
          },
          "execution_count": 94,
          "metadata": {},
          "output_type": "execute_result"
        }
      ],
      "source": [
        "df['year']= df['earliest_cr_line'].apply(lambda x:x[-4:])\n",
        "df['year'].astype('int')"
      ]
    },
    {
      "cell_type": "code",
      "execution_count": null,
      "metadata": {
        "id": "GWE08EXAQtrX"
      },
      "outputs": [],
      "source": [
        "df.drop('earliest_cr_line', axis=1, inplace=True)"
      ]
    },
    {
      "cell_type": "code",
      "execution_count": null,
      "metadata": {
        "id": "FQfXBopM0g4L"
      },
      "outputs": [],
      "source": [
        "df['year'] = df['year'].astype('int')"
      ]
    },
    {
      "cell_type": "code",
      "execution_count": null,
      "metadata": {
        "colab": {
          "base_uri": "https://localhost:8080/"
        },
        "id": "BvlQ9LDaQ61R",
        "outputId": "b7ad9aef-040f-4b23-c431-52c07a1527c1"
      },
      "outputs": [
        {
          "data": {
            "text/plain": [
              "(396030, 22)"
            ]
          },
          "execution_count": 97,
          "metadata": {},
          "output_type": "execute_result"
        }
      ],
      "source": [
        "df.shape"
      ]
    },
    {
      "cell_type": "code",
      "execution_count": null,
      "metadata": {
        "colab": {
          "base_uri": "https://localhost:8080/"
        },
        "id": "XAdyRJPuRY9v",
        "outputId": "bf8fa444-9b75-4f01-ef04-26c6cbc87e41"
      },
      "outputs": [
        {
          "data": {
            "text/plain": [
              "array([' 36 months', ' 60 months'], dtype=object)"
            ]
          },
          "execution_count": 98,
          "metadata": {},
          "output_type": "execute_result"
        }
      ],
      "source": [
        "df['term'].unique()"
      ]
    },
    {
      "cell_type": "code",
      "execution_count": null,
      "metadata": {
        "id": "hwUMPAauRRZ2"
      },
      "outputs": [],
      "source": [
        "df['term']=df['term'].map({' 36 months':36, ' 60 months':60})"
      ]
    },
    {
      "cell_type": "code",
      "execution_count": null,
      "metadata": {
        "id": "nnqgDRaVQ79H"
      },
      "outputs": [],
      "source": [
        "### Train Test Split"
      ]
    },
    {
      "cell_type": "code",
      "execution_count": null,
      "metadata": {
        "id": "la58ZAYyRC2m"
      },
      "outputs": [],
      "source": [
        "from sklearn.model_selection import train_test_split\n",
        "from sklearn.preprocessing import MinMaxScaler"
      ]
    },
    {
      "cell_type": "code",
      "execution_count": null,
      "metadata": {
        "id": "drY5qbO2b-as"
      },
      "outputs": [],
      "source": [
        "df_dummies = pd.get_dummies(df, drop_first=True)"
      ]
    },
    {
      "cell_type": "code",
      "execution_count": null,
      "metadata": {
        "colab": {
          "base_uri": "https://localhost:8080/"
        },
        "id": "3xNoQDd6cF10",
        "outputId": "4ce65205-95f1-406f-f242-dd766cf35645"
      },
      "outputs": [
        {
          "data": {
            "text/plain": [
              "(396030, 22)"
            ]
          },
          "execution_count": 103,
          "metadata": {},
          "output_type": "execute_result"
        }
      ],
      "source": [
        "df.shape"
      ]
    },
    {
      "cell_type": "code",
      "execution_count": null,
      "metadata": {
        "colab": {
          "base_uri": "https://localhost:8080/"
        },
        "id": "W0Ss4wSucIc0",
        "outputId": "8c8c7456-8a87-403d-bb2d-d29e94f4e633"
      },
      "outputs": [
        {
          "data": {
            "text/plain": [
              "(396030, 70)"
            ]
          },
          "execution_count": 104,
          "metadata": {},
          "output_type": "execute_result"
        }
      ],
      "source": [
        "df_dummies.shape"
      ]
    },
    {
      "cell_type": "code",
      "execution_count": null,
      "metadata": {
        "colab": {
          "base_uri": "https://localhost:8080/",
          "height": 461
        },
        "id": "eoOV1DTC0NVE",
        "outputId": "1b092a65-1668-4a98-d824-5bb0e8b8ec9a"
      },
      "outputs": [
        {
          "data": {
            "text/html": [
              "<div>\n",
              "<style scoped>\n",
              "    .dataframe tbody tr th:only-of-type {\n",
              "        vertical-align: middle;\n",
              "    }\n",
              "\n",
              "    .dataframe tbody tr th {\n",
              "        vertical-align: top;\n",
              "    }\n",
              "\n",
              "    .dataframe thead th {\n",
              "        text-align: right;\n",
              "    }\n",
              "</style>\n",
              "<table border=\"1\" class=\"dataframe\">\n",
              "  <thead>\n",
              "    <tr style=\"text-align: right;\">\n",
              "      <th></th>\n",
              "      <th>loan_amnt</th>\n",
              "      <th>term</th>\n",
              "      <th>int_rate</th>\n",
              "      <th>installment</th>\n",
              "      <th>annual_inc</th>\n",
              "      <th>dti</th>\n",
              "      <th>open_acc</th>\n",
              "      <th>pub_rec</th>\n",
              "      <th>revol_bal</th>\n",
              "      <th>revol_util</th>\n",
              "      <th>...</th>\n",
              "      <th>application_type_JOINT</th>\n",
              "      <th>zipcode_05113</th>\n",
              "      <th>zipcode_11650</th>\n",
              "      <th>zipcode_22690</th>\n",
              "      <th>zipcode_29597</th>\n",
              "      <th>zipcode_30723</th>\n",
              "      <th>zipcode_48052</th>\n",
              "      <th>zipcode_70466</th>\n",
              "      <th>zipcode_86630</th>\n",
              "      <th>zipcode_93700</th>\n",
              "    </tr>\n",
              "  </thead>\n",
              "  <tbody>\n",
              "    <tr>\n",
              "      <th>0</th>\n",
              "      <td>10000.0</td>\n",
              "      <td>36</td>\n",
              "      <td>11.44</td>\n",
              "      <td>329.48</td>\n",
              "      <td>117000.0</td>\n",
              "      <td>26.24</td>\n",
              "      <td>16.0</td>\n",
              "      <td>0.0</td>\n",
              "      <td>36369.0</td>\n",
              "      <td>41.8</td>\n",
              "      <td>...</td>\n",
              "      <td>0</td>\n",
              "      <td>0</td>\n",
              "      <td>0</td>\n",
              "      <td>1</td>\n",
              "      <td>0</td>\n",
              "      <td>0</td>\n",
              "      <td>0</td>\n",
              "      <td>0</td>\n",
              "      <td>0</td>\n",
              "      <td>0</td>\n",
              "    </tr>\n",
              "    <tr>\n",
              "      <th>1</th>\n",
              "      <td>8000.0</td>\n",
              "      <td>36</td>\n",
              "      <td>11.99</td>\n",
              "      <td>265.68</td>\n",
              "      <td>65000.0</td>\n",
              "      <td>22.05</td>\n",
              "      <td>17.0</td>\n",
              "      <td>0.0</td>\n",
              "      <td>20131.0</td>\n",
              "      <td>53.3</td>\n",
              "      <td>...</td>\n",
              "      <td>0</td>\n",
              "      <td>1</td>\n",
              "      <td>0</td>\n",
              "      <td>0</td>\n",
              "      <td>0</td>\n",
              "      <td>0</td>\n",
              "      <td>0</td>\n",
              "      <td>0</td>\n",
              "      <td>0</td>\n",
              "      <td>0</td>\n",
              "    </tr>\n",
              "    <tr>\n",
              "      <th>2</th>\n",
              "      <td>15600.0</td>\n",
              "      <td>36</td>\n",
              "      <td>10.49</td>\n",
              "      <td>506.97</td>\n",
              "      <td>43057.0</td>\n",
              "      <td>12.79</td>\n",
              "      <td>13.0</td>\n",
              "      <td>0.0</td>\n",
              "      <td>11987.0</td>\n",
              "      <td>92.2</td>\n",
              "      <td>...</td>\n",
              "      <td>0</td>\n",
              "      <td>1</td>\n",
              "      <td>0</td>\n",
              "      <td>0</td>\n",
              "      <td>0</td>\n",
              "      <td>0</td>\n",
              "      <td>0</td>\n",
              "      <td>0</td>\n",
              "      <td>0</td>\n",
              "      <td>0</td>\n",
              "    </tr>\n",
              "    <tr>\n",
              "      <th>3</th>\n",
              "      <td>7200.0</td>\n",
              "      <td>36</td>\n",
              "      <td>6.49</td>\n",
              "      <td>220.65</td>\n",
              "      <td>54000.0</td>\n",
              "      <td>2.60</td>\n",
              "      <td>6.0</td>\n",
              "      <td>0.0</td>\n",
              "      <td>5472.0</td>\n",
              "      <td>21.5</td>\n",
              "      <td>...</td>\n",
              "      <td>0</td>\n",
              "      <td>0</td>\n",
              "      <td>0</td>\n",
              "      <td>0</td>\n",
              "      <td>0</td>\n",
              "      <td>0</td>\n",
              "      <td>0</td>\n",
              "      <td>0</td>\n",
              "      <td>0</td>\n",
              "      <td>0</td>\n",
              "    </tr>\n",
              "    <tr>\n",
              "      <th>4</th>\n",
              "      <td>24375.0</td>\n",
              "      <td>60</td>\n",
              "      <td>17.27</td>\n",
              "      <td>609.33</td>\n",
              "      <td>55000.0</td>\n",
              "      <td>33.95</td>\n",
              "      <td>13.0</td>\n",
              "      <td>0.0</td>\n",
              "      <td>24584.0</td>\n",
              "      <td>69.8</td>\n",
              "      <td>...</td>\n",
              "      <td>0</td>\n",
              "      <td>0</td>\n",
              "      <td>1</td>\n",
              "      <td>0</td>\n",
              "      <td>0</td>\n",
              "      <td>0</td>\n",
              "      <td>0</td>\n",
              "      <td>0</td>\n",
              "      <td>0</td>\n",
              "      <td>0</td>\n",
              "    </tr>\n",
              "    <tr>\n",
              "      <th>...</th>\n",
              "      <td>...</td>\n",
              "      <td>...</td>\n",
              "      <td>...</td>\n",
              "      <td>...</td>\n",
              "      <td>...</td>\n",
              "      <td>...</td>\n",
              "      <td>...</td>\n",
              "      <td>...</td>\n",
              "      <td>...</td>\n",
              "      <td>...</td>\n",
              "      <td>...</td>\n",
              "      <td>...</td>\n",
              "      <td>...</td>\n",
              "      <td>...</td>\n",
              "      <td>...</td>\n",
              "      <td>...</td>\n",
              "      <td>...</td>\n",
              "      <td>...</td>\n",
              "      <td>...</td>\n",
              "      <td>...</td>\n",
              "      <td>...</td>\n",
              "    </tr>\n",
              "    <tr>\n",
              "      <th>396025</th>\n",
              "      <td>10000.0</td>\n",
              "      <td>60</td>\n",
              "      <td>10.99</td>\n",
              "      <td>217.38</td>\n",
              "      <td>40000.0</td>\n",
              "      <td>15.63</td>\n",
              "      <td>6.0</td>\n",
              "      <td>0.0</td>\n",
              "      <td>1990.0</td>\n",
              "      <td>34.3</td>\n",
              "      <td>...</td>\n",
              "      <td>0</td>\n",
              "      <td>0</td>\n",
              "      <td>0</td>\n",
              "      <td>0</td>\n",
              "      <td>0</td>\n",
              "      <td>1</td>\n",
              "      <td>0</td>\n",
              "      <td>0</td>\n",
              "      <td>0</td>\n",
              "      <td>0</td>\n",
              "    </tr>\n",
              "    <tr>\n",
              "      <th>396026</th>\n",
              "      <td>21000.0</td>\n",
              "      <td>36</td>\n",
              "      <td>12.29</td>\n",
              "      <td>700.42</td>\n",
              "      <td>110000.0</td>\n",
              "      <td>21.45</td>\n",
              "      <td>6.0</td>\n",
              "      <td>0.0</td>\n",
              "      <td>43263.0</td>\n",
              "      <td>95.7</td>\n",
              "      <td>...</td>\n",
              "      <td>0</td>\n",
              "      <td>1</td>\n",
              "      <td>0</td>\n",
              "      <td>0</td>\n",
              "      <td>0</td>\n",
              "      <td>0</td>\n",
              "      <td>0</td>\n",
              "      <td>0</td>\n",
              "      <td>0</td>\n",
              "      <td>0</td>\n",
              "    </tr>\n",
              "    <tr>\n",
              "      <th>396027</th>\n",
              "      <td>5000.0</td>\n",
              "      <td>36</td>\n",
              "      <td>9.99</td>\n",
              "      <td>161.32</td>\n",
              "      <td>56500.0</td>\n",
              "      <td>17.56</td>\n",
              "      <td>15.0</td>\n",
              "      <td>0.0</td>\n",
              "      <td>32704.0</td>\n",
              "      <td>66.9</td>\n",
              "      <td>...</td>\n",
              "      <td>0</td>\n",
              "      <td>0</td>\n",
              "      <td>0</td>\n",
              "      <td>0</td>\n",
              "      <td>0</td>\n",
              "      <td>0</td>\n",
              "      <td>0</td>\n",
              "      <td>1</td>\n",
              "      <td>0</td>\n",
              "      <td>0</td>\n",
              "    </tr>\n",
              "    <tr>\n",
              "      <th>396028</th>\n",
              "      <td>21000.0</td>\n",
              "      <td>60</td>\n",
              "      <td>15.31</td>\n",
              "      <td>503.02</td>\n",
              "      <td>64000.0</td>\n",
              "      <td>15.88</td>\n",
              "      <td>9.0</td>\n",
              "      <td>0.0</td>\n",
              "      <td>15704.0</td>\n",
              "      <td>53.8</td>\n",
              "      <td>...</td>\n",
              "      <td>0</td>\n",
              "      <td>0</td>\n",
              "      <td>0</td>\n",
              "      <td>0</td>\n",
              "      <td>1</td>\n",
              "      <td>0</td>\n",
              "      <td>0</td>\n",
              "      <td>0</td>\n",
              "      <td>0</td>\n",
              "      <td>0</td>\n",
              "    </tr>\n",
              "    <tr>\n",
              "      <th>396029</th>\n",
              "      <td>2000.0</td>\n",
              "      <td>36</td>\n",
              "      <td>13.61</td>\n",
              "      <td>67.98</td>\n",
              "      <td>42996.0</td>\n",
              "      <td>8.32</td>\n",
              "      <td>3.0</td>\n",
              "      <td>0.0</td>\n",
              "      <td>4292.0</td>\n",
              "      <td>91.3</td>\n",
              "      <td>...</td>\n",
              "      <td>0</td>\n",
              "      <td>0</td>\n",
              "      <td>0</td>\n",
              "      <td>0</td>\n",
              "      <td>0</td>\n",
              "      <td>0</td>\n",
              "      <td>1</td>\n",
              "      <td>0</td>\n",
              "      <td>0</td>\n",
              "      <td>0</td>\n",
              "    </tr>\n",
              "  </tbody>\n",
              "</table>\n",
              "<p>396030 rows × 70 columns</p>\n",
              "</div>"
            ],
            "text/plain": [
              "        loan_amnt  term  int_rate  installment  annual_inc    dti  open_acc  \\\n",
              "0         10000.0    36     11.44       329.48    117000.0  26.24      16.0   \n",
              "1          8000.0    36     11.99       265.68     65000.0  22.05      17.0   \n",
              "2         15600.0    36     10.49       506.97     43057.0  12.79      13.0   \n",
              "3          7200.0    36      6.49       220.65     54000.0   2.60       6.0   \n",
              "4         24375.0    60     17.27       609.33     55000.0  33.95      13.0   \n",
              "...           ...   ...       ...          ...         ...    ...       ...   \n",
              "396025    10000.0    60     10.99       217.38     40000.0  15.63       6.0   \n",
              "396026    21000.0    36     12.29       700.42    110000.0  21.45       6.0   \n",
              "396027     5000.0    36      9.99       161.32     56500.0  17.56      15.0   \n",
              "396028    21000.0    60     15.31       503.02     64000.0  15.88       9.0   \n",
              "396029     2000.0    36     13.61        67.98     42996.0   8.32       3.0   \n",
              "\n",
              "        pub_rec  revol_bal  revol_util  ...  application_type_JOINT  \\\n",
              "0           0.0    36369.0        41.8  ...                       0   \n",
              "1           0.0    20131.0        53.3  ...                       0   \n",
              "2           0.0    11987.0        92.2  ...                       0   \n",
              "3           0.0     5472.0        21.5  ...                       0   \n",
              "4           0.0    24584.0        69.8  ...                       0   \n",
              "...         ...        ...         ...  ...                     ...   \n",
              "396025      0.0     1990.0        34.3  ...                       0   \n",
              "396026      0.0    43263.0        95.7  ...                       0   \n",
              "396027      0.0    32704.0        66.9  ...                       0   \n",
              "396028      0.0    15704.0        53.8  ...                       0   \n",
              "396029      0.0     4292.0        91.3  ...                       0   \n",
              "\n",
              "        zipcode_05113  zipcode_11650  zipcode_22690  zipcode_29597  \\\n",
              "0                   0              0              1              0   \n",
              "1                   1              0              0              0   \n",
              "2                   1              0              0              0   \n",
              "3                   0              0              0              0   \n",
              "4                   0              1              0              0   \n",
              "...               ...            ...            ...            ...   \n",
              "396025              0              0              0              0   \n",
              "396026              1              0              0              0   \n",
              "396027              0              0              0              0   \n",
              "396028              0              0              0              1   \n",
              "396029              0              0              0              0   \n",
              "\n",
              "        zipcode_30723  zipcode_48052  zipcode_70466  zipcode_86630  \\\n",
              "0                   0              0              0              0   \n",
              "1                   0              0              0              0   \n",
              "2                   0              0              0              0   \n",
              "3                   0              0              0              0   \n",
              "4                   0              0              0              0   \n",
              "...               ...            ...            ...            ...   \n",
              "396025              1              0              0              0   \n",
              "396026              0              0              0              0   \n",
              "396027              0              0              1              0   \n",
              "396028              0              0              0              0   \n",
              "396029              0              1              0              0   \n",
              "\n",
              "        zipcode_93700  \n",
              "0                   0  \n",
              "1                   0  \n",
              "2                   0  \n",
              "3                   0  \n",
              "4                   0  \n",
              "...               ...  \n",
              "396025              0  \n",
              "396026              0  \n",
              "396027              0  \n",
              "396028              0  \n",
              "396029              0  \n",
              "\n",
              "[396030 rows x 70 columns]"
            ]
          },
          "execution_count": 105,
          "metadata": {},
          "output_type": "execute_result"
        }
      ],
      "source": [
        "df_dummies"
      ]
    },
    {
      "cell_type": "code",
      "execution_count": null,
      "metadata": {
        "id": "njQ3HpQdTTMS"
      },
      "outputs": [],
      "source": [
        "X = df_dummies.drop('loan_status_new', axis=1).values\n",
        "y= df_dummies['loan_status_new'].values"
      ]
    },
    {
      "cell_type": "code",
      "execution_count": null,
      "metadata": {
        "id": "hJrtNlNSTNj8"
      },
      "outputs": [],
      "source": [
        "X_train, X_test, y_train, y_test = train_test_split(X, y, test_size=0.30, random_state=101)"
      ]
    },
    {
      "cell_type": "code",
      "execution_count": null,
      "metadata": {
        "id": "opHrBkrUXjO1"
      },
      "outputs": [],
      "source": [
        "scaler = MinMaxScaler()"
      ]
    },
    {
      "cell_type": "code",
      "execution_count": null,
      "metadata": {
        "id": "gNpA6cmhXnV9"
      },
      "outputs": [],
      "source": [
        "X_scaled = scaler.fit_transform(X_train)\n",
        "X_test_scaled = scaler.transform(X_test)"
      ]
    },
    {
      "cell_type": "code",
      "execution_count": null,
      "metadata": {
        "colab": {
          "base_uri": "https://localhost:8080/"
        },
        "id": "5hhFan8B1dny",
        "outputId": "0a1f7fbc-7004-4113-8bb0-0a7f6e41bfff"
      },
      "outputs": [
        {
          "data": {
            "text/plain": [
              "(277221, 69)"
            ]
          },
          "execution_count": 110,
          "metadata": {},
          "output_type": "execute_result"
        }
      ],
      "source": [
        "X_scaled.shape"
      ]
    },
    {
      "cell_type": "code",
      "execution_count": null,
      "metadata": {
        "id": "tklGf5GiX1EB",
        "outputId": "21986084-bfcb-4afc-d9ae-77ff981c2128"
      },
      "outputs": [
        {
          "name": "stdout",
          "output_type": "stream",
          "text": [
            "Init Plugin\n",
            "Init Graph Optimizer\n",
            "Init Kernel\n"
          ]
        }
      ],
      "source": [
        "import tensorflow as tf"
      ]
    },
    {
      "cell_type": "code",
      "execution_count": null,
      "metadata": {
        "id": "NCKwRJgycipJ"
      },
      "outputs": [],
      "source": [
        "from tensorflow.keras.models import Sequential\n",
        "from tensorflow.keras.layers import Dense, Activation, Dropout\n",
        "from tensorflow.keras.callbacks import EarlyStopping"
      ]
    },
    {
      "cell_type": "code",
      "execution_count": null,
      "metadata": {
        "id": "WP9sH7CydNRx",
        "outputId": "0da17f94-61db-492f-91e6-f372e29f475e"
      },
      "outputs": [
        {
          "name": "stdout",
          "output_type": "stream",
          "text": [
            "Metal device set to: Apple M1 Pro\n"
          ]
        },
        {
          "name": "stderr",
          "output_type": "stream",
          "text": [
            "2021-11-28 23:06:22.561164: I tensorflow/core/common_runtime/pluggable_device/pluggable_device_factory.cc:305] Could not identify NUMA node of platform GPU ID 0, defaulting to 0. Your kernel may not have been built with NUMA support.\n",
            "2021-11-28 23:06:22.561493: I tensorflow/core/common_runtime/pluggable_device/pluggable_device_factory.cc:271] Created TensorFlow device (/job:localhost/replica:0/task:0/device:GPU:0 with 0 MB memory) -> physical PluggableDevice (device: 0, name: METAL, pci bus id: <undefined>)\n"
          ]
        }
      ],
      "source": [
        "model = Sequential()\n",
        "\n",
        "model.add(Dense(69, activation='relu'))\n",
        "model.add(Dropout(0.2))\n",
        "model.add(Dense(40, activation='relu'))\n",
        "model.add(Dropout(0.2))\n",
        "model.add(Dense(20, activation='relu'))\n",
        "model.add(Dropout(0.2))\n",
        "model.add(Dense(10, activation='relu'))\n",
        "model.add(Dropout(0.2))\n",
        "\n",
        "model.add(Dense(1, activation='sigmoid'))"
      ]
    },
    {
      "cell_type": "code",
      "execution_count": null,
      "metadata": {
        "id": "VOT5unmTeT78"
      },
      "outputs": [],
      "source": [
        "model.compile (optimizer='adam', loss='binary_crossentropy')"
      ]
    },
    {
      "cell_type": "code",
      "execution_count": null,
      "metadata": {
        "id": "0M85Zm6nffXV"
      },
      "outputs": [],
      "source": [
        "early_stop = EarlyStopping(monitor='val_loss', mode='min', patience=5 )"
      ]
    },
    {
      "cell_type": "code",
      "execution_count": null,
      "metadata": {
        "colab": {
          "base_uri": "https://localhost:8080/"
        },
        "id": "OxFzWXcAfr5Z",
        "outputId": "cd115f27-f488-4af3-9983-40317bfdb377"
      },
      "outputs": [
        {
          "name": "stderr",
          "output_type": "stream",
          "text": [
            "2021-11-28 23:06:35.956457: I tensorflow/compiler/mlir/mlir_graph_optimization_pass.cc:176] None of the MLIR Optimization Passes are enabled (registered 2)\n",
            "2021-11-28 23:06:35.959250: W tensorflow/core/platform/profile_utils/cpu_utils.cc:128] Failed to get CPU frequency: 0 Hz\n"
          ]
        },
        {
          "name": "stdout",
          "output_type": "stream",
          "text": [
            "Epoch 1/20\n"
          ]
        },
        {
          "name": "stderr",
          "output_type": "stream",
          "text": [
            "2021-11-28 23:06:36.420003: I tensorflow/core/grappler/optimizers/custom_graph_optimizer_registry.cc:112] Plugin optimizer for device_type GPU is enabled.\n"
          ]
        },
        {
          "name": "stdout",
          "output_type": "stream",
          "text": [
            "2166/2166 [==============================] - ETA: 0s - loss: 0.3016"
          ]
        },
        {
          "name": "stderr",
          "output_type": "stream",
          "text": [
            "2021-11-28 23:06:53.189288: I tensorflow/core/grappler/optimizers/custom_graph_optimizer_registry.cc:112] Plugin optimizer for device_type GPU is enabled.\n"
          ]
        },
        {
          "name": "stdout",
          "output_type": "stream",
          "text": [
            "2166/2166 [==============================] - 19s 8ms/step - loss: 0.3016 - val_loss: 0.2620\n",
            "Epoch 2/20\n",
            "2166/2166 [==============================] - 17s 8ms/step - loss: 0.2675 - val_loss: 0.2603\n",
            "Epoch 3/20\n",
            "2166/2166 [==============================] - 17s 8ms/step - loss: 0.2649 - val_loss: 0.2596\n",
            "Epoch 4/20\n",
            "2166/2166 [==============================] - 17s 8ms/step - loss: 0.2641 - val_loss: 0.2597\n",
            "Epoch 5/20\n",
            "2166/2166 [==============================] - 17s 8ms/step - loss: 0.2630 - val_loss: 0.2592\n",
            "Epoch 6/20\n",
            "2166/2166 [==============================] - 17s 8ms/step - loss: 0.2624 - val_loss: 0.2593\n",
            "Epoch 7/20\n",
            "2166/2166 [==============================] - 17s 8ms/step - loss: 0.2620 - val_loss: 0.2603\n",
            "Epoch 8/20\n",
            "2166/2166 [==============================] - 18s 8ms/step - loss: 0.2615 - val_loss: 0.2590\n",
            "Epoch 9/20\n",
            "2166/2166 [==============================] - 17s 8ms/step - loss: 0.2613 - val_loss: 0.2591\n",
            "Epoch 10/20\n",
            "2166/2166 [==============================] - 17s 8ms/step - loss: 0.2614 - val_loss: 0.2590\n",
            "Epoch 11/20\n",
            "2166/2166 [==============================] - 17s 8ms/step - loss: 0.2613 - val_loss: 0.2593\n",
            "Epoch 12/20\n",
            "2166/2166 [==============================] - 17s 8ms/step - loss: 0.2609 - val_loss: 0.2590\n",
            "Epoch 13/20\n",
            "1296/2166 [================>.............] - ETA: 6s - loss: 0.2617"
          ]
        }
      ],
      "source": [
        "model.fit(X_scaled, y_train, epochs=20, validation_data=(X_test_scaled, y_test),batch_size=128, callbacks=[early_stop])"
      ]
    },
    {
      "cell_type": "code",
      "execution_count": null,
      "metadata": {
        "colab": {
          "base_uri": "https://localhost:8080/"
        },
        "id": "rPBfTr-70_jL",
        "outputId": "cf1c7ad4-6773-44dd-a79d-62f03be4ac03"
      },
      "outputs": [
        {
          "name": "stdout",
          "output_type": "stream",
          "text": [
            "Epoch 1/20\n",
            "2166/2166 [==============================] - 13s 5ms/step - loss: 0.3042 - val_loss: 0.2610\n",
            "Epoch 2/20\n",
            "2166/2166 [==============================] - 11s 5ms/step - loss: 0.2676 - val_loss: 0.2610\n",
            "Epoch 3/20\n",
            "2166/2166 [==============================] - 10s 5ms/step - loss: 0.2648 - val_loss: 0.2599\n",
            "Epoch 4/20\n",
            "2166/2166 [==============================] - 11s 5ms/step - loss: 0.2636 - val_loss: 0.2596\n",
            "Epoch 5/20\n",
            "2166/2166 [==============================] - 10s 5ms/step - loss: 0.2630 - val_loss: 0.2595\n",
            "Epoch 6/20\n",
            "2166/2166 [==============================] - 10s 5ms/step - loss: 0.2627 - val_loss: 0.2598\n",
            "Epoch 7/20\n",
            "2166/2166 [==============================] - 10s 5ms/step - loss: 0.2620 - val_loss: 0.2591\n",
            "Epoch 8/20\n",
            "2166/2166 [==============================] - 11s 5ms/step - loss: 0.2618 - val_loss: 0.2591\n",
            "Epoch 9/20\n",
            "2166/2166 [==============================] - 11s 5ms/step - loss: 0.2614 - val_loss: 0.2591\n",
            "Epoch 10/20\n",
            "2166/2166 [==============================] - 10s 5ms/step - loss: 0.2611 - val_loss: 0.2589\n",
            "Epoch 11/20\n",
            "2166/2166 [==============================] - 11s 5ms/step - loss: 0.2610 - val_loss: 0.2586\n",
            "Epoch 12/20\n",
            "2166/2166 [==============================] - 10s 5ms/step - loss: 0.2610 - val_loss: 0.2598\n",
            "Epoch 13/20\n",
            "2166/2166 [==============================] - 11s 5ms/step - loss: 0.2607 - val_loss: 0.2587\n",
            "Epoch 14/20\n",
            "2166/2166 [==============================] - 11s 5ms/step - loss: 0.2604 - val_loss: 0.2586\n",
            "Epoch 15/20\n",
            "2166/2166 [==============================] - 11s 5ms/step - loss: 0.2601 - val_loss: 0.2591\n",
            "Epoch 16/20\n",
            "2166/2166 [==============================] - 11s 5ms/step - loss: 0.2604 - val_loss: 0.2585\n",
            "Epoch 17/20\n",
            "2166/2166 [==============================] - 11s 5ms/step - loss: 0.2598 - val_loss: 0.2585\n",
            "Epoch 18/20\n",
            "2166/2166 [==============================] - 11s 5ms/step - loss: 0.2598 - val_loss: 0.2587\n",
            "Epoch 19/20\n",
            "2166/2166 [==============================] - 11s 5ms/step - loss: 0.2596 - val_loss: 0.2588\n",
            "Epoch 20/20\n",
            "2166/2166 [==============================] - 11s 5ms/step - loss: 0.2597 - val_loss: 0.2585\n"
          ]
        },
        {
          "data": {
            "text/plain": [
              "<keras.callbacks.History at 0x7feb200a56d0>"
            ]
          },
          "execution_count": 74,
          "metadata": {},
          "output_type": "execute_result"
        }
      ],
      "source": [
        "model.fit(X_scaled, y_train, epochs=20, validation_data=(X_test_scaled, y_test),batch_size=128, callbacks=[early_stop])"
      ]
    },
    {
      "cell_type": "code",
      "execution_count": null,
      "metadata": {
        "id": "5X_fYmlUf5xt"
      },
      "outputs": [],
      "source": [
        "losses = pd.DataFrame(model.history.history)"
      ]
    },
    {
      "cell_type": "code",
      "execution_count": null,
      "metadata": {
        "colab": {
          "base_uri": "https://localhost:8080/",
          "height": 282
        },
        "id": "V7cmUFub47q5",
        "outputId": "57893d93-75b7-4d7f-d7a4-2934efc63b92"
      },
      "outputs": [
        {
          "data": {
            "text/plain": [
              "<matplotlib.axes._subplots.AxesSubplot at 0x7feab8ed5350>"
            ]
          },
          "execution_count": 76,
          "metadata": {},
          "output_type": "execute_result"
        },
        {
          "data": {
            "image/png": "[encoded data removed]",
            "text/plain": [
              "<Figure size 432x288 with 1 Axes>"
            ]
          },
          "metadata": {
            "needs_background": "light"
          },
          "output_type": "display_data"
        }
      ],
      "source": [
        "losses.plot()"
      ]
    },
    {
      "cell_type": "code",
      "execution_count": null,
      "metadata": {
        "id": "gbDfB1fC4-gP"
      },
      "outputs": [],
      "source": [
        "from sklearn.metrics import confusion_matrix, classification_report"
      ]
    },
    {
      "cell_type": "code",
      "execution_count": null,
      "metadata": {
        "id": "Lprq4mnA6yqt"
      },
      "outputs": [],
      "source": [
        "predict = np.where(model.predict(X_test_scaled) > 0.5, 1,0)"
      ]
    },
    {
      "cell_type": "code",
      "execution_count": null,
      "metadata": {
        "colab": {
          "base_uri": "https://localhost:8080/"
        },
        "id": "3SMVcgnD7C8P",
        "outputId": "e2a778eb-ea4e-4517-90ae-37afaf82fe12"
      },
      "outputs": [
        {
          "data": {
            "text/plain": [
              "array([[10082, 13178],\n",
              "       [   21, 95528]])"
            ]
          },
          "execution_count": 79,
          "metadata": {},
          "output_type": "execute_result"
        }
      ],
      "source": [
        "confusion_matrix(y_test, predict)"
      ]
    },
    {
      "cell_type": "code",
      "execution_count": null,
      "metadata": {
        "colab": {
          "base_uri": "https://localhost:8080/"
        },
        "id": "KyKJRlq39NPE",
        "outputId": "e8dfb97f-48b5-43ec-938d-198f638c9762"
      },
      "outputs": [
        {
          "name": "stdout",
          "output_type": "stream",
          "text": [
            "              precision    recall  f1-score   support\n",
            "\n",
            "           0       1.00      0.43      0.60     23260\n",
            "           1       0.88      1.00      0.94     95549\n",
            "\n",
            "    accuracy                           0.89    118809\n",
            "   macro avg       0.94      0.72      0.77    118809\n",
            "weighted avg       0.90      0.89      0.87    118809\n",
            "\n"
          ]
        }
      ],
      "source": [
        "print(classification_report(y_test, predict))"
      ]
    },
    {
      "cell_type": "code",
      "execution_count": null,
      "metadata": {
        "colab": {
          "base_uri": "https://localhost:8080/"
        },
        "id": "PiMTnAlN-hYj",
        "outputId": "d78f7082-64fc-40b6-ae4e-d68bb401d8c3"
      },
      "outputs": [
        {
          "data": {
            "text/plain": [
              "loan_amnt        24000.00\n",
              "term                60.00\n",
              "int_rate            13.11\n",
              "installment        547.43\n",
              "annual_inc       85000.00\n",
              "                   ...   \n",
              "zipcode_30723        0.00\n",
              "zipcode_48052        0.00\n",
              "zipcode_70466        0.00\n",
              "zipcode_86630        0.00\n",
              "zipcode_93700        0.00\n",
              "Name: 304691, Length: 69, dtype: float64"
            ]
          },
          "execution_count": 146,
          "metadata": {},
          "output_type": "execute_result"
        }
      ],
      "source": [
        "import random\n",
        "random.seed(101)\n",
        "random_ind = random.randint(0,len(df))\n",
        "\n",
        "new_customer = df_dummies.drop('loan_status_new',axis=1).iloc[random_ind]\n",
        "new_customer"
      ]
    },
    {
      "cell_type": "code",
      "execution_count": null,
      "metadata": {
        "colab": {
          "base_uri": "https://localhost:8080/"
        },
        "id": "rUZR2Z0IBC1z",
        "outputId": "c7c832cd-1c12-43bc-f0cd-255194f627f7"
      },
      "outputs": [
        {
          "data": {
            "text/plain": [
              "array([2.4000e+04, 6.0000e+01, 1.3110e+01, 5.4743e+02, 8.5000e+04,\n",
              "       1.0980e+01, 6.0000e+00, 0.0000e+00, 3.5464e+04, 6.6800e+01,\n",
              "       2.9000e+01, 8.0000e+00, 0.0000e+00, 1.9910e+03, 0.0000e+00,\n",
              "       0.0000e+00, 0.0000e+00, 0.0000e+00, 0.0000e+00, 0.0000e+00,\n",
              "       0.0000e+00, 1.0000e+00, 0.0000e+00, 0.0000e+00, 0.0000e+00,\n",
              "       0.0000e+00, 0.0000e+00, 0.0000e+00, 0.0000e+00, 0.0000e+00,\n",
              "       0.0000e+00, 0.0000e+00, 0.0000e+00, 0.0000e+00, 0.0000e+00,\n",
              "       0.0000e+00, 0.0000e+00, 0.0000e+00, 0.0000e+00, 0.0000e+00,\n",
              "       0.0000e+00, 0.0000e+00, 0.0000e+00, 0.0000e+00, 0.0000e+00,\n",
              "       0.0000e+00, 0.0000e+00, 0.0000e+00, 0.0000e+00, 0.0000e+00,\n",
              "       0.0000e+00, 1.0000e+00, 0.0000e+00, 0.0000e+00, 0.0000e+00,\n",
              "       0.0000e+00, 0.0000e+00, 0.0000e+00, 1.0000e+00, 0.0000e+00,\n",
              "       1.0000e+00, 0.0000e+00, 0.0000e+00, 0.0000e+00, 0.0000e+00,\n",
              "       0.0000e+00, 0.0000e+00, 0.0000e+00, 0.0000e+00])"
            ]
          },
          "execution_count": 147,
          "metadata": {},
          "output_type": "execute_result"
        }
      ],
      "source": [
        "new_customer.values"
      ]
    },
    {
      "cell_type": "code",
      "execution_count": null,
      "metadata": {
        "colab": {
          "base_uri": "https://localhost:8080/"
        },
        "id": "rG2qOOoJBJzg",
        "outputId": "6d2a35be-e8c9-457c-ca22-1fd0c439642b"
      },
      "outputs": [
        {
          "data": {
            "text/plain": [
              "(69,)"
            ]
          },
          "execution_count": 148,
          "metadata": {},
          "output_type": "execute_result"
        }
      ],
      "source": [
        "new_customer.values.shape"
      ]
    },
    {
      "cell_type": "code",
      "execution_count": null,
      "metadata": {
        "id": "6OqcwIODBJpu"
      },
      "outputs": [],
      "source": [
        "b = new_customer.values.reshape(-1,69)"
      ]
    },
    {
      "cell_type": "code",
      "execution_count": null,
      "metadata": {
        "id": "k2rNf7gXBh1R"
      },
      "outputs": [],
      "source": [
        "a = new_customer.values.reshape(-2,69)"
      ]
    },
    {
      "cell_type": "code",
      "execution_count": null,
      "metadata": {
        "colab": {
          "base_uri": "https://localhost:8080/"
        },
        "id": "-FNWo0ZxFfkz",
        "outputId": "c5f9c312-6f77-4f66-db7f-6ee85e009a86"
      },
      "outputs": [
        {
          "data": {
            "text/plain": [
              "array([[ True,  True,  True,  True,  True,  True,  True,  True,  True,\n",
              "         True,  True,  True,  True,  True,  True,  True,  True,  True,\n",
              "         True,  True,  True,  True,  True,  True,  True,  True,  True,\n",
              "         True,  True,  True,  True,  True,  True,  True,  True,  True,\n",
              "         True,  True,  True,  True,  True,  True,  True,  True,  True,\n",
              "         True,  True,  True,  True,  True,  True,  True,  True,  True,\n",
              "         True,  True,  True,  True,  True,  True,  True,  True,  True,\n",
              "         True,  True,  True,  True,  True,  True]])"
            ]
          },
          "execution_count": 162,
          "metadata": {},
          "output_type": "execute_result"
        }
      ],
      "source": [
        "a == b"
      ]
    },
    {
      "cell_type": "code",
      "execution_count": null,
      "metadata": {
        "colab": {
          "base_uri": "https://localhost:8080/"
        },
        "id": "ad1pNR5u-uaa",
        "outputId": "8c829fab-e8d8-431e-e6f5-74def4cbd529"
      },
      "outputs": [
        {
          "data": {
            "text/plain": [
              "array([[1.]], dtype=float32)"
            ]
          },
          "execution_count": 139,
          "metadata": {},
          "output_type": "execute_result"
        }
      ],
      "source": [
        "model.predict(new_customer.values.reshape(1,69))"
      ]
    },
    {
      "cell_type": "code",
      "execution_count": null,
      "metadata": {
        "id": "GoKL4EAeBrhZ"
      },
      "outputs": [],
      "source": [
        ""
      ]
    },
    {
      "cell_type": "code",
      "execution_count": null,
      "metadata": {
        "colab": {
          "base_uri": "https://localhost:8080/"
        },
        "id": "CuyEQPHi_aeP",
        "outputId": "f45ecde0-0b9c-4dfb-d4f1-ea58a489d7b8"
      },
      "outputs": [
        {
          "data": {
            "text/plain": [
              "1"
            ]
          },
          "execution_count": 140,
          "metadata": {},
          "output_type": "execute_result"
        }
      ],
      "source": [
        "df.iloc[random_ind]['loan_status_new']"
      ]
    },
    {
      "cell_type": "code",
      "execution_count": null,
      "metadata": {
        "id": "69msnHVO_lWL"
      },
      "outputs": [],
      "source": [
        ""
      ]
    }
  ],
  "metadata": {
    "accelerator": "GPU",
    "colab": {
      "name": "Copy_of_Untitled4.ipynb",
      "provenance": [],
      "include_colab_link": true
    },
    "kernelspec": {
      "display_name": "python 3.9 (tensorflow)",
      "language": "python",
      "name": "tensorflow"
    },
    "language_info": {
      "codemirror_mode": {
        "name": "ipython",
        "version": 3
      },
      "file_extension": ".py",
      "mimetype": "text/x-python",
      "name": "python",
      "nbconvert_exporter": "python",
      "pygments_lexer": "ipython3",
      "version": "3.9.7"
    }
  },
  "nbformat": 4,
  "nbformat_minor": 0
}