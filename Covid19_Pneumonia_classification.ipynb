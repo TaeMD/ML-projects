{
  "nbformat": 4,
  "nbformat_minor": 0,
  "metadata": {
    "colab": {
      "name": "Covid19 Pneumonia_classification.ipynb",
      "provenance": [],
      "machine_shape": "hm",
      "authorship_tag": "ABX9TyOs76R4ICZadP4XaAwEpG1b",
      "include_colab_link": true
    },
    "kernelspec": {
      "name": "python3",
      "display_name": "Python 3"
    },
    "language_info": {
      "name": "python"
    }
  },
  "cells": [
    {
      "cell_type": "markdown",
      "metadata": {
        "id": "view-in-github",
        "colab_type": "text"
      },
      "source": [
        "<a href=\"https://colab.research.google.com/github/TaeMD/ML-projects/blob/main/Covid19_Pneumonia_classification.ipynb\" target=\"_parent\"><img src=\"https://colab.research.google.com/assets/colab-badge.svg\" alt=\"Open In Colab\"/></a>"
      ]
    },
    {
      "cell_type": "code",
      "execution_count": 1,
      "metadata": {
        "colab": {
          "base_uri": "https://localhost:8080/"
        },
        "id": "IIq27XQnTfo9",
        "outputId": "42fbb5bb-b38c-46ee-b2cc-857b065a3c6b"
      },
      "outputs": [
        {
          "output_type": "stream",
          "name": "stdout",
          "text": [
            "Cloning into 'datasets'...\n",
            "remote: Enumerating objects: 2301, done.\u001b[K\n",
            "remote: Total 2301 (delta 0), reused 0 (delta 0), pack-reused 2301\u001b[K\n",
            "Receiving objects: 100% (2301/2301), 1.31 GiB | 45.33 MiB/s, done.\n",
            "Checking out files: 100% (2295/2295), done.\n"
          ]
        }
      ],
      "source": [
        "! git clone https://github.com/education454/datasets.git"
      ]
    },
    {
      "cell_type": "code",
      "source": [
        "import tensorflow as tf\n",
        "from tensorflow.keras.models import Sequential\n",
        "from tensorflow.keras.layers import Dense, Conv2D, MaxPooling2D, Flatten\n",
        "from tensorflow.keras.preprocessing.image import ImageDataGenerator\n",
        "import numpy as np\n",
        "import matplotlib.pyplot as plt\n",
        "import matplotlib.image as mpimg\n",
        "import os\n",
        "import random"
      ],
      "metadata": {
        "id": "ARCCBP-3cyBY"
      },
      "execution_count": 2,
      "outputs": []
    },
    {
      "cell_type": "code",
      "source": [
        "base_dir = '/content/datasets/Data'\n",
        "base_train_covid = os.path.join(base_dir, 'train/COVID19')\n",
        "base_train_normal = os.path.join(base_dir, 'train/NORMAL') \n",
        "test_covid = os.path.join(base_dir, 'test/COVID19')\n",
        "test_normal = os.path.join(base_dir, 'test/NORMAL')"
      ],
      "metadata": {
        "id": "g2f0jNKReN8g"
      },
      "execution_count": 3,
      "outputs": []
    },
    {
      "cell_type": "code",
      "source": [
        "normal_length = len(os.listdir(base_train_normal))\n",
        "covid_length = len(os.listdir(base_train_covid))\n",
        "\n",
        "print('normal cases:', len(os.listdir(base_train_normal)))\n",
        "print('covid cases:', len(os.listdir(base_train_covid)))"
      ],
      "metadata": {
        "colab": {
          "base_uri": "https://localhost:8080/"
        },
        "id": "E2mPXQQq2Csb",
        "outputId": "15745c41-85a7-4b25-9125-19bc71fea1b0"
      },
      "execution_count": 4,
      "outputs": [
        {
          "output_type": "stream",
          "name": "stdout",
          "text": [
            "normal cases: 1266\n",
            "covid cases: 545\n"
          ]
        }
      ]
    },
    {
      "cell_type": "markdown",
      "source": [
        "# Split the train data into train and validation data manually (Optional) "
      ],
      "metadata": {
        "id": "Yg5Y6K_72ZJ6"
      }
    },
    {
      "cell_type": "markdown",
      "source": [
        "Normal train data into train and validation data"
      ],
      "metadata": {
        "id": "8hoJwQYP_XEs"
      }
    },
    {
      "cell_type": "code",
      "source": [
        "nsplit = int(normal_length * 0.8)\n",
        "csplit = int(covid_length * 0.8)\n",
        "print(nsplit)\n",
        "print(csplit)"
      ],
      "metadata": {
        "id": "tAPI0Fbh2NFj"
      },
      "execution_count": null,
      "outputs": []
    },
    {
      "cell_type": "code",
      "source": [
        "normal_file_list = os.listdir(base_train_normal)"
      ],
      "metadata": {
        "id": "xGSk35Kk3OQ-"
      },
      "execution_count": 10,
      "outputs": []
    },
    {
      "cell_type": "code",
      "source": [
        "random.shuffle(normal_file_list)\n",
        "\n",
        "train_normal_file_list = normal_file_list [:nsplit]\n",
        "validation_normal_file_list = normal_file_list [nsplit:]\n",
        "print(len(train_normal_file_list))\n",
        "print(len(validation_normal_file_list))"
      ],
      "metadata": {
        "id": "iKtMisB13qom"
      },
      "execution_count": null,
      "outputs": []
    },
    {
      "cell_type": "code",
      "source": [
        "validation_dir = base_dir + '/validation'\n",
        "validation_normal_dir = validation_dir + '/NORMAL'\n",
        "validation_covid_dir = validation_dir + '/COVID19'\n",
        "\n",
        "os.mkdir(validation_dir)\n",
        "os.mkdir(validation_normal_dir)\n",
        "os.mkdir(validation_covid_dir)"
      ],
      "metadata": {
        "id": "RPH8kfzk3spo"
      },
      "execution_count": 12,
      "outputs": []
    },
    {
      "cell_type": "code",
      "source": [
        "for f in validation_normal_file_list:\n",
        "  os.rename (os.path.join(base_train_normal,f), os.path.join(validation_normal_dir,f))"
      ],
      "metadata": {
        "id": "bVEK0m926JKT"
      },
      "execution_count": 15,
      "outputs": []
    },
    {
      "cell_type": "code",
      "source": [
        "len(os.listdir(validation_normal_dir))"
      ],
      "metadata": {
        "id": "xRCatFyR7esL"
      },
      "execution_count": null,
      "outputs": []
    },
    {
      "cell_type": "markdown",
      "source": [
        "Covid train data into train and validation data"
      ],
      "metadata": {
        "id": "rY-pibfb_axJ"
      }
    },
    {
      "cell_type": "code",
      "source": [
        "covid_file_list = os.listdir(base_train_covid)"
      ],
      "metadata": {
        "id": "BKW1ZfO9_K0T"
      },
      "execution_count": 17,
      "outputs": []
    },
    {
      "cell_type": "code",
      "source": [
        "len(covid_file_list)"
      ],
      "metadata": {
        "id": "b5cXlyxSAFcw"
      },
      "execution_count": null,
      "outputs": []
    },
    {
      "cell_type": "code",
      "source": [
        "random.shuffle(covid_file_list)\n",
        "\n",
        "train_covid_file_list = covid_file_list [:csplit]\n",
        "validation_covid_file_list = covid_file_list [csplit:]\n",
        "print(len(train_covid_file_list))\n",
        "print(len(validation_covid_file_list))"
      ],
      "metadata": {
        "id": "NLShs4GS_k9n"
      },
      "execution_count": null,
      "outputs": []
    },
    {
      "cell_type": "code",
      "source": [
        "for f in validation_covid_file_list:\n",
        "  os.rename (os.path.join(base_train_covid, f), os.path.join(validation_covid_dir, f))"
      ],
      "metadata": {
        "id": "oAy0LaW3AgkH"
      },
      "execution_count": 22,
      "outputs": []
    },
    {
      "cell_type": "code",
      "source": [
        "len(os.listdir(validation_covid_dir))"
      ],
      "metadata": {
        "id": "M_PGzVlAA0jN"
      },
      "execution_count": null,
      "outputs": []
    },
    {
      "cell_type": "markdown",
      "source": [
        "Data visualization"
      ],
      "metadata": {
        "id": "bhl0E-3BLKiy"
      }
    },
    {
      "cell_type": "code",
      "source": [
        ""
      ],
      "metadata": {
        "id": "SRWXMbHHBEoP"
      },
      "execution_count": null,
      "outputs": []
    }
  ]
}