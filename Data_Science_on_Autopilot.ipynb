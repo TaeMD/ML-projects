{
  "nbformat": 4,
  "nbformat_minor": 0,
  "metadata": {
    "colab": {
      "provenance": [],
      "mount_file_id": "1MJtOqsfjCF0pSGpKPOeDisQElvuMj9e-",
      "authorship_tag": "ABX9TyPpPWgMvJ0YN3aempW7gjYF",
      "include_colab_link": true
    },
    "kernelspec": {
      "name": "python3",
      "display_name": "Python 3"
    },
    "language_info": {
      "name": "python"
    }
  },
  "cells": [
    {
      "cell_type": "markdown",
      "metadata": {
        "id": "view-in-github",
        "colab_type": "text"
      },
      "source": [
        "<a href=\"https://colab.research.google.com/github/TaeMD/ML-projects/blob/main/Data_Science_on_Autopilot.ipynb\" target=\"_parent\"><img src=\"https://colab.research.google.com/assets/colab-badge.svg\" alt=\"Open In Colab\"/></a>"
      ]
    },
    {
      "cell_type": "code",
      "execution_count": 1,
      "metadata": {
        "id": "Ieii9SUiXkRR"
      },
      "outputs": [],
      "source": [
        "import pandas as pd\n",
        "import numpy as np\n",
        "import matplotlib.pyplot as plt\n",
        "import seaborn as sns"
      ]
    },
    {
      "cell_type": "code",
      "source": [
        "df = pd.read_csv('/content/drive/MyDrive/insurance.csv')"
      ],
      "metadata": {
        "id": "lObezdK4YNHV"
      },
      "execution_count": 3,
      "outputs": []
    },
    {
      "cell_type": "code",
      "source": [
        "!pip install -U ipykernel"
      ],
      "metadata": {
        "id": "-9eZkExrYXIl"
      },
      "execution_count": null,
      "outputs": []
    },
    {
      "cell_type": "code",
      "source": [
        "!pip install -U pip\n",
        "!pip install -U setuptools wheel\n",
        "!pip install -U \"mxnet<2.0.0\"\n",
        "!pip install autogluon --no-cache-dir"
      ],
      "metadata": {
        "id": "988BNNXnboz3"
      },
      "execution_count": null,
      "outputs": []
    },
    {
      "cell_type": "code",
      "source": [
        "from autogluon.tabular import TabularDataset, TabularPredictor"
      ],
      "metadata": {
        "id": "_xtLjDyTcCD3"
      },
      "execution_count": 4,
      "outputs": []
    },
    {
      "cell_type": "code",
      "source": [
        "df_region = df.groupby('region').mean()\n",
        "df_region"
      ],
      "metadata": {
        "id": "JU3H4F_jiCwD"
      },
      "execution_count": null,
      "outputs": []
    },
    {
      "cell_type": "code",
      "source": [
        "df_age = df.groupby('age').mean()\n",
        "df_age[['charges']].plot()"
      ],
      "metadata": {
        "id": "dwdKQvRPin9K"
      },
      "execution_count": null,
      "outputs": []
    },
    {
      "cell_type": "code",
      "source": [
        "plt.figure(figsize=(15,6))\n",
        "sns.regplot(x='age', y='charges', data=df)\n",
        "plt.show()"
      ],
      "metadata": {
        "id": "6TRtWdwgkYSq"
      },
      "execution_count": null,
      "outputs": []
    },
    {
      "cell_type": "code",
      "source": [
        "plt.figure(figsize=(15,6))\n",
        "sns.regplot(x='bmi', y='charges', data=df)\n",
        "plt.show()"
      ],
      "metadata": {
        "id": "UIrZQFdokYQk"
      },
      "execution_count": null,
      "outputs": []
    },
    {
      "cell_type": "code",
      "source": [
        "from sklearn.model_selection import train_test_split"
      ],
      "metadata": {
        "id": "xSV2rNXPkYMJ"
      },
      "execution_count": 37,
      "outputs": []
    },
    {
      "cell_type": "code",
      "source": [
        "X_train, X_test = train_test_split(df, test_size=0.2, random_state=0)"
      ],
      "metadata": {
        "id": "FxLydxbMkYKD"
      },
      "execution_count": 40,
      "outputs": []
    },
    {
      "cell_type": "code",
      "source": [
        "predictor = TabularPredictor(label='charges', problem_type='regression', eval_metric='r2').fit(train_data = X_train,\n",
        "                                                                                               time_limit=200, presets='best_quality')"
      ],
      "metadata": {
        "id": "kbUMSJbunnAK"
      },
      "execution_count": null,
      "outputs": []
    },
    {
      "cell_type": "code",
      "source": [
        "predictor.fit_summary()"
      ],
      "metadata": {
        "id": "SZCul-b6oCAW"
      },
      "execution_count": null,
      "outputs": []
    },
    {
      "cell_type": "code",
      "source": [
        "predictor.leaderboard()"
      ],
      "metadata": {
        "id": "ZLOKK5-bo9wf"
      },
      "execution_count": null,
      "outputs": []
    },
    {
      "cell_type": "code",
      "source": [
        "f, ax = plt.subplots(figsize= (15,6))\n",
        "sns.barplot(x='model', y='score_val', data=predictor.leaderboard(), color='b')\n",
        "ax.set(ylabel='R2', xlabel='Regression Models')\n",
        "plt.xticks(rotation =45);"
      ],
      "metadata": {
        "id": "DgLZnbdtpVUS"
      },
      "execution_count": null,
      "outputs": []
    },
    {
      "cell_type": "code",
      "source": [
        "predictor.evaluate(X_test)"
      ],
      "metadata": {
        "id": "0IGtpz6dp4rk"
      },
      "execution_count": null,
      "outputs": []
    },
    {
      "cell_type": "code",
      "source": [
        "y_pred = predictor.predict(X_test)\n",
        "print('predictions: ', list(y_pred)[:5])"
      ],
      "metadata": {
        "colab": {
          "base_uri": "https://localhost:8080/"
        },
        "id": "LQfN0xQsp-tQ",
        "outputId": "599c47db-e9d8-4288-cde5-797e4de0cc90"
      },
      "execution_count": 49,
      "outputs": [
        {
          "output_type": "stream",
          "name": "stdout",
          "text": [
            "predictions:  [11437.58984375, 10110.330078125, 45672.421875, 13704.53515625, 10697.66015625]\n"
          ]
        }
      ]
    },
    {
      "cell_type": "code",
      "source": [
        "y_test = X_test['charges']"
      ],
      "metadata": {
        "id": "T7Jm2Qvwq3Au"
      },
      "execution_count": 50,
      "outputs": []
    },
    {
      "cell_type": "code",
      "source": [
        "plt.figure(figsize=(15,10))\n",
        "plt.plot(y_test, y_pred, '^', color='r')\n",
        "plt.ylabel('model predictions')\n",
        "plt.xlabel('true values')"
      ],
      "metadata": {
        "id": "0XP-R8-JrDKs"
      },
      "execution_count": null,
      "outputs": []
    },
    {
      "cell_type": "code",
      "source": [
        "predictor = TabularPredictor(label='charges', problem_type='regression', \n",
        "                             eval_metric='rmse').fit(train_data = X_train,\n",
        "                            time_limit=300, presets='best_quality')"
      ],
      "metadata": {
        "id": "pC7zUSGBrihZ"
      },
      "execution_count": null,
      "outputs": []
    },
    {
      "cell_type": "code",
      "source": [
        "predictor.fit_summary()"
      ],
      "metadata": {
        "id": "WdzTRVGw-LmK"
      },
      "execution_count": null,
      "outputs": []
    },
    {
      "cell_type": "code",
      "source": [
        "predictor.leaderboard()"
      ],
      "metadata": {
        "id": "ZXazoTg1Rhr5"
      },
      "execution_count": null,
      "outputs": []
    },
    {
      "cell_type": "code",
      "source": [
        "plt.figure(figsize=(15,10))\n",
        "plt.plot(y_test, y_pred, '^', color='r')\n",
        "plt.ylabel('model predictions')\n",
        "plt.xlabel('true values')"
      ],
      "metadata": {
        "id": "4gAfps9ERz9P"
      },
      "execution_count": null,
      "outputs": []
    },
    {
      "cell_type": "code",
      "source": [],
      "metadata": {
        "id": "kNESp8DpR8xD"
      },
      "execution_count": null,
      "outputs": []
    }
  ]
}