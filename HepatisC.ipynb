{
  "nbformat": 4,
  "nbformat_minor": 0,
  "metadata": {
    "colab": {
      "name": "Untitled5.ipynb",
      "provenance": [],
      "collapsed_sections": [],
      "authorship_tag": "ABX9TyNfP6EJeNaKYgt/0P8YvJDZ",
      "include_colab_link": true
    },
    "kernelspec": {
      "name": "python3",
      "display_name": "Python 3"
    },
    "language_info": {
      "name": "python"
    }
  },
  "cells": [
    {
      "cell_type": "markdown",
      "metadata": {
        "id": "view-in-github",
        "colab_type": "text"
      },
      "source": [
        "<a href=\"https://colab.research.google.com/github/TaeMD/ML-projects/blob/main/HepatisC.ipynb\" target=\"_parent\"><img src=\"https://colab.research.google.com/assets/colab-badge.svg\" alt=\"Open In Colab\"/></a>"
      ]
    },
    {
      "cell_type": "code",
      "metadata": {
        "colab": {
          "base_uri": "https://localhost:8080/"
        },
        "id": "KG-RADIVjTpt",
        "outputId": "e570547c-89aa-48b1-bbf7-0107116d1b3e"
      },
      "source": [
        "\n",
        "from google.colab import drive\n",
        "drive.mount('/content/drive')"
      ],
      "execution_count": 1,
      "outputs": [
        {
          "output_type": "stream",
          "name": "stdout",
          "text": [
            "Mounted at /content/drive\n"
          ]
        }
      ]
    },
    {
      "cell_type": "code",
      "metadata": {
        "id": "40LrhWe5jeb2"
      },
      "source": [
        "import pandas as pd\n",
        "import seaborn as sns\n",
        "import numpy as np\n",
        "import matplotlib.pyplot as plt"
      ],
      "execution_count": 2,
      "outputs": []
    },
    {
      "cell_type": "code",
      "metadata": {
        "id": "EeBf6XzGjfck"
      },
      "source": [
        "df = pd.read_csv('/content/drive/My Drive/HepatitisCdata.csv')"
      ],
      "execution_count": 3,
      "outputs": []
    },
    {
      "cell_type": "code",
      "metadata": {
        "colab": {
          "base_uri": "https://localhost:8080/",
          "height": 206
        },
        "id": "QLZLm4h1jmCs",
        "outputId": "f012a7fa-c9cd-41ae-b0ed-0ff75583a18e"
      },
      "source": [
        "df.head()"
      ],
      "execution_count": 4,
      "outputs": [
        {
          "output_type": "execute_result",
          "data": {
            "text/html": [
              "<div>\n",
              "<style scoped>\n",
              "    .dataframe tbody tr th:only-of-type {\n",
              "        vertical-align: middle;\n",
              "    }\n",
              "\n",
              "    .dataframe tbody tr th {\n",
              "        vertical-align: top;\n",
              "    }\n",
              "\n",
              "    .dataframe thead th {\n",
              "        text-align: right;\n",
              "    }\n",
              "</style>\n",
              "<table border=\"1\" class=\"dataframe\">\n",
              "  <thead>\n",
              "    <tr style=\"text-align: right;\">\n",
              "      <th></th>\n",
              "      <th>Unnamed: 0</th>\n",
              "      <th>Category</th>\n",
              "      <th>Age</th>\n",
              "      <th>Sex</th>\n",
              "      <th>ALB</th>\n",
              "      <th>ALP</th>\n",
              "      <th>ALT</th>\n",
              "      <th>AST</th>\n",
              "      <th>BIL</th>\n",
              "      <th>CHE</th>\n",
              "      <th>CHOL</th>\n",
              "      <th>CREA</th>\n",
              "      <th>GGT</th>\n",
              "      <th>PROT</th>\n",
              "    </tr>\n",
              "  </thead>\n",
              "  <tbody>\n",
              "    <tr>\n",
              "      <th>0</th>\n",
              "      <td>1</td>\n",
              "      <td>0=Blood Donor</td>\n",
              "      <td>32</td>\n",
              "      <td>m</td>\n",
              "      <td>38.5</td>\n",
              "      <td>52.5</td>\n",
              "      <td>7.7</td>\n",
              "      <td>22.1</td>\n",
              "      <td>7.5</td>\n",
              "      <td>6.93</td>\n",
              "      <td>3.23</td>\n",
              "      <td>106.0</td>\n",
              "      <td>12.1</td>\n",
              "      <td>69.0</td>\n",
              "    </tr>\n",
              "    <tr>\n",
              "      <th>1</th>\n",
              "      <td>2</td>\n",
              "      <td>0=Blood Donor</td>\n",
              "      <td>32</td>\n",
              "      <td>m</td>\n",
              "      <td>38.5</td>\n",
              "      <td>70.3</td>\n",
              "      <td>18.0</td>\n",
              "      <td>24.7</td>\n",
              "      <td>3.9</td>\n",
              "      <td>11.17</td>\n",
              "      <td>4.80</td>\n",
              "      <td>74.0</td>\n",
              "      <td>15.6</td>\n",
              "      <td>76.5</td>\n",
              "    </tr>\n",
              "    <tr>\n",
              "      <th>2</th>\n",
              "      <td>3</td>\n",
              "      <td>0=Blood Donor</td>\n",
              "      <td>32</td>\n",
              "      <td>m</td>\n",
              "      <td>46.9</td>\n",
              "      <td>74.7</td>\n",
              "      <td>36.2</td>\n",
              "      <td>52.6</td>\n",
              "      <td>6.1</td>\n",
              "      <td>8.84</td>\n",
              "      <td>5.20</td>\n",
              "      <td>86.0</td>\n",
              "      <td>33.2</td>\n",
              "      <td>79.3</td>\n",
              "    </tr>\n",
              "    <tr>\n",
              "      <th>3</th>\n",
              "      <td>4</td>\n",
              "      <td>0=Blood Donor</td>\n",
              "      <td>32</td>\n",
              "      <td>m</td>\n",
              "      <td>43.2</td>\n",
              "      <td>52.0</td>\n",
              "      <td>30.6</td>\n",
              "      <td>22.6</td>\n",
              "      <td>18.9</td>\n",
              "      <td>7.33</td>\n",
              "      <td>4.74</td>\n",
              "      <td>80.0</td>\n",
              "      <td>33.8</td>\n",
              "      <td>75.7</td>\n",
              "    </tr>\n",
              "    <tr>\n",
              "      <th>4</th>\n",
              "      <td>5</td>\n",
              "      <td>0=Blood Donor</td>\n",
              "      <td>32</td>\n",
              "      <td>m</td>\n",
              "      <td>39.2</td>\n",
              "      <td>74.1</td>\n",
              "      <td>32.6</td>\n",
              "      <td>24.8</td>\n",
              "      <td>9.6</td>\n",
              "      <td>9.15</td>\n",
              "      <td>4.32</td>\n",
              "      <td>76.0</td>\n",
              "      <td>29.9</td>\n",
              "      <td>68.7</td>\n",
              "    </tr>\n",
              "  </tbody>\n",
              "</table>\n",
              "</div>"
            ],
            "text/plain": [
              "   Unnamed: 0       Category  Age Sex   ALB  ...    CHE  CHOL   CREA   GGT  PROT\n",
              "0           1  0=Blood Donor   32   m  38.5  ...   6.93  3.23  106.0  12.1  69.0\n",
              "1           2  0=Blood Donor   32   m  38.5  ...  11.17  4.80   74.0  15.6  76.5\n",
              "2           3  0=Blood Donor   32   m  46.9  ...   8.84  5.20   86.0  33.2  79.3\n",
              "3           4  0=Blood Donor   32   m  43.2  ...   7.33  4.74   80.0  33.8  75.7\n",
              "4           5  0=Blood Donor   32   m  39.2  ...   9.15  4.32   76.0  29.9  68.7\n",
              "\n",
              "[5 rows x 14 columns]"
            ]
          },
          "metadata": {},
          "execution_count": 4
        }
      ]
    },
    {
      "cell_type": "code",
      "metadata": {
        "colab": {
          "base_uri": "https://localhost:8080/"
        },
        "id": "RHhdfWFYj1BF",
        "outputId": "11ae0d05-fe2f-4f5b-f49b-542685f26e14"
      },
      "source": [
        "df.info()"
      ],
      "execution_count": 5,
      "outputs": [
        {
          "output_type": "stream",
          "name": "stdout",
          "text": [
            "<class 'pandas.core.frame.DataFrame'>\n",
            "RangeIndex: 615 entries, 0 to 614\n",
            "Data columns (total 14 columns):\n",
            " #   Column      Non-Null Count  Dtype  \n",
            "---  ------      --------------  -----  \n",
            " 0   Unnamed: 0  615 non-null    int64  \n",
            " 1   Category    615 non-null    object \n",
            " 2   Age         615 non-null    int64  \n",
            " 3   Sex         615 non-null    object \n",
            " 4   ALB         614 non-null    float64\n",
            " 5   ALP         597 non-null    float64\n",
            " 6   ALT         614 non-null    float64\n",
            " 7   AST         615 non-null    float64\n",
            " 8   BIL         615 non-null    float64\n",
            " 9   CHE         615 non-null    float64\n",
            " 10  CHOL        605 non-null    float64\n",
            " 11  CREA        615 non-null    float64\n",
            " 12  GGT         615 non-null    float64\n",
            " 13  PROT        614 non-null    float64\n",
            "dtypes: float64(10), int64(2), object(2)\n",
            "memory usage: 67.4+ KB\n"
          ]
        }
      ]
    },
    {
      "cell_type": "code",
      "metadata": {
        "colab": {
          "base_uri": "https://localhost:8080/",
          "height": 426
        },
        "id": "xvZ9pK4Dj6_x",
        "outputId": "9ded896c-19e5-45fa-9e1d-ca04e33dfd88"
      },
      "source": [
        "df.describe().transpose()"
      ],
      "execution_count": 6,
      "outputs": [
        {
          "output_type": "execute_result",
          "data": {
            "text/html": [
              "<div>\n",
              "<style scoped>\n",
              "    .dataframe tbody tr th:only-of-type {\n",
              "        vertical-align: middle;\n",
              "    }\n",
              "\n",
              "    .dataframe tbody tr th {\n",
              "        vertical-align: top;\n",
              "    }\n",
              "\n",
              "    .dataframe thead th {\n",
              "        text-align: right;\n",
              "    }\n",
              "</style>\n",
              "<table border=\"1\" class=\"dataframe\">\n",
              "  <thead>\n",
              "    <tr style=\"text-align: right;\">\n",
              "      <th></th>\n",
              "      <th>count</th>\n",
              "      <th>mean</th>\n",
              "      <th>std</th>\n",
              "      <th>min</th>\n",
              "      <th>25%</th>\n",
              "      <th>50%</th>\n",
              "      <th>75%</th>\n",
              "      <th>max</th>\n",
              "    </tr>\n",
              "  </thead>\n",
              "  <tbody>\n",
              "    <tr>\n",
              "      <th>Unnamed: 0</th>\n",
              "      <td>615.0</td>\n",
              "      <td>308.000000</td>\n",
              "      <td>177.679487</td>\n",
              "      <td>1.00</td>\n",
              "      <td>154.500</td>\n",
              "      <td>308.00</td>\n",
              "      <td>461.500</td>\n",
              "      <td>615.00</td>\n",
              "    </tr>\n",
              "    <tr>\n",
              "      <th>Age</th>\n",
              "      <td>615.0</td>\n",
              "      <td>47.408130</td>\n",
              "      <td>10.055105</td>\n",
              "      <td>19.00</td>\n",
              "      <td>39.000</td>\n",
              "      <td>47.00</td>\n",
              "      <td>54.000</td>\n",
              "      <td>77.00</td>\n",
              "    </tr>\n",
              "    <tr>\n",
              "      <th>ALB</th>\n",
              "      <td>614.0</td>\n",
              "      <td>41.620195</td>\n",
              "      <td>5.780629</td>\n",
              "      <td>14.90</td>\n",
              "      <td>38.800</td>\n",
              "      <td>41.95</td>\n",
              "      <td>45.200</td>\n",
              "      <td>82.20</td>\n",
              "    </tr>\n",
              "    <tr>\n",
              "      <th>ALP</th>\n",
              "      <td>597.0</td>\n",
              "      <td>68.283920</td>\n",
              "      <td>26.028315</td>\n",
              "      <td>11.30</td>\n",
              "      <td>52.500</td>\n",
              "      <td>66.20</td>\n",
              "      <td>80.100</td>\n",
              "      <td>416.60</td>\n",
              "    </tr>\n",
              "    <tr>\n",
              "      <th>ALT</th>\n",
              "      <td>614.0</td>\n",
              "      <td>28.450814</td>\n",
              "      <td>25.469689</td>\n",
              "      <td>0.90</td>\n",
              "      <td>16.400</td>\n",
              "      <td>23.00</td>\n",
              "      <td>33.075</td>\n",
              "      <td>325.30</td>\n",
              "    </tr>\n",
              "    <tr>\n",
              "      <th>AST</th>\n",
              "      <td>615.0</td>\n",
              "      <td>34.786341</td>\n",
              "      <td>33.090690</td>\n",
              "      <td>10.60</td>\n",
              "      <td>21.600</td>\n",
              "      <td>25.90</td>\n",
              "      <td>32.900</td>\n",
              "      <td>324.00</td>\n",
              "    </tr>\n",
              "    <tr>\n",
              "      <th>BIL</th>\n",
              "      <td>615.0</td>\n",
              "      <td>11.396748</td>\n",
              "      <td>19.673150</td>\n",
              "      <td>0.80</td>\n",
              "      <td>5.300</td>\n",
              "      <td>7.30</td>\n",
              "      <td>11.200</td>\n",
              "      <td>254.00</td>\n",
              "    </tr>\n",
              "    <tr>\n",
              "      <th>CHE</th>\n",
              "      <td>615.0</td>\n",
              "      <td>8.196634</td>\n",
              "      <td>2.205657</td>\n",
              "      <td>1.42</td>\n",
              "      <td>6.935</td>\n",
              "      <td>8.26</td>\n",
              "      <td>9.590</td>\n",
              "      <td>16.41</td>\n",
              "    </tr>\n",
              "    <tr>\n",
              "      <th>CHOL</th>\n",
              "      <td>605.0</td>\n",
              "      <td>5.368099</td>\n",
              "      <td>1.132728</td>\n",
              "      <td>1.43</td>\n",
              "      <td>4.610</td>\n",
              "      <td>5.30</td>\n",
              "      <td>6.060</td>\n",
              "      <td>9.67</td>\n",
              "    </tr>\n",
              "    <tr>\n",
              "      <th>CREA</th>\n",
              "      <td>615.0</td>\n",
              "      <td>81.287805</td>\n",
              "      <td>49.756166</td>\n",
              "      <td>8.00</td>\n",
              "      <td>67.000</td>\n",
              "      <td>77.00</td>\n",
              "      <td>88.000</td>\n",
              "      <td>1079.10</td>\n",
              "    </tr>\n",
              "    <tr>\n",
              "      <th>GGT</th>\n",
              "      <td>615.0</td>\n",
              "      <td>39.533171</td>\n",
              "      <td>54.661071</td>\n",
              "      <td>4.50</td>\n",
              "      <td>15.700</td>\n",
              "      <td>23.30</td>\n",
              "      <td>40.200</td>\n",
              "      <td>650.90</td>\n",
              "    </tr>\n",
              "    <tr>\n",
              "      <th>PROT</th>\n",
              "      <td>614.0</td>\n",
              "      <td>72.044137</td>\n",
              "      <td>5.402636</td>\n",
              "      <td>44.80</td>\n",
              "      <td>69.300</td>\n",
              "      <td>72.20</td>\n",
              "      <td>75.400</td>\n",
              "      <td>90.00</td>\n",
              "    </tr>\n",
              "  </tbody>\n",
              "</table>\n",
              "</div>"
            ],
            "text/plain": [
              "            count        mean         std  ...     50%      75%      max\n",
              "Unnamed: 0  615.0  308.000000  177.679487  ...  308.00  461.500   615.00\n",
              "Age         615.0   47.408130   10.055105  ...   47.00   54.000    77.00\n",
              "ALB         614.0   41.620195    5.780629  ...   41.95   45.200    82.20\n",
              "ALP         597.0   68.283920   26.028315  ...   66.20   80.100   416.60\n",
              "ALT         614.0   28.450814   25.469689  ...   23.00   33.075   325.30\n",
              "AST         615.0   34.786341   33.090690  ...   25.90   32.900   324.00\n",
              "BIL         615.0   11.396748   19.673150  ...    7.30   11.200   254.00\n",
              "CHE         615.0    8.196634    2.205657  ...    8.26    9.590    16.41\n",
              "CHOL        605.0    5.368099    1.132728  ...    5.30    6.060     9.67\n",
              "CREA        615.0   81.287805   49.756166  ...   77.00   88.000  1079.10\n",
              "GGT         615.0   39.533171   54.661071  ...   23.30   40.200   650.90\n",
              "PROT        614.0   72.044137    5.402636  ...   72.20   75.400    90.00\n",
              "\n",
              "[12 rows x 8 columns]"
            ]
          },
          "metadata": {},
          "execution_count": 6
        }
      ]
    },
    {
      "cell_type": "code",
      "metadata": {
        "colab": {
          "base_uri": "https://localhost:8080/",
          "height": 175
        },
        "id": "ENLRTZ2wkHcg",
        "outputId": "b03fa764-3b21-4485-f1e2-6c3ac4ee7c62"
      },
      "source": [
        "df.describe(include='object')"
      ],
      "execution_count": 7,
      "outputs": [
        {
          "output_type": "execute_result",
          "data": {
            "text/html": [
              "<div>\n",
              "<style scoped>\n",
              "    .dataframe tbody tr th:only-of-type {\n",
              "        vertical-align: middle;\n",
              "    }\n",
              "\n",
              "    .dataframe tbody tr th {\n",
              "        vertical-align: top;\n",
              "    }\n",
              "\n",
              "    .dataframe thead th {\n",
              "        text-align: right;\n",
              "    }\n",
              "</style>\n",
              "<table border=\"1\" class=\"dataframe\">\n",
              "  <thead>\n",
              "    <tr style=\"text-align: right;\">\n",
              "      <th></th>\n",
              "      <th>Category</th>\n",
              "      <th>Sex</th>\n",
              "    </tr>\n",
              "  </thead>\n",
              "  <tbody>\n",
              "    <tr>\n",
              "      <th>count</th>\n",
              "      <td>615</td>\n",
              "      <td>615</td>\n",
              "    </tr>\n",
              "    <tr>\n",
              "      <th>unique</th>\n",
              "      <td>5</td>\n",
              "      <td>2</td>\n",
              "    </tr>\n",
              "    <tr>\n",
              "      <th>top</th>\n",
              "      <td>0=Blood Donor</td>\n",
              "      <td>m</td>\n",
              "    </tr>\n",
              "    <tr>\n",
              "      <th>freq</th>\n",
              "      <td>533</td>\n",
              "      <td>377</td>\n",
              "    </tr>\n",
              "  </tbody>\n",
              "</table>\n",
              "</div>"
            ],
            "text/plain": [
              "             Category  Sex\n",
              "count             615  615\n",
              "unique              5    2\n",
              "top     0=Blood Donor    m\n",
              "freq              533  377"
            ]
          },
          "metadata": {},
          "execution_count": 7
        }
      ]
    },
    {
      "cell_type": "code",
      "metadata": {
        "colab": {
          "base_uri": "https://localhost:8080/"
        },
        "id": "xShRc4wzlIj_",
        "outputId": "26e98231-1a62-44ec-8458-47f553712597"
      },
      "source": [
        "df['Category'].value_counts()"
      ],
      "execution_count": 8,
      "outputs": [
        {
          "output_type": "execute_result",
          "data": {
            "text/plain": [
              "0=Blood Donor             533\n",
              "3=Cirrhosis                30\n",
              "1=Hepatitis                24\n",
              "2=Fibrosis                 21\n",
              "0s=suspect Blood Donor      7\n",
              "Name: Category, dtype: int64"
            ]
          },
          "metadata": {},
          "execution_count": 8
        }
      ]
    },
    {
      "cell_type": "code",
      "metadata": {
        "colab": {
          "base_uri": "https://localhost:8080/"
        },
        "id": "TBDZSwGvmBmu",
        "outputId": "83f6e481-3261-469b-958f-fb3cd0d741d6"
      },
      "source": [
        "df['Category'].unique()"
      ],
      "execution_count": 9,
      "outputs": [
        {
          "output_type": "execute_result",
          "data": {
            "text/plain": [
              "array(['0=Blood Donor', '0s=suspect Blood Donor', '1=Hepatitis',\n",
              "       '2=Fibrosis', '3=Cirrhosis'], dtype=object)"
            ]
          },
          "metadata": {},
          "execution_count": 9
        }
      ]
    },
    {
      "cell_type": "code",
      "metadata": {
        "id": "V6cpTqhAl7LO"
      },
      "source": [
        "map = {'0=Blood Donor':0, '0s=suspect Blood Donor':0, '1=Hepatitis':1,\n",
        "       '2=Fibrosis':1, '3=Cirrhosis':1}"
      ],
      "execution_count": 10,
      "outputs": []
    },
    {
      "cell_type": "code",
      "metadata": {
        "id": "XQoFj35ulTMG"
      },
      "source": [
        "df['label'] = df['Category'].map(map)"
      ],
      "execution_count": 11,
      "outputs": []
    },
    {
      "cell_type": "code",
      "metadata": {
        "colab": {
          "base_uri": "https://localhost:8080/"
        },
        "id": "RWvL5oJmmSZJ",
        "outputId": "203cb01a-0239-46de-c0d8-faed01149dc5"
      },
      "source": [
        "df['label'].value_counts()"
      ],
      "execution_count": 12,
      "outputs": [
        {
          "output_type": "execute_result",
          "data": {
            "text/plain": [
              "0    540\n",
              "1     75\n",
              "Name: label, dtype: int64"
            ]
          },
          "metadata": {},
          "execution_count": 12
        }
      ]
    },
    {
      "cell_type": "code",
      "source": [
        "540/(540+75)"
      ],
      "metadata": {
        "id": "pBog3sbu3_HM",
        "outputId": "b16a7e7a-84d7-4ca3-f654-20509542b79e",
        "colab": {
          "base_uri": "https://localhost:8080/"
        }
      },
      "execution_count": 87,
      "outputs": [
        {
          "output_type": "execute_result",
          "data": {
            "text/plain": [
              "0.8780487804878049"
            ]
          },
          "metadata": {},
          "execution_count": 87
        }
      ]
    },
    {
      "cell_type": "code",
      "metadata": {
        "id": "akNKlyT8mUDJ"
      },
      "source": [
        "sex = {'f':0, 'm':1}"
      ],
      "execution_count": 13,
      "outputs": []
    },
    {
      "cell_type": "code",
      "metadata": {
        "id": "ujXmXQ1Jmf5A"
      },
      "source": [
        "df['Sex_n'] = df['Sex'].map(sex)"
      ],
      "execution_count": 14,
      "outputs": []
    },
    {
      "cell_type": "code",
      "metadata": {
        "colab": {
          "base_uri": "https://localhost:8080/",
          "height": 206
        },
        "id": "eeqOzDjRmsR3",
        "outputId": "2434a981-028f-4c91-81ae-3c1cd7e99b12"
      },
      "source": [
        "df.head()"
      ],
      "execution_count": 15,
      "outputs": [
        {
          "output_type": "execute_result",
          "data": {
            "text/html": [
              "<div>\n",
              "<style scoped>\n",
              "    .dataframe tbody tr th:only-of-type {\n",
              "        vertical-align: middle;\n",
              "    }\n",
              "\n",
              "    .dataframe tbody tr th {\n",
              "        vertical-align: top;\n",
              "    }\n",
              "\n",
              "    .dataframe thead th {\n",
              "        text-align: right;\n",
              "    }\n",
              "</style>\n",
              "<table border=\"1\" class=\"dataframe\">\n",
              "  <thead>\n",
              "    <tr style=\"text-align: right;\">\n",
              "      <th></th>\n",
              "      <th>Unnamed: 0</th>\n",
              "      <th>Category</th>\n",
              "      <th>Age</th>\n",
              "      <th>Sex</th>\n",
              "      <th>ALB</th>\n",
              "      <th>ALP</th>\n",
              "      <th>ALT</th>\n",
              "      <th>AST</th>\n",
              "      <th>BIL</th>\n",
              "      <th>CHE</th>\n",
              "      <th>CHOL</th>\n",
              "      <th>CREA</th>\n",
              "      <th>GGT</th>\n",
              "      <th>PROT</th>\n",
              "      <th>label</th>\n",
              "      <th>Sex_n</th>\n",
              "    </tr>\n",
              "  </thead>\n",
              "  <tbody>\n",
              "    <tr>\n",
              "      <th>0</th>\n",
              "      <td>1</td>\n",
              "      <td>0=Blood Donor</td>\n",
              "      <td>32</td>\n",
              "      <td>m</td>\n",
              "      <td>38.5</td>\n",
              "      <td>52.5</td>\n",
              "      <td>7.7</td>\n",
              "      <td>22.1</td>\n",
              "      <td>7.5</td>\n",
              "      <td>6.93</td>\n",
              "      <td>3.23</td>\n",
              "      <td>106.0</td>\n",
              "      <td>12.1</td>\n",
              "      <td>69.0</td>\n",
              "      <td>0</td>\n",
              "      <td>1</td>\n",
              "    </tr>\n",
              "    <tr>\n",
              "      <th>1</th>\n",
              "      <td>2</td>\n",
              "      <td>0=Blood Donor</td>\n",
              "      <td>32</td>\n",
              "      <td>m</td>\n",
              "      <td>38.5</td>\n",
              "      <td>70.3</td>\n",
              "      <td>18.0</td>\n",
              "      <td>24.7</td>\n",
              "      <td>3.9</td>\n",
              "      <td>11.17</td>\n",
              "      <td>4.80</td>\n",
              "      <td>74.0</td>\n",
              "      <td>15.6</td>\n",
              "      <td>76.5</td>\n",
              "      <td>0</td>\n",
              "      <td>1</td>\n",
              "    </tr>\n",
              "    <tr>\n",
              "      <th>2</th>\n",
              "      <td>3</td>\n",
              "      <td>0=Blood Donor</td>\n",
              "      <td>32</td>\n",
              "      <td>m</td>\n",
              "      <td>46.9</td>\n",
              "      <td>74.7</td>\n",
              "      <td>36.2</td>\n",
              "      <td>52.6</td>\n",
              "      <td>6.1</td>\n",
              "      <td>8.84</td>\n",
              "      <td>5.20</td>\n",
              "      <td>86.0</td>\n",
              "      <td>33.2</td>\n",
              "      <td>79.3</td>\n",
              "      <td>0</td>\n",
              "      <td>1</td>\n",
              "    </tr>\n",
              "    <tr>\n",
              "      <th>3</th>\n",
              "      <td>4</td>\n",
              "      <td>0=Blood Donor</td>\n",
              "      <td>32</td>\n",
              "      <td>m</td>\n",
              "      <td>43.2</td>\n",
              "      <td>52.0</td>\n",
              "      <td>30.6</td>\n",
              "      <td>22.6</td>\n",
              "      <td>18.9</td>\n",
              "      <td>7.33</td>\n",
              "      <td>4.74</td>\n",
              "      <td>80.0</td>\n",
              "      <td>33.8</td>\n",
              "      <td>75.7</td>\n",
              "      <td>0</td>\n",
              "      <td>1</td>\n",
              "    </tr>\n",
              "    <tr>\n",
              "      <th>4</th>\n",
              "      <td>5</td>\n",
              "      <td>0=Blood Donor</td>\n",
              "      <td>32</td>\n",
              "      <td>m</td>\n",
              "      <td>39.2</td>\n",
              "      <td>74.1</td>\n",
              "      <td>32.6</td>\n",
              "      <td>24.8</td>\n",
              "      <td>9.6</td>\n",
              "      <td>9.15</td>\n",
              "      <td>4.32</td>\n",
              "      <td>76.0</td>\n",
              "      <td>29.9</td>\n",
              "      <td>68.7</td>\n",
              "      <td>0</td>\n",
              "      <td>1</td>\n",
              "    </tr>\n",
              "  </tbody>\n",
              "</table>\n",
              "</div>"
            ],
            "text/plain": [
              "   Unnamed: 0       Category  Age Sex   ALB  ...   CREA   GGT  PROT  label  Sex_n\n",
              "0           1  0=Blood Donor   32   m  38.5  ...  106.0  12.1  69.0      0      1\n",
              "1           2  0=Blood Donor   32   m  38.5  ...   74.0  15.6  76.5      0      1\n",
              "2           3  0=Blood Donor   32   m  46.9  ...   86.0  33.2  79.3      0      1\n",
              "3           4  0=Blood Donor   32   m  43.2  ...   80.0  33.8  75.7      0      1\n",
              "4           5  0=Blood Donor   32   m  39.2  ...   76.0  29.9  68.7      0      1\n",
              "\n",
              "[5 rows x 16 columns]"
            ]
          },
          "metadata": {},
          "execution_count": 15
        }
      ]
    },
    {
      "cell_type": "code",
      "metadata": {
        "colab": {
          "base_uri": "https://localhost:8080/"
        },
        "id": "zgbL5iupm-C5",
        "outputId": "575de76f-c8ad-4bfd-83ae-b1c0c92a9192"
      },
      "source": [
        "df.columns"
      ],
      "execution_count": 16,
      "outputs": [
        {
          "output_type": "execute_result",
          "data": {
            "text/plain": [
              "Index(['Unnamed: 0', 'Category', 'Age', 'Sex', 'ALB', 'ALP', 'ALT', 'AST',\n",
              "       'BIL', 'CHE', 'CHOL', 'CREA', 'GGT', 'PROT', 'label', 'Sex_n'],\n",
              "      dtype='object')"
            ]
          },
          "metadata": {},
          "execution_count": 16
        }
      ]
    },
    {
      "cell_type": "code",
      "metadata": {
        "id": "7eJHB_nfmtWq"
      },
      "source": [
        "new_df = df.drop(['Unnamed: 0', 'Category', 'Sex'], axis=1)"
      ],
      "execution_count": 17,
      "outputs": []
    },
    {
      "cell_type": "code",
      "metadata": {
        "colab": {
          "base_uri": "https://localhost:8080/"
        },
        "id": "GQOmg-WPnHK1",
        "outputId": "2894256f-021d-4b50-970e-ae5183841a3f"
      },
      "source": [
        "new_df.info()"
      ],
      "execution_count": 18,
      "outputs": [
        {
          "output_type": "stream",
          "name": "stdout",
          "text": [
            "<class 'pandas.core.frame.DataFrame'>\n",
            "RangeIndex: 615 entries, 0 to 614\n",
            "Data columns (total 13 columns):\n",
            " #   Column  Non-Null Count  Dtype  \n",
            "---  ------  --------------  -----  \n",
            " 0   Age     615 non-null    int64  \n",
            " 1   ALB     614 non-null    float64\n",
            " 2   ALP     597 non-null    float64\n",
            " 3   ALT     614 non-null    float64\n",
            " 4   AST     615 non-null    float64\n",
            " 5   BIL     615 non-null    float64\n",
            " 6   CHE     615 non-null    float64\n",
            " 7   CHOL    605 non-null    float64\n",
            " 8   CREA    615 non-null    float64\n",
            " 9   GGT     615 non-null    float64\n",
            " 10  PROT    614 non-null    float64\n",
            " 11  label   615 non-null    int64  \n",
            " 12  Sex_n   615 non-null    int64  \n",
            "dtypes: float64(10), int64(3)\n",
            "memory usage: 62.6 KB\n"
          ]
        }
      ]
    },
    {
      "cell_type": "code",
      "metadata": {
        "colab": {
          "base_uri": "https://localhost:8080/"
        },
        "id": "aSWkKXBJnmwL",
        "outputId": "1769738d-4eff-41c4-ddf2-8ba1412143cb"
      },
      "source": [
        "new_df.corr()['label'].sort_values(ascending=False)[1:]"
      ],
      "execution_count": 19,
      "outputs": [
        {
          "output_type": "execute_result",
          "data": {
            "text/plain": [
              "AST      0.621724\n",
              "GGT      0.437680\n",
              "BIL      0.398451\n",
              "CREA     0.136772\n",
              "ALT      0.089251\n",
              "PROT     0.084453\n",
              "Sex_n    0.071663\n",
              "Age      0.037781\n",
              "ALP     -0.069342\n",
              "ALB     -0.180923\n",
              "CHE     -0.230785\n",
              "CHOL    -0.270496\n",
              "Name: label, dtype: float64"
            ]
          },
          "metadata": {},
          "execution_count": 19
        }
      ]
    },
    {
      "cell_type": "code",
      "metadata": {
        "colab": {
          "base_uri": "https://localhost:8080/",
          "height": 302
        },
        "id": "AjAWWPS4nJU0",
        "outputId": "dccf73f0-82fb-41ea-8d3d-a4ac1aea9aff"
      },
      "source": [
        "new_df.corr()['label'].sort_values(ascending=False)[1:].plot(kind='bar')"
      ],
      "execution_count": 20,
      "outputs": [
        {
          "output_type": "execute_result",
          "data": {
            "text/plain": [
              "<matplotlib.axes._subplots.AxesSubplot at 0x7f5174aa6450>"
            ]
          },
          "metadata": {},
          "execution_count": 20
        },
        {
          "output_type": "display_data",
          "data": {
            "image/png": "[encoded data removed]",
            "text/plain": [
              "<Figure size 432x288 with 1 Axes>"
            ]
          },
          "metadata": {
            "needs_background": "light"
          }
        }
      ]
    },
    {
      "cell_type": "code",
      "metadata": {
        "colab": {
          "base_uri": "https://localhost:8080/",
          "height": 613
        },
        "id": "s92z-foPnOFu",
        "outputId": "73cdcf99-5781-486a-c8b6-4fe31468df8a"
      },
      "source": [
        "plt.figure(figsize=(13,10))\n",
        "sns.heatmap(data=new_df.corr(), annot=True)"
      ],
      "execution_count": 21,
      "outputs": [
        {
          "output_type": "execute_result",
          "data": {
            "text/plain": [
              "<matplotlib.axes._subplots.AxesSubplot at 0x7f5175b263d0>"
            ]
          },
          "metadata": {},
          "execution_count": 21
        },
        {
          "output_type": "display_data",
          "data": {
            "image/png": "[encoded data removed]",
            "text/plain": [
              "<Figure size 936x720 with 2 Axes>"
            ]
          },
          "metadata": {
            "needs_background": "light"
          }
        }
      ]
    },
    {
      "cell_type": "code",
      "metadata": {
        "colab": {
          "base_uri": "https://localhost:8080/",
          "height": 296
        },
        "id": "j59Slqtwn10n",
        "outputId": "901da569-a2d7-4215-89bb-06d15d9210e8"
      },
      "source": [
        "sns.boxplot(data=new_df, x='label', y='AST')"
      ],
      "execution_count": 22,
      "outputs": [
        {
          "output_type": "execute_result",
          "data": {
            "text/plain": [
              "<matplotlib.axes._subplots.AxesSubplot at 0x7f5174a0e050>"
            ]
          },
          "metadata": {},
          "execution_count": 22
        },
        {
          "output_type": "display_data",
          "data": {
            "image/png": "[encoded data removed]",
            "text/plain": [
              "<Figure size 432x288 with 1 Axes>"
            ]
          },
          "metadata": {
            "needs_background": "light"
          }
        }
      ]
    },
    {
      "cell_type": "code",
      "metadata": {
        "colab": {
          "base_uri": "https://localhost:8080/"
        },
        "id": "Z7g-l8E2rC_q",
        "outputId": "fe58d93b-6b89-457e-d780-15e0d91b2e7c"
      },
      "source": [
        "new_df.isna().sum()"
      ],
      "execution_count": 23,
      "outputs": [
        {
          "output_type": "execute_result",
          "data": {
            "text/plain": [
              "Age       0\n",
              "ALB       1\n",
              "ALP      18\n",
              "ALT       1\n",
              "AST       0\n",
              "BIL       0\n",
              "CHE       0\n",
              "CHOL     10\n",
              "CREA      0\n",
              "GGT       0\n",
              "PROT      1\n",
              "label     0\n",
              "Sex_n     0\n",
              "dtype: int64"
            ]
          },
          "metadata": {},
          "execution_count": 23
        }
      ]
    },
    {
      "cell_type": "code",
      "metadata": {
        "colab": {
          "base_uri": "https://localhost:8080/"
        },
        "id": "HK44511LrMOg",
        "outputId": "9cadec73-5164-4d02-f822-42e25b17986f"
      },
      "source": [
        "new_df.corr()['ALP']"
      ],
      "execution_count": 24,
      "outputs": [
        {
          "output_type": "execute_result",
          "data": {
            "text/plain": [
              "Age      0.173340\n",
              "ALB     -0.141584\n",
              "ALP      1.000000\n",
              "ALT      0.214480\n",
              "AST      0.063948\n",
              "BIL      0.056078\n",
              "CHE      0.033753\n",
              "CHOL     0.125429\n",
              "CREA     0.149832\n",
              "GGT      0.454630\n",
              "PROT    -0.055109\n",
              "label   -0.069342\n",
              "Sex_n   -0.019825\n",
              "Name: ALP, dtype: float64"
            ]
          },
          "metadata": {},
          "execution_count": 24
        }
      ]
    },
    {
      "cell_type": "code",
      "metadata": {
        "colab": {
          "base_uri": "https://localhost:8080/",
          "height": 296
        },
        "id": "a2RhDtXIrlMS",
        "outputId": "7ca87069-0558-4914-a70e-9fbde1cafd9f"
      },
      "source": [
        "sns.histplot(data=new_df, x='ALP')"
      ],
      "execution_count": 25,
      "outputs": [
        {
          "output_type": "execute_result",
          "data": {
            "text/plain": [
              "<matplotlib.axes._subplots.AxesSubplot at 0x7f516bb26b10>"
            ]
          },
          "metadata": {},
          "execution_count": 25
        },
        {
          "output_type": "display_data",
          "data": {
            "image/png": "[encoded data removed]",
            "text/plain": [
              "<Figure size 432x288 with 1 Axes>"
            ]
          },
          "metadata": {
            "needs_background": "light"
          }
        }
      ]
    },
    {
      "cell_type": "code",
      "metadata": {
        "colab": {
          "base_uri": "https://localhost:8080/",
          "height": 614
        },
        "id": "XRUwLgI2sVLk",
        "outputId": "5ae3f84a-1442-437e-9250-69393b344a9e"
      },
      "source": [
        "new_df[new_df['ALP'].isna()]"
      ],
      "execution_count": 26,
      "outputs": [
        {
          "output_type": "execute_result",
          "data": {
            "text/html": [
              "<div>\n",
              "<style scoped>\n",
              "    .dataframe tbody tr th:only-of-type {\n",
              "        vertical-align: middle;\n",
              "    }\n",
              "\n",
              "    .dataframe tbody tr th {\n",
              "        vertical-align: top;\n",
              "    }\n",
              "\n",
              "    .dataframe thead th {\n",
              "        text-align: right;\n",
              "    }\n",
              "</style>\n",
              "<table border=\"1\" class=\"dataframe\">\n",
              "  <thead>\n",
              "    <tr style=\"text-align: right;\">\n",
              "      <th></th>\n",
              "      <th>Age</th>\n",
              "      <th>ALB</th>\n",
              "      <th>ALP</th>\n",
              "      <th>ALT</th>\n",
              "      <th>AST</th>\n",
              "      <th>BIL</th>\n",
              "      <th>CHE</th>\n",
              "      <th>CHOL</th>\n",
              "      <th>CREA</th>\n",
              "      <th>GGT</th>\n",
              "      <th>PROT</th>\n",
              "      <th>label</th>\n",
              "      <th>Sex_n</th>\n",
              "    </tr>\n",
              "  </thead>\n",
              "  <tbody>\n",
              "    <tr>\n",
              "      <th>541</th>\n",
              "      <td>19</td>\n",
              "      <td>41.0</td>\n",
              "      <td>NaN</td>\n",
              "      <td>87.0</td>\n",
              "      <td>67.0</td>\n",
              "      <td>12.0</td>\n",
              "      <td>7.55</td>\n",
              "      <td>3.9</td>\n",
              "      <td>62.0</td>\n",
              "      <td>65.0</td>\n",
              "      <td>75.0</td>\n",
              "      <td>1</td>\n",
              "      <td>1</td>\n",
              "    </tr>\n",
              "    <tr>\n",
              "      <th>545</th>\n",
              "      <td>29</td>\n",
              "      <td>49.0</td>\n",
              "      <td>NaN</td>\n",
              "      <td>53.0</td>\n",
              "      <td>39.0</td>\n",
              "      <td>15.0</td>\n",
              "      <td>8.79</td>\n",
              "      <td>3.6</td>\n",
              "      <td>79.0</td>\n",
              "      <td>37.0</td>\n",
              "      <td>90.0</td>\n",
              "      <td>1</td>\n",
              "      <td>1</td>\n",
              "    </tr>\n",
              "    <tr>\n",
              "      <th>546</th>\n",
              "      <td>30</td>\n",
              "      <td>45.0</td>\n",
              "      <td>NaN</td>\n",
              "      <td>66.0</td>\n",
              "      <td>45.0</td>\n",
              "      <td>14.0</td>\n",
              "      <td>12.16</td>\n",
              "      <td>6.1</td>\n",
              "      <td>86.0</td>\n",
              "      <td>43.0</td>\n",
              "      <td>77.0</td>\n",
              "      <td>1</td>\n",
              "      <td>1</td>\n",
              "    </tr>\n",
              "    <tr>\n",
              "      <th>568</th>\n",
              "      <td>49</td>\n",
              "      <td>39.0</td>\n",
              "      <td>NaN</td>\n",
              "      <td>118.0</td>\n",
              "      <td>62.0</td>\n",
              "      <td>10.0</td>\n",
              "      <td>7.28</td>\n",
              "      <td>3.5</td>\n",
              "      <td>72.0</td>\n",
              "      <td>74.0</td>\n",
              "      <td>81.0</td>\n",
              "      <td>1</td>\n",
              "      <td>1</td>\n",
              "    </tr>\n",
              "    <tr>\n",
              "      <th>569</th>\n",
              "      <td>49</td>\n",
              "      <td>46.0</td>\n",
              "      <td>NaN</td>\n",
              "      <td>114.0</td>\n",
              "      <td>75.0</td>\n",
              "      <td>16.0</td>\n",
              "      <td>10.43</td>\n",
              "      <td>5.2</td>\n",
              "      <td>72.0</td>\n",
              "      <td>59.0</td>\n",
              "      <td>82.0</td>\n",
              "      <td>1</td>\n",
              "      <td>1</td>\n",
              "    </tr>\n",
              "    <tr>\n",
              "      <th>570</th>\n",
              "      <td>50</td>\n",
              "      <td>42.0</td>\n",
              "      <td>NaN</td>\n",
              "      <td>258.0</td>\n",
              "      <td>106.0</td>\n",
              "      <td>15.0</td>\n",
              "      <td>8.74</td>\n",
              "      <td>4.7</td>\n",
              "      <td>77.0</td>\n",
              "      <td>80.0</td>\n",
              "      <td>84.0</td>\n",
              "      <td>1</td>\n",
              "      <td>1</td>\n",
              "    </tr>\n",
              "    <tr>\n",
              "      <th>571</th>\n",
              "      <td>53</td>\n",
              "      <td>46.0</td>\n",
              "      <td>NaN</td>\n",
              "      <td>34.0</td>\n",
              "      <td>43.0</td>\n",
              "      <td>14.0</td>\n",
              "      <td>8.77</td>\n",
              "      <td>4.0</td>\n",
              "      <td>112.0</td>\n",
              "      <td>203.0</td>\n",
              "      <td>76.0</td>\n",
              "      <td>1</td>\n",
              "      <td>1</td>\n",
              "    </tr>\n",
              "    <tr>\n",
              "      <th>576</th>\n",
              "      <td>71</td>\n",
              "      <td>37.0</td>\n",
              "      <td>NaN</td>\n",
              "      <td>130.0</td>\n",
              "      <td>90.0</td>\n",
              "      <td>15.0</td>\n",
              "      <td>9.92</td>\n",
              "      <td>4.7</td>\n",
              "      <td>79.0</td>\n",
              "      <td>77.0</td>\n",
              "      <td>76.0</td>\n",
              "      <td>1</td>\n",
              "      <td>1</td>\n",
              "    </tr>\n",
              "    <tr>\n",
              "      <th>581</th>\n",
              "      <td>49</td>\n",
              "      <td>39.0</td>\n",
              "      <td>NaN</td>\n",
              "      <td>46.0</td>\n",
              "      <td>39.0</td>\n",
              "      <td>9.0</td>\n",
              "      <td>10.21</td>\n",
              "      <td>3.1</td>\n",
              "      <td>89.0</td>\n",
              "      <td>53.0</td>\n",
              "      <td>79.0</td>\n",
              "      <td>1</td>\n",
              "      <td>0</td>\n",
              "    </tr>\n",
              "    <tr>\n",
              "      <th>582</th>\n",
              "      <td>51</td>\n",
              "      <td>37.0</td>\n",
              "      <td>NaN</td>\n",
              "      <td>164.0</td>\n",
              "      <td>70.0</td>\n",
              "      <td>9.0</td>\n",
              "      <td>3.99</td>\n",
              "      <td>4.2</td>\n",
              "      <td>67.0</td>\n",
              "      <td>43.0</td>\n",
              "      <td>72.0</td>\n",
              "      <td>1</td>\n",
              "      <td>0</td>\n",
              "    </tr>\n",
              "    <tr>\n",
              "      <th>583</th>\n",
              "      <td>56</td>\n",
              "      <td>39.0</td>\n",
              "      <td>NaN</td>\n",
              "      <td>42.0</td>\n",
              "      <td>34.0</td>\n",
              "      <td>10.0</td>\n",
              "      <td>7.75</td>\n",
              "      <td>5.0</td>\n",
              "      <td>80.0</td>\n",
              "      <td>84.0</td>\n",
              "      <td>78.0</td>\n",
              "      <td>1</td>\n",
              "      <td>0</td>\n",
              "    </tr>\n",
              "    <tr>\n",
              "      <th>584</th>\n",
              "      <td>75</td>\n",
              "      <td>36.0</td>\n",
              "      <td>NaN</td>\n",
              "      <td>114.0</td>\n",
              "      <td>125.0</td>\n",
              "      <td>14.0</td>\n",
              "      <td>6.65</td>\n",
              "      <td>NaN</td>\n",
              "      <td>57.0</td>\n",
              "      <td>177.0</td>\n",
              "      <td>72.0</td>\n",
              "      <td>1</td>\n",
              "      <td>0</td>\n",
              "    </tr>\n",
              "    <tr>\n",
              "      <th>585</th>\n",
              "      <td>38</td>\n",
              "      <td>44.0</td>\n",
              "      <td>NaN</td>\n",
              "      <td>94.0</td>\n",
              "      <td>60.0</td>\n",
              "      <td>12.0</td>\n",
              "      <td>4.37</td>\n",
              "      <td>3.2</td>\n",
              "      <td>61.0</td>\n",
              "      <td>99.0</td>\n",
              "      <td>77.0</td>\n",
              "      <td>1</td>\n",
              "      <td>1</td>\n",
              "    </tr>\n",
              "    <tr>\n",
              "      <th>590</th>\n",
              "      <td>46</td>\n",
              "      <td>20.0</td>\n",
              "      <td>NaN</td>\n",
              "      <td>62.0</td>\n",
              "      <td>113.0</td>\n",
              "      <td>254.0</td>\n",
              "      <td>1.48</td>\n",
              "      <td>NaN</td>\n",
              "      <td>114.0</td>\n",
              "      <td>138.0</td>\n",
              "      <td>NaN</td>\n",
              "      <td>1</td>\n",
              "      <td>1</td>\n",
              "    </tr>\n",
              "    <tr>\n",
              "      <th>592</th>\n",
              "      <td>47</td>\n",
              "      <td>42.0</td>\n",
              "      <td>NaN</td>\n",
              "      <td>159.0</td>\n",
              "      <td>102.0</td>\n",
              "      <td>11.0</td>\n",
              "      <td>6.29</td>\n",
              "      <td>5.5</td>\n",
              "      <td>58.0</td>\n",
              "      <td>201.0</td>\n",
              "      <td>79.0</td>\n",
              "      <td>1</td>\n",
              "      <td>1</td>\n",
              "    </tr>\n",
              "    <tr>\n",
              "      <th>603</th>\n",
              "      <td>65</td>\n",
              "      <td>NaN</td>\n",
              "      <td>NaN</td>\n",
              "      <td>40.0</td>\n",
              "      <td>54.0</td>\n",
              "      <td>13.0</td>\n",
              "      <td>7.50</td>\n",
              "      <td>NaN</td>\n",
              "      <td>70.0</td>\n",
              "      <td>107.0</td>\n",
              "      <td>79.0</td>\n",
              "      <td>1</td>\n",
              "      <td>1</td>\n",
              "    </tr>\n",
              "    <tr>\n",
              "      <th>613</th>\n",
              "      <td>46</td>\n",
              "      <td>33.0</td>\n",
              "      <td>NaN</td>\n",
              "      <td>39.0</td>\n",
              "      <td>62.0</td>\n",
              "      <td>20.0</td>\n",
              "      <td>3.56</td>\n",
              "      <td>4.2</td>\n",
              "      <td>52.0</td>\n",
              "      <td>50.0</td>\n",
              "      <td>71.0</td>\n",
              "      <td>1</td>\n",
              "      <td>0</td>\n",
              "    </tr>\n",
              "    <tr>\n",
              "      <th>614</th>\n",
              "      <td>59</td>\n",
              "      <td>36.0</td>\n",
              "      <td>NaN</td>\n",
              "      <td>100.0</td>\n",
              "      <td>80.0</td>\n",
              "      <td>12.0</td>\n",
              "      <td>9.07</td>\n",
              "      <td>5.3</td>\n",
              "      <td>67.0</td>\n",
              "      <td>34.0</td>\n",
              "      <td>68.0</td>\n",
              "      <td>1</td>\n",
              "      <td>0</td>\n",
              "    </tr>\n",
              "  </tbody>\n",
              "</table>\n",
              "</div>"
            ],
            "text/plain": [
              "     Age   ALB  ALP    ALT    AST  ...   CREA    GGT  PROT  label  Sex_n\n",
              "541   19  41.0  NaN   87.0   67.0  ...   62.0   65.0  75.0      1      1\n",
              "545   29  49.0  NaN   53.0   39.0  ...   79.0   37.0  90.0      1      1\n",
              "546   30  45.0  NaN   66.0   45.0  ...   86.0   43.0  77.0      1      1\n",
              "568   49  39.0  NaN  118.0   62.0  ...   72.0   74.0  81.0      1      1\n",
              "569   49  46.0  NaN  114.0   75.0  ...   72.0   59.0  82.0      1      1\n",
              "570   50  42.0  NaN  258.0  106.0  ...   77.0   80.0  84.0      1      1\n",
              "571   53  46.0  NaN   34.0   43.0  ...  112.0  203.0  76.0      1      1\n",
              "576   71  37.0  NaN  130.0   90.0  ...   79.0   77.0  76.0      1      1\n",
              "581   49  39.0  NaN   46.0   39.0  ...   89.0   53.0  79.0      1      0\n",
              "582   51  37.0  NaN  164.0   70.0  ...   67.0   43.0  72.0      1      0\n",
              "583   56  39.0  NaN   42.0   34.0  ...   80.0   84.0  78.0      1      0\n",
              "584   75  36.0  NaN  114.0  125.0  ...   57.0  177.0  72.0      1      0\n",
              "585   38  44.0  NaN   94.0   60.0  ...   61.0   99.0  77.0      1      1\n",
              "590   46  20.0  NaN   62.0  113.0  ...  114.0  138.0   NaN      1      1\n",
              "592   47  42.0  NaN  159.0  102.0  ...   58.0  201.0  79.0      1      1\n",
              "603   65   NaN  NaN   40.0   54.0  ...   70.0  107.0  79.0      1      1\n",
              "613   46  33.0  NaN   39.0   62.0  ...   52.0   50.0  71.0      1      0\n",
              "614   59  36.0  NaN  100.0   80.0  ...   67.0   34.0  68.0      1      0\n",
              "\n",
              "[18 rows x 13 columns]"
            ]
          },
          "metadata": {},
          "execution_count": 26
        }
      ]
    },
    {
      "cell_type": "code",
      "metadata": {
        "colab": {
          "base_uri": "https://localhost:8080/"
        },
        "id": "waz9KMTLslrI",
        "outputId": "776b7ad8-eaea-459d-f188-4d32307d2121"
      },
      "source": [
        "new_df.groupby('label')['ALP'].mean()"
      ],
      "execution_count": 27,
      "outputs": [
        {
          "output_type": "execute_result",
          "data": {
            "text/plain": [
              "label\n",
              "0    68.869815\n",
              "1    62.733333\n",
              "Name: ALP, dtype: float64"
            ]
          },
          "metadata": {},
          "execution_count": 27
        }
      ]
    },
    {
      "cell_type": "code",
      "metadata": {
        "colab": {
          "base_uri": "https://localhost:8080/",
          "height": 296
        },
        "id": "Kwvt6m2-tton",
        "outputId": "47cd8b91-0959-4427-fb58-9c6c31c83001"
      },
      "source": [
        "sns.scatterplot(data=new_df, x='GGT', y='ALP')"
      ],
      "execution_count": 28,
      "outputs": [
        {
          "output_type": "execute_result",
          "data": {
            "text/plain": [
              "<matplotlib.axes._subplots.AxesSubplot at 0x7f516a131350>"
            ]
          },
          "metadata": {},
          "execution_count": 28
        },
        {
          "output_type": "display_data",
          "data": {
            "image/png": "[encoded data removed]",
            "text/plain": [
              "<Figure size 432x288 with 1 Axes>"
            ]
          },
          "metadata": {
            "needs_background": "light"
          }
        }
      ]
    },
    {
      "cell_type": "code",
      "metadata": {
        "colab": {
          "base_uri": "https://localhost:8080/"
        },
        "id": "pbxXjssru4bY",
        "outputId": "65e5f2b5-bd55-4162-e5d1-ff232af803c1"
      },
      "source": [
        "new_df['GGT'].describe()"
      ],
      "execution_count": 29,
      "outputs": [
        {
          "output_type": "execute_result",
          "data": {
            "text/plain": [
              "count    615.000000\n",
              "mean      39.533171\n",
              "std       54.661071\n",
              "min        4.500000\n",
              "25%       15.700000\n",
              "50%       23.300000\n",
              "75%       40.200000\n",
              "max      650.900000\n",
              "Name: GGT, dtype: float64"
            ]
          },
          "metadata": {},
          "execution_count": 29
        }
      ]
    },
    {
      "cell_type": "code",
      "metadata": {
        "colab": {
          "base_uri": "https://localhost:8080/",
          "height": 623
        },
        "id": "GnoveYD4vBc6",
        "outputId": "7d750452-f643-4839-9752-b6077e158f7d"
      },
      "source": [
        "plt.figure(figsize=(14,10))\n",
        "sns.histplot(data=new_df, x='GGT', bins=50)\n",
        "plt.xlim(0,200)"
      ],
      "execution_count": 30,
      "outputs": [
        {
          "output_type": "execute_result",
          "data": {
            "text/plain": [
              "(0.0, 200.0)"
            ]
          },
          "metadata": {},
          "execution_count": 30
        },
        {
          "output_type": "display_data",
          "data": {
            "image/png": "[encoded data removed]",
            "text/plain": [
              "<Figure size 1008x720 with 1 Axes>"
            ]
          },
          "metadata": {
            "needs_background": "light"
          }
        }
      ]
    },
    {
      "cell_type": "code",
      "metadata": {
        "colab": {
          "base_uri": "https://localhost:8080/",
          "height": 296
        },
        "id": "H9y7XQXLvHTT",
        "outputId": "f5db66b5-cd14-4387-fbea-dd56d926433d"
      },
      "source": [
        "sns.boxplot(data=new_df, x='GGT')"
      ],
      "execution_count": 31,
      "outputs": [
        {
          "output_type": "execute_result",
          "data": {
            "text/plain": [
              "<matplotlib.axes._subplots.AxesSubplot at 0x7f5169ff2c50>"
            ]
          },
          "metadata": {},
          "execution_count": 31
        },
        {
          "output_type": "display_data",
          "data": {
            "image/png": "[encoded data removed]",
            "text/plain": [
              "<Figure size 432x288 with 1 Axes>"
            ]
          },
          "metadata": {
            "needs_background": "light"
          }
        }
      ]
    },
    {
      "cell_type": "code",
      "metadata": {
        "colab": {
          "base_uri": "https://localhost:8080/",
          "height": 623
        },
        "id": "kEvUJslbv8lA",
        "outputId": "78023222-e3de-4616-ffdd-9bf4b078bb2e"
      },
      "source": [
        "plt.figure(figsize=(13,10))\n",
        "sns.boxplot(data=new_df, x='label', y='GGT')"
      ],
      "execution_count": 32,
      "outputs": [
        {
          "output_type": "execute_result",
          "data": {
            "text/plain": [
              "<matplotlib.axes._subplots.AxesSubplot at 0x7f5169f91e90>"
            ]
          },
          "metadata": {},
          "execution_count": 32
        },
        {
          "output_type": "display_data",
          "data": {
            "image/png": "[encoded data removed]",
            "text/plain": [
              "<Figure size 936x720 with 1 Axes>"
            ]
          },
          "metadata": {
            "needs_background": "light"
          }
        }
      ]
    },
    {
      "cell_type": "code",
      "metadata": {
        "colab": {
          "base_uri": "https://localhost:8080/",
          "height": 296
        },
        "id": "heaO5WXmxTeN",
        "outputId": "3dd6aecc-38ae-4813-be10-ac451fd72951"
      },
      "source": [
        "sns.scatterplot(data=new_df, y='label', x='GGT')"
      ],
      "execution_count": 33,
      "outputs": [
        {
          "output_type": "execute_result",
          "data": {
            "text/plain": [
              "<matplotlib.axes._subplots.AxesSubplot at 0x7f5169f83250>"
            ]
          },
          "metadata": {},
          "execution_count": 33
        },
        {
          "output_type": "display_data",
          "data": {
            "image/png": "[encoded data removed]",
            "text/plain": [
              "<Figure size 432x288 with 1 Axes>"
            ]
          },
          "metadata": {
            "needs_background": "light"
          }
        }
      ]
    },
    {
      "cell_type": "code",
      "metadata": {
        "id": "TRUYuvpyyzRP",
        "colab": {
          "base_uri": "https://localhost:8080/"
        },
        "outputId": "223e6491-4938-43b0-ad12-6b7da401a639"
      },
      "source": [
        "new_df[new_df['GGT'] <= 25]['label'].value_counts()"
      ],
      "execution_count": 34,
      "outputs": [
        {
          "output_type": "execute_result",
          "data": {
            "text/plain": [
              "0    335\n",
              "1      6\n",
              "Name: label, dtype: int64"
            ]
          },
          "metadata": {},
          "execution_count": 34
        }
      ]
    },
    {
      "cell_type": "code",
      "metadata": {
        "colab": {
          "base_uri": "https://localhost:8080/"
        },
        "id": "jGxKVMdWr95u",
        "outputId": "894c0134-e63c-4879-b2f8-6f69f2d7003a"
      },
      "source": [
        "new_df[(new_df['GGT'] >= 25)&(new_df['GGT'] <50)]['label'].value_counts()"
      ],
      "execution_count": 35,
      "outputs": [
        {
          "output_type": "execute_result",
          "data": {
            "text/plain": [
              "0    133\n",
              "1     20\n",
              "Name: label, dtype: int64"
            ]
          },
          "metadata": {},
          "execution_count": 35
        }
      ]
    },
    {
      "cell_type": "code",
      "metadata": {
        "colab": {
          "base_uri": "https://localhost:8080/"
        },
        "id": "4rAyf4GqsROF",
        "outputId": "65fd8128-cee7-4d38-baa1-0fa97c74665e"
      },
      "source": [
        "new_df[(new_df['GGT'] >= 50)&(new_df['GGT'] <75)]['label'].value_counts()"
      ],
      "execution_count": 36,
      "outputs": [
        {
          "output_type": "execute_result",
          "data": {
            "text/plain": [
              "0    38\n",
              "1    16\n",
              "Name: label, dtype: int64"
            ]
          },
          "metadata": {},
          "execution_count": 36
        }
      ]
    },
    {
      "cell_type": "code",
      "metadata": {
        "colab": {
          "base_uri": "https://localhost:8080/"
        },
        "id": "cAgtWPAvsiex",
        "outputId": "3b25c2cf-8877-4bab-be44-62b07edccd56"
      },
      "source": [
        "new_df[new_df['GGT'] >= 75]['label'].value_counts()"
      ],
      "execution_count": 37,
      "outputs": [
        {
          "output_type": "execute_result",
          "data": {
            "text/plain": [
              "0    35\n",
              "1    33\n",
              "Name: label, dtype: int64"
            ]
          },
          "metadata": {},
          "execution_count": 37
        }
      ]
    },
    {
      "cell_type": "code",
      "metadata": {
        "id": "Nc3PUv0Qsub6"
      },
      "source": [
        "def convert(n):\n",
        "  if n <75:\n",
        "    return 0\n",
        "  elif n >=75:\n",
        "    return 1\n"
      ],
      "execution_count": 38,
      "outputs": []
    },
    {
      "cell_type": "code",
      "metadata": {
        "id": "Ym1dNnSntlSw"
      },
      "source": [
        "new_df['GGT_C'] = new_df['GGT'].apply(convert)"
      ],
      "execution_count": 39,
      "outputs": []
    },
    {
      "cell_type": "code",
      "metadata": {
        "colab": {
          "base_uri": "https://localhost:8080/"
        },
        "id": "shq4zD8Httel",
        "outputId": "20035587-83c8-43ce-a634-0efe8aff8782"
      },
      "source": [
        "new_df.groupby('GGT_C')['ALP'].mean()"
      ],
      "execution_count": 40,
      "outputs": [
        {
          "output_type": "execute_result",
          "data": {
            "text/plain": [
              "GGT_C\n",
              "0    66.233829\n",
              "1    86.977966\n",
              "Name: ALP, dtype: float64"
            ]
          },
          "metadata": {},
          "execution_count": 40
        }
      ]
    },
    {
      "cell_type": "code",
      "metadata": {
        "id": "wmDJrG-_uDSo"
      },
      "source": [
        "new_df['ALP'] = new_df.groupby('GGT_C')['ALP'].transform(lambda x:x.fillna(x.mean()))"
      ],
      "execution_count": 41,
      "outputs": []
    },
    {
      "cell_type": "code",
      "metadata": {
        "colab": {
          "base_uri": "https://localhost:8080/"
        },
        "id": "1aeKuSJ4vXLP",
        "outputId": "cadce85a-58f8-4c11-9f43-8ec6ba27c7cf"
      },
      "source": [
        "new_df.isnull().sum()"
      ],
      "execution_count": 42,
      "outputs": [
        {
          "output_type": "execute_result",
          "data": {
            "text/plain": [
              "Age       0\n",
              "ALB       1\n",
              "ALP       0\n",
              "ALT       1\n",
              "AST       0\n",
              "BIL       0\n",
              "CHE       0\n",
              "CHOL     10\n",
              "CREA      0\n",
              "GGT       0\n",
              "PROT      1\n",
              "label     0\n",
              "Sex_n     0\n",
              "GGT_C     0\n",
              "dtype: int64"
            ]
          },
          "metadata": {},
          "execution_count": 42
        }
      ]
    },
    {
      "cell_type": "code",
      "metadata": {
        "colab": {
          "base_uri": "https://localhost:8080/"
        },
        "id": "BsFLjYbqwhsY",
        "outputId": "0501429b-9e2b-4e16-f014-bbec9beffef2"
      },
      "source": [
        "new_df.corr()['CHOL']"
      ],
      "execution_count": 43,
      "outputs": [
        {
          "output_type": "execute_result",
          "data": {
            "text/plain": [
              "Age      0.125641\n",
              "ALB      0.208248\n",
              "ALP      0.118527\n",
              "ALT      0.068947\n",
              "AST     -0.209970\n",
              "BIL     -0.180370\n",
              "CHE      0.425456\n",
              "CHOL     1.000000\n",
              "CREA    -0.047744\n",
              "GGT     -0.006895\n",
              "PROT     0.207071\n",
              "label   -0.270496\n",
              "Sex_n   -0.030208\n",
              "GGT_C    0.016759\n",
              "Name: CHOL, dtype: float64"
            ]
          },
          "metadata": {},
          "execution_count": 43
        }
      ]
    },
    {
      "cell_type": "code",
      "metadata": {
        "colab": {
          "base_uri": "https://localhost:8080/",
          "height": 298
        },
        "id": "OYJRZQNnzlmV",
        "outputId": "ffa2143a-d576-4636-d471-3fc99ccb4b02"
      },
      "source": [
        "sns.scatterplot(data=new_df, x='CHE', y='CHOL')"
      ],
      "execution_count": 44,
      "outputs": [
        {
          "output_type": "execute_result",
          "data": {
            "text/plain": [
              "<matplotlib.axes._subplots.AxesSubplot at 0x7f5169e0f550>"
            ]
          },
          "metadata": {},
          "execution_count": 44
        },
        {
          "output_type": "display_data",
          "data": {
            "image/png": "[encoded data removed]",
            "text/plain": [
              "<Figure size 432x288 with 1 Axes>"
            ]
          },
          "metadata": {
            "needs_background": "light"
          }
        }
      ]
    },
    {
      "cell_type": "code",
      "metadata": {
        "colab": {
          "base_uri": "https://localhost:8080/",
          "height": 296
        },
        "id": "PQUWngAIzvUY",
        "outputId": "f8560068-091d-485f-b362-8cbf217546a0"
      },
      "source": [
        "sns.histplot(data=new_df, x = 'CHE')"
      ],
      "execution_count": 45,
      "outputs": [
        {
          "output_type": "execute_result",
          "data": {
            "text/plain": [
              "<matplotlib.axes._subplots.AxesSubplot at 0x7f5169e0f190>"
            ]
          },
          "metadata": {},
          "execution_count": 45
        },
        {
          "output_type": "display_data",
          "data": {
            "image/png": "[encoded data removed]",
            "text/plain": [
              "<Figure size 432x288 with 1 Axes>"
            ]
          },
          "metadata": {
            "needs_background": "light"
          }
        }
      ]
    },
    {
      "cell_type": "code",
      "metadata": {
        "colab": {
          "base_uri": "https://localhost:8080/"
        },
        "id": "3hFPLfD-1UfV",
        "outputId": "78928ad7-318c-4ebe-c8f5-46586230ca37"
      },
      "source": [
        "new_df['CHE'].describe()"
      ],
      "execution_count": 46,
      "outputs": [
        {
          "output_type": "execute_result",
          "data": {
            "text/plain": [
              "count    615.000000\n",
              "mean       8.196634\n",
              "std        2.205657\n",
              "min        1.420000\n",
              "25%        6.935000\n",
              "50%        8.260000\n",
              "75%        9.590000\n",
              "max       16.410000\n",
              "Name: CHE, dtype: float64"
            ]
          },
          "metadata": {},
          "execution_count": 46
        }
      ]
    },
    {
      "cell_type": "code",
      "metadata": {
        "id": "6Xn1Zs583YfL"
      },
      "source": [
        "def convert(n):\n",
        "  if n <6:\n",
        "    return 0\n",
        "  elif n >=6 and n <12:\n",
        "    return 1\n",
        "  elif n>=12:\n",
        "    return 2\n"
      ],
      "execution_count": 47,
      "outputs": []
    },
    {
      "cell_type": "code",
      "metadata": {
        "id": "fYxARH6O4HR7"
      },
      "source": [
        "new_df['CHE_C'] = new_df['CHE'].apply(convert)"
      ],
      "execution_count": 48,
      "outputs": []
    },
    {
      "cell_type": "code",
      "metadata": {
        "colab": {
          "base_uri": "https://localhost:8080/"
        },
        "id": "4j8J9gW64g-C",
        "outputId": "88bda025-1a43-4eb3-a910-4503666f4ec8"
      },
      "source": [
        "new_df['CHOL']"
      ],
      "execution_count": 49,
      "outputs": [
        {
          "output_type": "execute_result",
          "data": {
            "text/plain": [
              "0      3.23\n",
              "1      4.80\n",
              "2      5.20\n",
              "3      4.74\n",
              "4      4.32\n",
              "       ... \n",
              "610    6.30\n",
              "611    3.02\n",
              "612    3.63\n",
              "613    4.20\n",
              "614    5.30\n",
              "Name: CHOL, Length: 615, dtype: float64"
            ]
          },
          "metadata": {},
          "execution_count": 49
        }
      ]
    },
    {
      "cell_type": "code",
      "metadata": {
        "id": "JD-xMFGy34sK"
      },
      "source": [
        "new_df['CHOL']=new_df.groupby('CHE_C')['CHOL'].transform(lambda x:x.fillna(x.mean()))"
      ],
      "execution_count": 50,
      "outputs": []
    },
    {
      "cell_type": "code",
      "metadata": {
        "colab": {
          "base_uri": "https://localhost:8080/"
        },
        "id": "pdN6MqTB4YMI",
        "outputId": "dfd41686-b88f-4a2b-abdc-bd5d8afb3653"
      },
      "source": [
        "new_df.isnull().sum()"
      ],
      "execution_count": 51,
      "outputs": [
        {
          "output_type": "execute_result",
          "data": {
            "text/plain": [
              "Age      0\n",
              "ALB      1\n",
              "ALP      0\n",
              "ALT      1\n",
              "AST      0\n",
              "BIL      0\n",
              "CHE      0\n",
              "CHOL     0\n",
              "CREA     0\n",
              "GGT      0\n",
              "PROT     1\n",
              "label    0\n",
              "Sex_n    0\n",
              "GGT_C    0\n",
              "CHE_C    0\n",
              "dtype: int64"
            ]
          },
          "metadata": {},
          "execution_count": 51
        }
      ]
    },
    {
      "cell_type": "code",
      "metadata": {
        "colab": {
          "base_uri": "https://localhost:8080/",
          "height": 81
        },
        "id": "VROATMmN46Ab",
        "outputId": "14ca58e6-98ff-420f-dc19-a1416ce1b716"
      },
      "source": [
        "new_df[new_df['ALB'].isna()]"
      ],
      "execution_count": 52,
      "outputs": [
        {
          "output_type": "execute_result",
          "data": {
            "text/html": [
              "<div>\n",
              "<style scoped>\n",
              "    .dataframe tbody tr th:only-of-type {\n",
              "        vertical-align: middle;\n",
              "    }\n",
              "\n",
              "    .dataframe tbody tr th {\n",
              "        vertical-align: top;\n",
              "    }\n",
              "\n",
              "    .dataframe thead th {\n",
              "        text-align: right;\n",
              "    }\n",
              "</style>\n",
              "<table border=\"1\" class=\"dataframe\">\n",
              "  <thead>\n",
              "    <tr style=\"text-align: right;\">\n",
              "      <th></th>\n",
              "      <th>Age</th>\n",
              "      <th>ALB</th>\n",
              "      <th>ALP</th>\n",
              "      <th>ALT</th>\n",
              "      <th>AST</th>\n",
              "      <th>BIL</th>\n",
              "      <th>CHE</th>\n",
              "      <th>CHOL</th>\n",
              "      <th>CREA</th>\n",
              "      <th>GGT</th>\n",
              "      <th>PROT</th>\n",
              "      <th>label</th>\n",
              "      <th>Sex_n</th>\n",
              "      <th>GGT_C</th>\n",
              "      <th>CHE_C</th>\n",
              "    </tr>\n",
              "  </thead>\n",
              "  <tbody>\n",
              "    <tr>\n",
              "      <th>603</th>\n",
              "      <td>65</td>\n",
              "      <td>NaN</td>\n",
              "      <td>86.977966</td>\n",
              "      <td>40.0</td>\n",
              "      <td>54.0</td>\n",
              "      <td>13.0</td>\n",
              "      <td>7.5</td>\n",
              "      <td>5.462337</td>\n",
              "      <td>70.0</td>\n",
              "      <td>107.0</td>\n",
              "      <td>79.0</td>\n",
              "      <td>1</td>\n",
              "      <td>1</td>\n",
              "      <td>1</td>\n",
              "      <td>1</td>\n",
              "    </tr>\n",
              "  </tbody>\n",
              "</table>\n",
              "</div>"
            ],
            "text/plain": [
              "     Age  ALB        ALP   ALT   AST  ...  PROT  label  Sex_n  GGT_C  CHE_C\n",
              "603   65  NaN  86.977966  40.0  54.0  ...  79.0      1      1      1      1\n",
              "\n",
              "[1 rows x 15 columns]"
            ]
          },
          "metadata": {},
          "execution_count": 52
        }
      ]
    },
    {
      "cell_type": "code",
      "metadata": {
        "colab": {
          "base_uri": "https://localhost:8080/",
          "height": 81
        },
        "id": "s78hX1bj5t8s",
        "outputId": "3ace3dc2-b6a4-4406-faec-1aee3ee8e24a"
      },
      "source": [
        "new_df[new_df['PROT'].isna()]"
      ],
      "execution_count": 53,
      "outputs": [
        {
          "output_type": "execute_result",
          "data": {
            "text/html": [
              "<div>\n",
              "<style scoped>\n",
              "    .dataframe tbody tr th:only-of-type {\n",
              "        vertical-align: middle;\n",
              "    }\n",
              "\n",
              "    .dataframe tbody tr th {\n",
              "        vertical-align: top;\n",
              "    }\n",
              "\n",
              "    .dataframe thead th {\n",
              "        text-align: right;\n",
              "    }\n",
              "</style>\n",
              "<table border=\"1\" class=\"dataframe\">\n",
              "  <thead>\n",
              "    <tr style=\"text-align: right;\">\n",
              "      <th></th>\n",
              "      <th>Age</th>\n",
              "      <th>ALB</th>\n",
              "      <th>ALP</th>\n",
              "      <th>ALT</th>\n",
              "      <th>AST</th>\n",
              "      <th>BIL</th>\n",
              "      <th>CHE</th>\n",
              "      <th>CHOL</th>\n",
              "      <th>CREA</th>\n",
              "      <th>GGT</th>\n",
              "      <th>PROT</th>\n",
              "      <th>label</th>\n",
              "      <th>Sex_n</th>\n",
              "      <th>GGT_C</th>\n",
              "      <th>CHE_C</th>\n",
              "    </tr>\n",
              "  </thead>\n",
              "  <tbody>\n",
              "    <tr>\n",
              "      <th>590</th>\n",
              "      <td>46</td>\n",
              "      <td>20.0</td>\n",
              "      <td>86.977966</td>\n",
              "      <td>62.0</td>\n",
              "      <td>113.0</td>\n",
              "      <td>254.0</td>\n",
              "      <td>1.48</td>\n",
              "      <td>4.5585</td>\n",
              "      <td>114.0</td>\n",
              "      <td>138.0</td>\n",
              "      <td>NaN</td>\n",
              "      <td>1</td>\n",
              "      <td>1</td>\n",
              "      <td>1</td>\n",
              "      <td>0</td>\n",
              "    </tr>\n",
              "  </tbody>\n",
              "</table>\n",
              "</div>"
            ],
            "text/plain": [
              "     Age   ALB        ALP   ALT    AST  ...  PROT  label  Sex_n  GGT_C  CHE_C\n",
              "590   46  20.0  86.977966  62.0  113.0  ...   NaN      1      1      1      0\n",
              "\n",
              "[1 rows x 15 columns]"
            ]
          },
          "metadata": {},
          "execution_count": 53
        }
      ]
    },
    {
      "cell_type": "code",
      "metadata": {
        "colab": {
          "base_uri": "https://localhost:8080/"
        },
        "id": "4hRBoOZq6FzO",
        "outputId": "0682f187-c4f5-4a91-81cc-2abea4e8db3c"
      },
      "source": [
        "new_df.groupby('label')['ALB'].median()"
      ],
      "execution_count": 54,
      "outputs": [
        {
          "output_type": "execute_result",
          "data": {
            "text/plain": [
              "label\n",
              "0    42.1\n",
              "1    39.5\n",
              "Name: ALB, dtype: float64"
            ]
          },
          "metadata": {},
          "execution_count": 54
        }
      ]
    },
    {
      "cell_type": "code",
      "metadata": {
        "id": "mhm59KSm6d1V"
      },
      "source": [
        "new_df['ALB']=new_df['ALB'].fillna(39)"
      ],
      "execution_count": 55,
      "outputs": []
    },
    {
      "cell_type": "code",
      "metadata": {
        "colab": {
          "base_uri": "https://localhost:8080/"
        },
        "id": "M-cLynfT613D",
        "outputId": "46977fae-7397-4b2a-90cd-3dc6839f2755"
      },
      "source": [
        "new_df.groupby('label')['PROT'].median()"
      ],
      "execution_count": 56,
      "outputs": [
        {
          "output_type": "execute_result",
          "data": {
            "text/plain": [
              "label\n",
              "0    72.1\n",
              "1    72.9\n",
              "Name: PROT, dtype: float64"
            ]
          },
          "metadata": {},
          "execution_count": 56
        }
      ]
    },
    {
      "cell_type": "code",
      "metadata": {
        "id": "ZaAH-6cw7tUT"
      },
      "source": [
        "new_df['PROT']=new_df['PROT'].fillna(73)"
      ],
      "execution_count": 57,
      "outputs": []
    },
    {
      "cell_type": "code",
      "metadata": {
        "colab": {
          "base_uri": "https://localhost:8080/"
        },
        "id": "mJELLCtE72b8",
        "outputId": "e2e981f9-8875-4bd1-a4c9-20710b0dfb79"
      },
      "source": [
        "new_df.isnull().sum()"
      ],
      "execution_count": 58,
      "outputs": [
        {
          "output_type": "execute_result",
          "data": {
            "text/plain": [
              "Age      0\n",
              "ALB      0\n",
              "ALP      0\n",
              "ALT      1\n",
              "AST      0\n",
              "BIL      0\n",
              "CHE      0\n",
              "CHOL     0\n",
              "CREA     0\n",
              "GGT      0\n",
              "PROT     0\n",
              "label    0\n",
              "Sex_n    0\n",
              "GGT_C    0\n",
              "CHE_C    0\n",
              "dtype: int64"
            ]
          },
          "metadata": {},
          "execution_count": 58
        }
      ]
    },
    {
      "cell_type": "code",
      "metadata": {
        "id": "-OVlKRf174vg"
      },
      "source": [
        "new_df['ALT']=new_df['ALT'].fillna(new_df['ALT'].median())"
      ],
      "execution_count": 59,
      "outputs": []
    },
    {
      "cell_type": "code",
      "metadata": {
        "colab": {
          "base_uri": "https://localhost:8080/",
          "height": 206
        },
        "id": "odK2yBMX8BFO",
        "outputId": "fdbb76e4-ae2d-4478-9ec2-5b29c4c5a43f"
      },
      "source": [
        "new_df.head()"
      ],
      "execution_count": 60,
      "outputs": [
        {
          "output_type": "execute_result",
          "data": {
            "text/html": [
              "<div>\n",
              "<style scoped>\n",
              "    .dataframe tbody tr th:only-of-type {\n",
              "        vertical-align: middle;\n",
              "    }\n",
              "\n",
              "    .dataframe tbody tr th {\n",
              "        vertical-align: top;\n",
              "    }\n",
              "\n",
              "    .dataframe thead th {\n",
              "        text-align: right;\n",
              "    }\n",
              "</style>\n",
              "<table border=\"1\" class=\"dataframe\">\n",
              "  <thead>\n",
              "    <tr style=\"text-align: right;\">\n",
              "      <th></th>\n",
              "      <th>Age</th>\n",
              "      <th>ALB</th>\n",
              "      <th>ALP</th>\n",
              "      <th>ALT</th>\n",
              "      <th>AST</th>\n",
              "      <th>BIL</th>\n",
              "      <th>CHE</th>\n",
              "      <th>CHOL</th>\n",
              "      <th>CREA</th>\n",
              "      <th>GGT</th>\n",
              "      <th>PROT</th>\n",
              "      <th>label</th>\n",
              "      <th>Sex_n</th>\n",
              "      <th>GGT_C</th>\n",
              "      <th>CHE_C</th>\n",
              "    </tr>\n",
              "  </thead>\n",
              "  <tbody>\n",
              "    <tr>\n",
              "      <th>0</th>\n",
              "      <td>32</td>\n",
              "      <td>38.5</td>\n",
              "      <td>52.5</td>\n",
              "      <td>7.7</td>\n",
              "      <td>22.1</td>\n",
              "      <td>7.5</td>\n",
              "      <td>6.93</td>\n",
              "      <td>3.23</td>\n",
              "      <td>106.0</td>\n",
              "      <td>12.1</td>\n",
              "      <td>69.0</td>\n",
              "      <td>0</td>\n",
              "      <td>1</td>\n",
              "      <td>0</td>\n",
              "      <td>1</td>\n",
              "    </tr>\n",
              "    <tr>\n",
              "      <th>1</th>\n",
              "      <td>32</td>\n",
              "      <td>38.5</td>\n",
              "      <td>70.3</td>\n",
              "      <td>18.0</td>\n",
              "      <td>24.7</td>\n",
              "      <td>3.9</td>\n",
              "      <td>11.17</td>\n",
              "      <td>4.80</td>\n",
              "      <td>74.0</td>\n",
              "      <td>15.6</td>\n",
              "      <td>76.5</td>\n",
              "      <td>0</td>\n",
              "      <td>1</td>\n",
              "      <td>0</td>\n",
              "      <td>1</td>\n",
              "    </tr>\n",
              "    <tr>\n",
              "      <th>2</th>\n",
              "      <td>32</td>\n",
              "      <td>46.9</td>\n",
              "      <td>74.7</td>\n",
              "      <td>36.2</td>\n",
              "      <td>52.6</td>\n",
              "      <td>6.1</td>\n",
              "      <td>8.84</td>\n",
              "      <td>5.20</td>\n",
              "      <td>86.0</td>\n",
              "      <td>33.2</td>\n",
              "      <td>79.3</td>\n",
              "      <td>0</td>\n",
              "      <td>1</td>\n",
              "      <td>0</td>\n",
              "      <td>1</td>\n",
              "    </tr>\n",
              "    <tr>\n",
              "      <th>3</th>\n",
              "      <td>32</td>\n",
              "      <td>43.2</td>\n",
              "      <td>52.0</td>\n",
              "      <td>30.6</td>\n",
              "      <td>22.6</td>\n",
              "      <td>18.9</td>\n",
              "      <td>7.33</td>\n",
              "      <td>4.74</td>\n",
              "      <td>80.0</td>\n",
              "      <td>33.8</td>\n",
              "      <td>75.7</td>\n",
              "      <td>0</td>\n",
              "      <td>1</td>\n",
              "      <td>0</td>\n",
              "      <td>1</td>\n",
              "    </tr>\n",
              "    <tr>\n",
              "      <th>4</th>\n",
              "      <td>32</td>\n",
              "      <td>39.2</td>\n",
              "      <td>74.1</td>\n",
              "      <td>32.6</td>\n",
              "      <td>24.8</td>\n",
              "      <td>9.6</td>\n",
              "      <td>9.15</td>\n",
              "      <td>4.32</td>\n",
              "      <td>76.0</td>\n",
              "      <td>29.9</td>\n",
              "      <td>68.7</td>\n",
              "      <td>0</td>\n",
              "      <td>1</td>\n",
              "      <td>0</td>\n",
              "      <td>1</td>\n",
              "    </tr>\n",
              "  </tbody>\n",
              "</table>\n",
              "</div>"
            ],
            "text/plain": [
              "   Age   ALB   ALP   ALT   AST   BIL  ...   GGT  PROT  label  Sex_n  GGT_C  CHE_C\n",
              "0   32  38.5  52.5   7.7  22.1   7.5  ...  12.1  69.0      0      1      0      1\n",
              "1   32  38.5  70.3  18.0  24.7   3.9  ...  15.6  76.5      0      1      0      1\n",
              "2   32  46.9  74.7  36.2  52.6   6.1  ...  33.2  79.3      0      1      0      1\n",
              "3   32  43.2  52.0  30.6  22.6  18.9  ...  33.8  75.7      0      1      0      1\n",
              "4   32  39.2  74.1  32.6  24.8   9.6  ...  29.9  68.7      0      1      0      1\n",
              "\n",
              "[5 rows x 15 columns]"
            ]
          },
          "metadata": {},
          "execution_count": 60
        }
      ]
    },
    {
      "cell_type": "code",
      "metadata": {
        "id": "JkxWrIXm86C7"
      },
      "source": [
        "X = new_df.drop(['GGT_C', 'CHE_C', 'label'], axis=1)"
      ],
      "execution_count": 61,
      "outputs": []
    },
    {
      "cell_type": "code",
      "metadata": {
        "id": "MyPqX92B9Oo2"
      },
      "source": [
        "y= new_df['label']"
      ],
      "execution_count": 62,
      "outputs": []
    },
    {
      "cell_type": "code",
      "metadata": {
        "id": "lM7w1jBg9RQd"
      },
      "source": [
        "from sklearn.model_selection import train_test_split\n",
        "from sklearn.preprocessing import StandardScaler"
      ],
      "execution_count": 63,
      "outputs": []
    },
    {
      "cell_type": "code",
      "metadata": {
        "id": "6d6PBX2D9dOr"
      },
      "source": [
        "X_train, X_test, y_train, y_test = train_test_split(X, y, test_size=0.25, random_state=42)"
      ],
      "execution_count": 64,
      "outputs": []
    },
    {
      "cell_type": "code",
      "metadata": {
        "id": "xFMSQQgo9ng7"
      },
      "source": [
        "scaler = StandardScaler()"
      ],
      "execution_count": 65,
      "outputs": []
    },
    {
      "cell_type": "code",
      "metadata": {
        "id": "q61tPwCr9pnB"
      },
      "source": [
        "X_scaled = scaler.fit_transform(X_train)\n",
        "X_test_scaled= scaler.transform(X_test)"
      ],
      "execution_count": 66,
      "outputs": []
    },
    {
      "cell_type": "code",
      "metadata": {
        "id": "S2cZ1X019yq_"
      },
      "source": [
        "from sklearn.ensemble import RandomForestClassifier"
      ],
      "execution_count": 67,
      "outputs": []
    },
    {
      "cell_type": "code",
      "metadata": {
        "id": "Doy2683W957D"
      },
      "source": [
        "rf = RandomForestClassifier()"
      ],
      "execution_count": 91,
      "outputs": []
    },
    {
      "cell_type": "code",
      "metadata": {
        "id": "W5tf17GKn7Rw"
      },
      "source": [
        "param_grid = {'n_estimators':[100,200,300,400,500,600],\n",
        "             'criterion':['gini']}"
      ],
      "execution_count": 92,
      "outputs": []
    },
    {
      "cell_type": "code",
      "metadata": {
        "id": "WnW2YujVqFNH"
      },
      "source": [
        "from sklearn.model_selection import GridSearchCV"
      ],
      "execution_count": 93,
      "outputs": []
    },
    {
      "cell_type": "code",
      "metadata": {
        "id": "i3u4pLtKqVJv"
      },
      "source": [
        "grid = GridSearchCV(rf, param_grid=param_grid, cv=5 )"
      ],
      "execution_count": 94,
      "outputs": []
    },
    {
      "cell_type": "code",
      "metadata": {
        "colab": {
          "base_uri": "https://localhost:8080/"
        },
        "id": "bm6tPh6s9-NW",
        "outputId": "5d3aeb2a-1309-4603-c9ea-00a92f26c7f2"
      },
      "source": [
        "grid.fit(X_train, y_train)"
      ],
      "execution_count": 95,
      "outputs": [
        {
          "output_type": "execute_result",
          "data": {
            "text/plain": [
              "GridSearchCV(cv=5, estimator=RandomForestClassifier(),\n",
              "             param_grid={'criterion': ['gini'],\n",
              "                         'n_estimators': [100, 200, 300, 400, 500, 600]})"
            ]
          },
          "metadata": {},
          "execution_count": 95
        }
      ]
    },
    {
      "cell_type": "code",
      "metadata": {
        "colab": {
          "base_uri": "https://localhost:8080/"
        },
        "id": "eEXXvPeErE-C",
        "outputId": "da984eea-d0d6-4615-8b57-96f7942bad77"
      },
      "source": [
        "grid.best_params_"
      ],
      "execution_count": 96,
      "outputs": [
        {
          "output_type": "execute_result",
          "data": {
            "text/plain": [
              "{'criterion': 'gini', 'n_estimators': 300}"
            ]
          },
          "metadata": {},
          "execution_count": 96
        }
      ]
    },
    {
      "cell_type": "code",
      "metadata": {
        "colab": {
          "base_uri": "https://localhost:8080/"
        },
        "id": "SHIHh7xHrEzK",
        "outputId": "77bb1297-2a0a-4a21-f7b1-654083f98162"
      },
      "source": [
        "grid.cv_results_"
      ],
      "execution_count": 97,
      "outputs": [
        {
          "output_type": "execute_result",
          "data": {
            "text/plain": [
              "{'mean_fit_time': array([0.17692842, 0.33498731, 0.49547544, 0.6265955 , 0.79264588,\n",
              "        0.97264633]),\n",
              " 'mean_score_time': array([0.01320801, 0.0240777 , 0.03608336, 0.0467134 , 0.0563765 ,\n",
              "        0.08004823]),\n",
              " 'mean_test_score': array([0.96528752, 0.96961197, 0.96963534, 0.96746143, 0.96528752,\n",
              "        0.96963534]),\n",
              " 'param_criterion': masked_array(data=['gini', 'gini', 'gini', 'gini', 'gini', 'gini'],\n",
              "              mask=[False, False, False, False, False, False],\n",
              "        fill_value='?',\n",
              "             dtype=object),\n",
              " 'param_n_estimators': masked_array(data=[100, 200, 300, 400, 500, 600],\n",
              "              mask=[False, False, False, False, False, False],\n",
              "        fill_value='?',\n",
              "             dtype=object),\n",
              " 'params': [{'criterion': 'gini', 'n_estimators': 100},\n",
              "  {'criterion': 'gini', 'n_estimators': 200},\n",
              "  {'criterion': 'gini', 'n_estimators': 300},\n",
              "  {'criterion': 'gini', 'n_estimators': 400},\n",
              "  {'criterion': 'gini', 'n_estimators': 500},\n",
              "  {'criterion': 'gini', 'n_estimators': 600}],\n",
              " 'rank_test_score': array([5, 3, 1, 4, 5, 1], dtype=int32),\n",
              " 'split0_test_score': array([0.96774194, 0.97849462, 0.96774194, 0.96774194, 0.96774194,\n",
              "        0.96774194]),\n",
              " 'split1_test_score': array([0.93478261, 0.95652174, 0.95652174, 0.95652174, 0.94565217,\n",
              "        0.95652174]),\n",
              " 'split2_test_score': array([0.9673913, 0.9673913, 0.9673913, 0.9673913, 0.9673913, 0.9673913]),\n",
              " 'split3_test_score': array([0.97826087, 0.9673913 , 0.9673913 , 0.9673913 , 0.9673913 ,\n",
              "        0.9673913 ]),\n",
              " 'split4_test_score': array([0.97826087, 0.97826087, 0.98913043, 0.97826087, 0.97826087,\n",
              "        0.98913043]),\n",
              " 'std_fit_time': array([0.00871553, 0.01258706, 0.01497914, 0.01154111, 0.01435829,\n",
              "        0.02123849]),\n",
              " 'std_score_time': array([0.00156031, 0.00154443, 0.00499271, 0.00814275, 0.00800672,\n",
              "        0.03750215]),\n",
              " 'std_test_score': array([0.01598509, 0.0081844 , 0.01063656, 0.00687595, 0.01066518,\n",
              "        0.01063656])}"
            ]
          },
          "metadata": {},
          "execution_count": 97
        }
      ]
    },
    {
      "cell_type": "code",
      "metadata": {
        "id": "6JKOJT9k-Gs-"
      },
      "source": [
        "prediction = grid.predict(X_test)"
      ],
      "execution_count": 98,
      "outputs": []
    },
    {
      "cell_type": "code",
      "metadata": {
        "id": "VMm9L0WQ-I7w"
      },
      "source": [
        "from sklearn.metrics import classification_report, accuracy_score, confusion_matrix"
      ],
      "execution_count": 99,
      "outputs": []
    },
    {
      "cell_type": "code",
      "metadata": {
        "colab": {
          "base_uri": "https://localhost:8080/"
        },
        "id": "qT9XQFPX-Z8c",
        "outputId": "7e376e2e-179b-4a12-ffde-37237d37373d"
      },
      "source": [
        "print(classification_report(y_test, prediction))"
      ],
      "execution_count": 100,
      "outputs": [
        {
          "output_type": "stream",
          "name": "stdout",
          "text": [
            "              precision    recall  f1-score   support\n",
            "\n",
            "           0       0.94      0.99      0.97       128\n",
            "           1       0.95      0.69      0.80        26\n",
            "\n",
            "    accuracy                           0.94       154\n",
            "   macro avg       0.94      0.84      0.88       154\n",
            "weighted avg       0.94      0.94      0.94       154\n",
            "\n"
          ]
        }
      ]
    },
    {
      "cell_type": "code",
      "source": [
        "print(confusion_matrix(y_test,prediction))"
      ],
      "metadata": {
        "id": "9n39I1L54aSR",
        "outputId": "eef4d5d6-802e-4749-82b6-f9023330aa93",
        "colab": {
          "base_uri": "https://localhost:8080/"
        }
      },
      "execution_count": 101,
      "outputs": [
        {
          "output_type": "stream",
          "name": "stdout",
          "text": [
            "[[127   1]\n",
            " [  8  18]]\n"
          ]
        }
      ]
    },
    {
      "cell_type": "code",
      "metadata": {
        "id": "YvmayHRq-c4J"
      },
      "source": [
        "from sklearn.ensemble import GradientBoostingClassifier"
      ],
      "execution_count": 102,
      "outputs": []
    },
    {
      "cell_type": "code",
      "metadata": {
        "id": "Ikpwt_rhum6X"
      },
      "source": [
        "gb = GradientBoostingClassifier()"
      ],
      "execution_count": 103,
      "outputs": []
    },
    {
      "cell_type": "code",
      "metadata": {
        "id": "usyycj5xustr"
      },
      "source": [
        "param_grid = {'n_estimators':[100,200,300,400], \n",
        "              'learning_rate':[0.1,0.2,0.3],\n",
        "              'max_depth':[1,2,3,4,5]}"
      ],
      "execution_count": 104,
      "outputs": []
    },
    {
      "cell_type": "code",
      "metadata": {
        "id": "AlI-zABZv29M"
      },
      "source": [
        "grid = GridSearchCV(gb, param_grid=param_grid,cv=5,n_jobs=-1)"
      ],
      "execution_count": 105,
      "outputs": []
    },
    {
      "cell_type": "code",
      "metadata": {
        "colab": {
          "base_uri": "https://localhost:8080/"
        },
        "id": "3RLIXLNtwCGU",
        "outputId": "1a39c316-ebc2-4294-e5fe-65fa38d70c11"
      },
      "source": [
        "grid.fit(X_train, y_train)"
      ],
      "execution_count": 106,
      "outputs": [
        {
          "output_type": "execute_result",
          "data": {
            "text/plain": [
              "GridSearchCV(cv=5, estimator=GradientBoostingClassifier(), n_jobs=-1,\n",
              "             param_grid={'learning_rate': [0.1, 0.2, 0.3],\n",
              "                         'max_depth': [1, 2, 3, 4, 5],\n",
              "                         'n_estimators': [100, 200, 300, 400]})"
            ]
          },
          "metadata": {},
          "execution_count": 106
        }
      ]
    },
    {
      "cell_type": "code",
      "metadata": {
        "colab": {
          "base_uri": "https://localhost:8080/"
        },
        "id": "qwc_P4J1wHEg",
        "outputId": "a4095983-2008-4fee-b322-22564ba0ad60"
      },
      "source": [
        "grid.best_estimator_"
      ],
      "execution_count": 107,
      "outputs": [
        {
          "output_type": "execute_result",
          "data": {
            "text/plain": [
              "GradientBoostingClassifier(max_depth=5, n_estimators=400)"
            ]
          },
          "metadata": {},
          "execution_count": 107
        }
      ]
    },
    {
      "cell_type": "code",
      "metadata": {
        "colab": {
          "base_uri": "https://localhost:8080/"
        },
        "id": "elaWf9eCxP3O",
        "outputId": "2361454c-cd82-4d15-a459-dacb8e87a09a"
      },
      "source": [
        "grid.best_score_"
      ],
      "execution_count": 108,
      "outputs": [
        {
          "output_type": "execute_result",
          "data": {
            "text/plain": [
              "0.9739597942964002"
            ]
          },
          "metadata": {},
          "execution_count": 108
        }
      ]
    },
    {
      "cell_type": "code",
      "metadata": {
        "id": "B15bPKvmwhHy"
      },
      "source": [
        "predictions = grid.predict(X_test)"
      ],
      "execution_count": 109,
      "outputs": []
    },
    {
      "cell_type": "code",
      "metadata": {
        "colab": {
          "base_uri": "https://localhost:8080/"
        },
        "id": "tA2wmifdxaQE",
        "outputId": "fffa3378-c2d2-4d7c-c854-8d050d394af5"
      },
      "source": [
        "accuracy_score(y_test, predictions)"
      ],
      "execution_count": 110,
      "outputs": [
        {
          "output_type": "execute_result",
          "data": {
            "text/plain": [
              "0.948051948051948"
            ]
          },
          "metadata": {},
          "execution_count": 110
        }
      ]
    },
    {
      "cell_type": "code",
      "metadata": {
        "colab": {
          "base_uri": "https://localhost:8080/"
        },
        "id": "sMAO5XbuwnWw",
        "outputId": "888500e1-5071-492f-914e-19d4fb049882"
      },
      "source": [
        "print(classification_report(y_test, predictions))"
      ],
      "execution_count": 111,
      "outputs": [
        {
          "output_type": "stream",
          "name": "stdout",
          "text": [
            "              precision    recall  f1-score   support\n",
            "\n",
            "           0       0.95      0.99      0.97       128\n",
            "           1       0.95      0.73      0.83        26\n",
            "\n",
            "    accuracy                           0.95       154\n",
            "   macro avg       0.95      0.86      0.90       154\n",
            "weighted avg       0.95      0.95      0.95       154\n",
            "\n"
          ]
        }
      ]
    },
    {
      "cell_type": "code",
      "metadata": {
        "colab": {
          "base_uri": "https://localhost:8080/"
        },
        "id": "ZkJ-N5Tjw9PP",
        "outputId": "c03d0040-1261-4787-dad6-587c439d807b"
      },
      "source": [
        "print(confusion_matrix(y_test,predictions))"
      ],
      "execution_count": 112,
      "outputs": [
        {
          "output_type": "stream",
          "name": "stdout",
          "text": [
            "[[127   1]\n",
            " [  7  19]]\n"
          ]
        }
      ]
    },
    {
      "cell_type": "code",
      "metadata": {
        "id": "i7WJSRCK0j_V"
      },
      "source": [
        "from sklearn.svm import SVC"
      ],
      "execution_count": 113,
      "outputs": []
    },
    {
      "cell_type": "code",
      "source": [
        "svc = SVC()"
      ],
      "metadata": {
        "id": "Wp6qjyQU5bNh"
      },
      "execution_count": 114,
      "outputs": []
    },
    {
      "cell_type": "code",
      "source": [
        "param_grid = {'C':[0.01,0.1,0.5,1,5,10,100],\n",
        "              'kernel':['linear','poly','rbf'],\n",
        "              'gamma':['auto','scale'],\n",
        "              'degree':[3,4]}"
      ],
      "metadata": {
        "id": "BuohGAtd5pkO"
      },
      "execution_count": 116,
      "outputs": []
    },
    {
      "cell_type": "code",
      "source": [
        "grid = GridSearchCV(svc, param_grid=param_grid, n_jobs=-1)"
      ],
      "metadata": {
        "id": "QczFjSqh7SUM"
      },
      "execution_count": 117,
      "outputs": []
    },
    {
      "cell_type": "code",
      "source": [
        "grid.fit(X_scaled,y_train)"
      ],
      "metadata": {
        "id": "NsLPphp8BhUr",
        "outputId": "80b597b3-a8c5-4c9e-9c62-c0219fb06c1d",
        "colab": {
          "base_uri": "https://localhost:8080/"
        }
      },
      "execution_count": 118,
      "outputs": [
        {
          "output_type": "execute_result",
          "data": {
            "text/plain": [
              "GridSearchCV(estimator=SVC(), n_jobs=-1,\n",
              "             param_grid={'C': [0.01, 0.1, 0.5, 1, 5, 10, 100], 'degree': [3, 4],\n",
              "                         'gamma': ['auto', 'scale'],\n",
              "                         'kernel': ['linear', 'poly', 'rbf']})"
            ]
          },
          "metadata": {},
          "execution_count": 118
        }
      ]
    },
    {
      "cell_type": "code",
      "source": [
        "grid.best_estimator_"
      ],
      "metadata": {
        "id": "r9xc6XlVBs7f",
        "outputId": "4a61cb34-fca9-450c-bf92-c80c2877df8c",
        "colab": {
          "base_uri": "https://localhost:8080/"
        }
      },
      "execution_count": 119,
      "outputs": [
        {
          "output_type": "execute_result",
          "data": {
            "text/plain": [
              "SVC(C=5, gamma='auto')"
            ]
          },
          "metadata": {},
          "execution_count": 119
        }
      ]
    },
    {
      "cell_type": "code",
      "source": [
        "grid.best_params_"
      ],
      "metadata": {
        "id": "oZnL6MpjBvsu",
        "outputId": "4d7a7472-47bb-4c76-cd02-f0d540a60727",
        "colab": {
          "base_uri": "https://localhost:8080/"
        }
      },
      "execution_count": 120,
      "outputs": [
        {
          "output_type": "execute_result",
          "data": {
            "text/plain": [
              "{'C': 5, 'degree': 3, 'gamma': 'auto', 'kernel': 'rbf'}"
            ]
          },
          "metadata": {},
          "execution_count": 120
        }
      ]
    },
    {
      "cell_type": "code",
      "source": [
        "grid.best_score_"
      ],
      "metadata": {
        "id": "rXPXYgjUCA-M",
        "outputId": "846b37a9-84f3-495d-ae56-d9213efc3b38",
        "colab": {
          "base_uri": "https://localhost:8080/"
        }
      },
      "execution_count": 122,
      "outputs": [
        {
          "output_type": "execute_result",
          "data": {
            "text/plain": [
              "0.9739831697054699"
            ]
          },
          "metadata": {},
          "execution_count": 122
        }
      ]
    },
    {
      "cell_type": "code",
      "source": [
        "pred = grid.predict(X_test_scaled)"
      ],
      "metadata": {
        "id": "P_IV4dwABxZe"
      },
      "execution_count": 121,
      "outputs": []
    },
    {
      "cell_type": "code",
      "source": [
        "print(classification_report(y_test, pred))"
      ],
      "metadata": {
        "id": "MNJ18Z-HB7_h",
        "outputId": "a05a49e6-350a-4c75-af8f-ebf31a264f01",
        "colab": {
          "base_uri": "https://localhost:8080/"
        }
      },
      "execution_count": 123,
      "outputs": [
        {
          "output_type": "stream",
          "name": "stdout",
          "text": [
            "              precision    recall  f1-score   support\n",
            "\n",
            "           0       0.94      0.97      0.95       128\n",
            "           1       0.82      0.69      0.75        26\n",
            "\n",
            "    accuracy                           0.92       154\n",
            "   macro avg       0.88      0.83      0.85       154\n",
            "weighted avg       0.92      0.92      0.92       154\n",
            "\n"
          ]
        }
      ]
    },
    {
      "cell_type": "code",
      "source": [
        ""
      ],
      "metadata": {
        "id": "W23Q0vnrCGOI"
      },
      "execution_count": null,
      "outputs": []
    }
  ]
}